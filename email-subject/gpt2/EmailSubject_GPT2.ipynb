{
  "nbformat": 4,
  "nbformat_minor": 0,
  "metadata": {
    "colab": {
      "provenance": [],
      "gpuType": "T4"
    },
    "kernelspec": {
      "name": "python3",
      "display_name": "Python 3"
    },
    "language_info": {
      "name": "python"
    },
    "accelerator": "GPU"
  },
  "cells": [
    {
      "cell_type": "code",
      "source": [
        "!pip install accelerate -U\n",
        "#!pip install evaluate"
      ],
      "metadata": {
        "colab": {
          "base_uri": "https://localhost:8080/"
        },
        "id": "D8_ccAfn99Ls",
        "outputId": "dabc7e4f-5034-4ae2-cb10-26fc62f793ef"
      },
      "execution_count": null,
      "outputs": [
        {
          "output_type": "stream",
          "name": "stdout",
          "text": [
            "Requirement already satisfied: accelerate in /usr/local/lib/python3.10/dist-packages (0.32.1)\n",
            "Requirement already satisfied: numpy<2.0.0,>=1.17 in /usr/local/lib/python3.10/dist-packages (from accelerate) (1.25.2)\n",
            "Requirement already satisfied: packaging>=20.0 in /usr/local/lib/python3.10/dist-packages (from accelerate) (24.1)\n",
            "Requirement already satisfied: psutil in /usr/local/lib/python3.10/dist-packages (from accelerate) (5.9.5)\n",
            "Requirement already satisfied: pyyaml in /usr/local/lib/python3.10/dist-packages (from accelerate) (6.0.1)\n",
            "Requirement already satisfied: torch>=1.10.0 in /usr/local/lib/python3.10/dist-packages (from accelerate) (2.3.1+cu121)\n",
            "Requirement already satisfied: huggingface-hub in /usr/local/lib/python3.10/dist-packages (from accelerate) (0.23.5)\n",
            "Requirement already satisfied: safetensors>=0.3.1 in /usr/local/lib/python3.10/dist-packages (from accelerate) (0.4.3)\n",
            "Requirement already satisfied: filelock in /usr/local/lib/python3.10/dist-packages (from torch>=1.10.0->accelerate) (3.15.4)\n",
            "Requirement already satisfied: typing-extensions>=4.8.0 in /usr/local/lib/python3.10/dist-packages (from torch>=1.10.0->accelerate) (4.12.2)\n",
            "Requirement already satisfied: sympy in /usr/local/lib/python3.10/dist-packages (from torch>=1.10.0->accelerate) (1.13.0)\n",
            "Requirement already satisfied: networkx in /usr/local/lib/python3.10/dist-packages (from torch>=1.10.0->accelerate) (3.3)\n",
            "Requirement already satisfied: jinja2 in /usr/local/lib/python3.10/dist-packages (from torch>=1.10.0->accelerate) (3.1.4)\n",
            "Requirement already satisfied: fsspec in /usr/local/lib/python3.10/dist-packages (from torch>=1.10.0->accelerate) (2023.6.0)\n",
            "Requirement already satisfied: nvidia-cuda-nvrtc-cu12==12.1.105 in /usr/local/lib/python3.10/dist-packages (from torch>=1.10.0->accelerate) (12.1.105)\n",
            "Requirement already satisfied: nvidia-cuda-runtime-cu12==12.1.105 in /usr/local/lib/python3.10/dist-packages (from torch>=1.10.0->accelerate) (12.1.105)\n",
            "Requirement already satisfied: nvidia-cuda-cupti-cu12==12.1.105 in /usr/local/lib/python3.10/dist-packages (from torch>=1.10.0->accelerate) (12.1.105)\n",
            "Requirement already satisfied: nvidia-cudnn-cu12==8.9.2.26 in /usr/local/lib/python3.10/dist-packages (from torch>=1.10.0->accelerate) (8.9.2.26)\n",
            "Requirement already satisfied: nvidia-cublas-cu12==12.1.3.1 in /usr/local/lib/python3.10/dist-packages (from torch>=1.10.0->accelerate) (12.1.3.1)\n",
            "Requirement already satisfied: nvidia-cufft-cu12==11.0.2.54 in /usr/local/lib/python3.10/dist-packages (from torch>=1.10.0->accelerate) (11.0.2.54)\n",
            "Requirement already satisfied: nvidia-curand-cu12==10.3.2.106 in /usr/local/lib/python3.10/dist-packages (from torch>=1.10.0->accelerate) (10.3.2.106)\n",
            "Requirement already satisfied: nvidia-cusolver-cu12==11.4.5.107 in /usr/local/lib/python3.10/dist-packages (from torch>=1.10.0->accelerate) (11.4.5.107)\n",
            "Requirement already satisfied: nvidia-cusparse-cu12==12.1.0.106 in /usr/local/lib/python3.10/dist-packages (from torch>=1.10.0->accelerate) (12.1.0.106)\n",
            "Requirement already satisfied: nvidia-nccl-cu12==2.20.5 in /usr/local/lib/python3.10/dist-packages (from torch>=1.10.0->accelerate) (2.20.5)\n",
            "Requirement already satisfied: nvidia-nvtx-cu12==12.1.105 in /usr/local/lib/python3.10/dist-packages (from torch>=1.10.0->accelerate) (12.1.105)\n",
            "Requirement already satisfied: triton==2.3.1 in /usr/local/lib/python3.10/dist-packages (from torch>=1.10.0->accelerate) (2.3.1)\n",
            "Requirement already satisfied: nvidia-nvjitlink-cu12 in /usr/local/lib/python3.10/dist-packages (from nvidia-cusolver-cu12==11.4.5.107->torch>=1.10.0->accelerate) (12.5.82)\n",
            "Requirement already satisfied: requests in /usr/local/lib/python3.10/dist-packages (from huggingface-hub->accelerate) (2.31.0)\n",
            "Requirement already satisfied: tqdm>=4.42.1 in /usr/local/lib/python3.10/dist-packages (from huggingface-hub->accelerate) (4.66.4)\n",
            "Requirement already satisfied: MarkupSafe>=2.0 in /usr/local/lib/python3.10/dist-packages (from jinja2->torch>=1.10.0->accelerate) (2.1.5)\n",
            "Requirement already satisfied: charset-normalizer<4,>=2 in /usr/local/lib/python3.10/dist-packages (from requests->huggingface-hub->accelerate) (3.3.2)\n",
            "Requirement already satisfied: idna<4,>=2.5 in /usr/local/lib/python3.10/dist-packages (from requests->huggingface-hub->accelerate) (3.7)\n",
            "Requirement already satisfied: urllib3<3,>=1.21.1 in /usr/local/lib/python3.10/dist-packages (from requests->huggingface-hub->accelerate) (2.0.7)\n",
            "Requirement already satisfied: certifi>=2017.4.17 in /usr/local/lib/python3.10/dist-packages (from requests->huggingface-hub->accelerate) (2024.7.4)\n",
            "Requirement already satisfied: mpmath<1.4,>=1.1.0 in /usr/local/lib/python3.10/dist-packages (from sympy->torch>=1.10.0->accelerate) (1.3.0)\n"
          ]
        }
      ]
    },
    {
      "cell_type": "code",
      "source": [
        "!git clone https://github.com/ryanzhumich/AESLC"
      ],
      "metadata": {
        "colab": {
          "base_uri": "https://localhost:8080/"
        },
        "id": "CpyTWGY19cWm",
        "outputId": "a972c89b-9875-436a-bb36-175fb87bf64a"
      },
      "execution_count": null,
      "outputs": [
        {
          "output_type": "stream",
          "name": "stdout",
          "text": [
            "fatal: destination path 'AESLC' already exists and is not an empty directory.\n"
          ]
        }
      ]
    },
    {
      "cell_type": "code",
      "source": [
        "import os\n",
        "import re\n",
        "import nltk\n",
        "from nltk.corpus import stopwords\n",
        "from nltk.tokenize import word_tokenize\n",
        "from nltk.stem import WordNetLemmatizer\n",
        "from transformers import GPT2LMHeadModel, GPT2Tokenizer, Trainer, TrainingArguments\n",
        "import torch\n",
        "from torch.utils.data import Dataset, DataLoader\n",
        "\n",
        "# Ensure NLTK resources are downloaded\n",
        "nltk.download('punkt')\n",
        "nltk.download('stopwords')\n",
        "nltk.download('wordnet')\n"
      ],
      "metadata": {
        "colab": {
          "base_uri": "https://localhost:8080/"
        },
        "id": "kvcmd1f4ccLN",
        "outputId": "3ba9d944-367e-41b1-9e87-8067f67a324e"
      },
      "execution_count": null,
      "outputs": [
        {
          "output_type": "stream",
          "name": "stderr",
          "text": [
            "[nltk_data] Downloading package punkt to /root/nltk_data...\n",
            "[nltk_data]   Package punkt is already up-to-date!\n",
            "[nltk_data] Downloading package stopwords to /root/nltk_data...\n",
            "[nltk_data]   Package stopwords is already up-to-date!\n",
            "[nltk_data] Downloading package wordnet to /root/nltk_data...\n",
            "[nltk_data]   Package wordnet is already up-to-date!\n"
          ]
        },
        {
          "output_type": "execute_result",
          "data": {
            "text/plain": [
              "True"
            ]
          },
          "metadata": {},
          "execution_count": 3
        }
      ]
    },
    {
      "cell_type": "code",
      "source": [
        "def preprocess_text(text):\n",
        "    # Tokenize text\n",
        "    tokens = word_tokenize(text.lower())\n",
        "\n",
        "    # Remove stopwords\n",
        "    stop_words = set(stopwords.words('english'))\n",
        "    tokens = [word for word in tokens if word not in stop_words and word.isalnum()]\n",
        "\n",
        "    # Lemmatize tokens\n",
        "    lemmatizer = WordNetLemmatizer()\n",
        "    tokens = [lemmatizer.lemmatize(word) for word in tokens]\n",
        "\n",
        "    # Join tokens back into a string\n",
        "    preprocessed_text = ' '.join(tokens)\n",
        "\n",
        "    return preprocessed_text"
      ],
      "metadata": {
        "id": "mgDMmBW7c0NJ"
      },
      "execution_count": null,
      "outputs": []
    },
    {
      "cell_type": "code",
      "source": [
        "# Custom dataset class\n",
        "class EmailSubjectDataset(Dataset):\n",
        "    def __init__(self, emails, subjects, tokenizer, max_length):\n",
        "        self.emails = emails\n",
        "        self.subjects = subjects\n",
        "        self.tokenizer = tokenizer\n",
        "        self.max_length = max_length\n",
        "\n",
        "    def __len__(self):\n",
        "        return len(self.emails)\n",
        "\n",
        "    def __getitem__(self, idx):\n",
        "        email_text = self.emails[idx]\n",
        "        subject_text = self.subjects[idx]\n",
        "\n",
        "        # Tokenize inputs and outputs\n",
        "        inputs = self.tokenizer(email_text, return_tensors='pt', max_length=self.max_length, truncation=True,\n",
        "                                padding='max_length')\n",
        "        outputs = self.tokenizer(subject_text, return_tensors='pt', max_length=self.max_length, truncation=True,\n",
        "                                 padding='max_length')\n",
        "\n",
        "        return {\n",
        "            'input_ids': inputs.input_ids.flatten(),\n",
        "            'attention_mask': inputs.attention_mask.flatten(),\n",
        "            'labels': outputs.input_ids.flatten()\n",
        "        }\n"
      ],
      "metadata": {
        "id": "LnOVveZUc2rX"
      },
      "execution_count": null,
      "outputs": []
    },
    {
      "cell_type": "code",
      "source": [
        "# Directory containing email files\n",
        "emails_directory = './AESLC/enron_subject_line/train'\n"
      ],
      "metadata": {
        "id": "Bz-n9C4mc6S3"
      },
      "execution_count": null,
      "outputs": []
    },
    {
      "cell_type": "code",
      "source": [
        "# Initialize tokenizer and model\n",
        "tokenizer = GPT2Tokenizer.from_pretrained('gpt2')\n",
        "tokenizer.pad_token = tokenizer.eos_token"
      ],
      "metadata": {
        "colab": {
          "base_uri": "https://localhost:8080/"
        },
        "id": "Opic08PJc8dS",
        "outputId": "83fe82bc-c8e4-47b5-e1db-31a0566c35d5"
      },
      "execution_count": null,
      "outputs": [
        {
          "output_type": "stream",
          "name": "stderr",
          "text": [
            "/usr/local/lib/python3.10/dist-packages/huggingface_hub/utils/_token.py:89: UserWarning: \n",
            "The secret `HF_TOKEN` does not exist in your Colab secrets.\n",
            "To authenticate with the Hugging Face Hub, create a token in your settings tab (https://huggingface.co/settings/tokens), set it as secret in your Google Colab and restart your session.\n",
            "You will be able to reuse this secret in all of your notebooks.\n",
            "Please note that authentication is recommended but still optional to access public models or datasets.\n",
            "  warnings.warn(\n"
          ]
        }
      ]
    },
    {
      "cell_type": "code",
      "source": [
        "def sanitize_subject(subject):\n",
        "    # Remove special characters from the subject\n",
        "    return re.sub(r'[^a-zA-Z0-9\\s]', '', subject)"
      ],
      "metadata": {
        "id": "tSKF3KLkdC15"
      },
      "execution_count": null,
      "outputs": []
    },
    {
      "cell_type": "code",
      "source": [
        "# Load emails and subjects from files\n",
        "emails = []\n",
        "subjects = []\n",
        "\n",
        "for filename in os.listdir(emails_directory):\n",
        "\n",
        "    with open(os.path.join(emails_directory, filename), 'r', encoding='utf-8', errors='ignore') as file:\n",
        "        email_text = file.read()\n",
        "        # Extract subject from email body using regex\n",
        "        match = re.search(r'@subject\\s+(.*)', email_text, re.IGNORECASE | re.DOTALL)\n",
        "\n",
        "        if match:\n",
        "            subject = match.group(1).strip()\n",
        "            email_body = re.sub(r'@subject\\n(.+)\\n', '', email_text).strip()\n",
        "            preprocessed_email = preprocess_text(email_body)\n",
        "\n",
        "            emails.append(preprocessed_email)\n",
        "            subjects.append(subject)"
      ],
      "metadata": {
        "id": "Fr2qqOGddIWI"
      },
      "execution_count": null,
      "outputs": []
    },
    {
      "cell_type": "code",
      "source": [
        "print(emails[0])"
      ],
      "metadata": {
        "colab": {
          "base_uri": "https://localhost:8080/"
        },
        "id": "1e9DpNfFdKmy",
        "outputId": "d6715aa4-54ee-4124-818b-7320bfe442ee"
      },
      "execution_count": null,
      "outputs": [
        {
          "output_type": "stream",
          "name": "stdout",
          "text": [
            "sam need send sharen cason deemed isda format reconfirm transaction domestic deal like review template sending sharen please email monday send sharen thanks sara subject cargill alliant financial deal\n"
          ]
        }
      ]
    },
    {
      "cell_type": "code",
      "source": [
        "print(subjects[0])"
      ],
      "metadata": {
        "colab": {
          "base_uri": "https://localhost:8080/"
        },
        "id": "tymK1APOdMTv",
        "outputId": "de4b5b8a-7496-42f5-dee7-05a77a63aaf6"
      },
      "execution_count": null,
      "outputs": [
        {
          "output_type": "stream",
          "name": "stdout",
          "text": [
            "Cargill Alliant financial deal # 495432.01\n"
          ]
        }
      ]
    },
    {
      "cell_type": "code",
      "source": [
        "dataset = EmailSubjectDataset(emails, subjects, tokenizer, max_length=512)"
      ],
      "metadata": {
        "id": "RaFm0TxJdWmc"
      },
      "execution_count": null,
      "outputs": []
    },
    {
      "cell_type": "code",
      "source": [
        "dataset.__len__()"
      ],
      "metadata": {
        "colab": {
          "base_uri": "https://localhost:8080/"
        },
        "id": "I9G0HfcMdYUo",
        "outputId": "50802f8f-bdb2-4b94-feeb-ebbdda5021a6"
      },
      "execution_count": null,
      "outputs": [
        {
          "output_type": "execute_result",
          "data": {
            "text/plain": [
              "14436"
            ]
          },
          "metadata": {},
          "execution_count": 13
        }
      ]
    },
    {
      "cell_type": "code",
      "source": [
        "dataset.__getitem__(1)"
      ],
      "metadata": {
        "colab": {
          "base_uri": "https://localhost:8080/"
        },
        "id": "mFq6ufG-daKZ",
        "outputId": "c1515b0a-f237-43ec-cc63-e59db44b0e12"
      },
      "execution_count": null,
      "outputs": [
        {
          "output_type": "execute_result",
          "data": {
            "text/plain": [
              "{'input_ids': tensor([29615,  7223,  2393,  4909,  2779,  4136,  5001,  6516,   289,   489,\n",
              "           384,   457,  1491,  1309,   760,  1808,  2426,   384,   457,  1491,\n",
              "          4751,  5127, 50256, 50256, 50256, 50256, 50256, 50256, 50256, 50256,\n",
              "         50256, 50256, 50256, 50256, 50256, 50256, 50256, 50256, 50256, 50256,\n",
              "         50256, 50256, 50256, 50256, 50256, 50256, 50256, 50256, 50256, 50256,\n",
              "         50256, 50256, 50256, 50256, 50256, 50256, 50256, 50256, 50256, 50256,\n",
              "         50256, 50256, 50256, 50256, 50256, 50256, 50256, 50256, 50256, 50256,\n",
              "         50256, 50256, 50256, 50256, 50256, 50256, 50256, 50256, 50256, 50256,\n",
              "         50256, 50256, 50256, 50256, 50256, 50256, 50256, 50256, 50256, 50256,\n",
              "         50256, 50256, 50256, 50256, 50256, 50256, 50256, 50256, 50256, 50256,\n",
              "         50256, 50256, 50256, 50256, 50256, 50256, 50256, 50256, 50256, 50256,\n",
              "         50256, 50256, 50256, 50256, 50256, 50256, 50256, 50256, 50256, 50256,\n",
              "         50256, 50256, 50256, 50256, 50256, 50256, 50256, 50256, 50256, 50256,\n",
              "         50256, 50256, 50256, 50256, 50256, 50256, 50256, 50256, 50256, 50256,\n",
              "         50256, 50256, 50256, 50256, 50256, 50256, 50256, 50256, 50256, 50256,\n",
              "         50256, 50256, 50256, 50256, 50256, 50256, 50256, 50256, 50256, 50256,\n",
              "         50256, 50256, 50256, 50256, 50256, 50256, 50256, 50256, 50256, 50256,\n",
              "         50256, 50256, 50256, 50256, 50256, 50256, 50256, 50256, 50256, 50256,\n",
              "         50256, 50256, 50256, 50256, 50256, 50256, 50256, 50256, 50256, 50256,\n",
              "         50256, 50256, 50256, 50256, 50256, 50256, 50256, 50256, 50256, 50256,\n",
              "         50256, 50256, 50256, 50256, 50256, 50256, 50256, 50256, 50256, 50256,\n",
              "         50256, 50256, 50256, 50256, 50256, 50256, 50256, 50256, 50256, 50256,\n",
              "         50256, 50256, 50256, 50256, 50256, 50256, 50256, 50256, 50256, 50256,\n",
              "         50256, 50256, 50256, 50256, 50256, 50256, 50256, 50256, 50256, 50256,\n",
              "         50256, 50256, 50256, 50256, 50256, 50256, 50256, 50256, 50256, 50256,\n",
              "         50256, 50256, 50256, 50256, 50256, 50256, 50256, 50256, 50256, 50256,\n",
              "         50256, 50256, 50256, 50256, 50256, 50256, 50256, 50256, 50256, 50256,\n",
              "         50256, 50256, 50256, 50256, 50256, 50256, 50256, 50256, 50256, 50256,\n",
              "         50256, 50256, 50256, 50256, 50256, 50256, 50256, 50256, 50256, 50256,\n",
              "         50256, 50256, 50256, 50256, 50256, 50256, 50256, 50256, 50256, 50256,\n",
              "         50256, 50256, 50256, 50256, 50256, 50256, 50256, 50256, 50256, 50256,\n",
              "         50256, 50256, 50256, 50256, 50256, 50256, 50256, 50256, 50256, 50256,\n",
              "         50256, 50256, 50256, 50256, 50256, 50256, 50256, 50256, 50256, 50256,\n",
              "         50256, 50256, 50256, 50256, 50256, 50256, 50256, 50256, 50256, 50256,\n",
              "         50256, 50256, 50256, 50256, 50256, 50256, 50256, 50256, 50256, 50256,\n",
              "         50256, 50256, 50256, 50256, 50256, 50256, 50256, 50256, 50256, 50256,\n",
              "         50256, 50256, 50256, 50256, 50256, 50256, 50256, 50256, 50256, 50256,\n",
              "         50256, 50256, 50256, 50256, 50256, 50256, 50256, 50256, 50256, 50256,\n",
              "         50256, 50256, 50256, 50256, 50256, 50256, 50256, 50256, 50256, 50256,\n",
              "         50256, 50256, 50256, 50256, 50256, 50256, 50256, 50256, 50256, 50256,\n",
              "         50256, 50256, 50256, 50256, 50256, 50256, 50256, 50256, 50256, 50256,\n",
              "         50256, 50256, 50256, 50256, 50256, 50256, 50256, 50256, 50256, 50256,\n",
              "         50256, 50256, 50256, 50256, 50256, 50256, 50256, 50256, 50256, 50256,\n",
              "         50256, 50256, 50256, 50256, 50256, 50256, 50256, 50256, 50256, 50256,\n",
              "         50256, 50256, 50256, 50256, 50256, 50256, 50256, 50256, 50256, 50256,\n",
              "         50256, 50256, 50256, 50256, 50256, 50256, 50256, 50256, 50256, 50256,\n",
              "         50256, 50256, 50256, 50256, 50256, 50256, 50256, 50256, 50256, 50256,\n",
              "         50256, 50256, 50256, 50256, 50256, 50256, 50256, 50256, 50256, 50256,\n",
              "         50256, 50256, 50256, 50256, 50256, 50256, 50256, 50256, 50256, 50256,\n",
              "         50256, 50256, 50256, 50256, 50256, 50256, 50256, 50256, 50256, 50256,\n",
              "         50256, 50256, 50256, 50256, 50256, 50256, 50256, 50256, 50256, 50256,\n",
              "         50256, 50256]),\n",
              " 'attention_mask': tensor([1, 1, 1, 1, 1, 1, 1, 1, 1, 1, 1, 1, 1, 1, 1, 1, 1, 1, 1, 1, 1, 1, 0, 0,\n",
              "         0, 0, 0, 0, 0, 0, 0, 0, 0, 0, 0, 0, 0, 0, 0, 0, 0, 0, 0, 0, 0, 0, 0, 0,\n",
              "         0, 0, 0, 0, 0, 0, 0, 0, 0, 0, 0, 0, 0, 0, 0, 0, 0, 0, 0, 0, 0, 0, 0, 0,\n",
              "         0, 0, 0, 0, 0, 0, 0, 0, 0, 0, 0, 0, 0, 0, 0, 0, 0, 0, 0, 0, 0, 0, 0, 0,\n",
              "         0, 0, 0, 0, 0, 0, 0, 0, 0, 0, 0, 0, 0, 0, 0, 0, 0, 0, 0, 0, 0, 0, 0, 0,\n",
              "         0, 0, 0, 0, 0, 0, 0, 0, 0, 0, 0, 0, 0, 0, 0, 0, 0, 0, 0, 0, 0, 0, 0, 0,\n",
              "         0, 0, 0, 0, 0, 0, 0, 0, 0, 0, 0, 0, 0, 0, 0, 0, 0, 0, 0, 0, 0, 0, 0, 0,\n",
              "         0, 0, 0, 0, 0, 0, 0, 0, 0, 0, 0, 0, 0, 0, 0, 0, 0, 0, 0, 0, 0, 0, 0, 0,\n",
              "         0, 0, 0, 0, 0, 0, 0, 0, 0, 0, 0, 0, 0, 0, 0, 0, 0, 0, 0, 0, 0, 0, 0, 0,\n",
              "         0, 0, 0, 0, 0, 0, 0, 0, 0, 0, 0, 0, 0, 0, 0, 0, 0, 0, 0, 0, 0, 0, 0, 0,\n",
              "         0, 0, 0, 0, 0, 0, 0, 0, 0, 0, 0, 0, 0, 0, 0, 0, 0, 0, 0, 0, 0, 0, 0, 0,\n",
              "         0, 0, 0, 0, 0, 0, 0, 0, 0, 0, 0, 0, 0, 0, 0, 0, 0, 0, 0, 0, 0, 0, 0, 0,\n",
              "         0, 0, 0, 0, 0, 0, 0, 0, 0, 0, 0, 0, 0, 0, 0, 0, 0, 0, 0, 0, 0, 0, 0, 0,\n",
              "         0, 0, 0, 0, 0, 0, 0, 0, 0, 0, 0, 0, 0, 0, 0, 0, 0, 0, 0, 0, 0, 0, 0, 0,\n",
              "         0, 0, 0, 0, 0, 0, 0, 0, 0, 0, 0, 0, 0, 0, 0, 0, 0, 0, 0, 0, 0, 0, 0, 0,\n",
              "         0, 0, 0, 0, 0, 0, 0, 0, 0, 0, 0, 0, 0, 0, 0, 0, 0, 0, 0, 0, 0, 0, 0, 0,\n",
              "         0, 0, 0, 0, 0, 0, 0, 0, 0, 0, 0, 0, 0, 0, 0, 0, 0, 0, 0, 0, 0, 0, 0, 0,\n",
              "         0, 0, 0, 0, 0, 0, 0, 0, 0, 0, 0, 0, 0, 0, 0, 0, 0, 0, 0, 0, 0, 0, 0, 0,\n",
              "         0, 0, 0, 0, 0, 0, 0, 0, 0, 0, 0, 0, 0, 0, 0, 0, 0, 0, 0, 0, 0, 0, 0, 0,\n",
              "         0, 0, 0, 0, 0, 0, 0, 0, 0, 0, 0, 0, 0, 0, 0, 0, 0, 0, 0, 0, 0, 0, 0, 0,\n",
              "         0, 0, 0, 0, 0, 0, 0, 0, 0, 0, 0, 0, 0, 0, 0, 0, 0, 0, 0, 0, 0, 0, 0, 0,\n",
              "         0, 0, 0, 0, 0, 0, 0, 0]),\n",
              " 'labels': tensor([17543,  4751, 22663, 50256, 50256, 50256, 50256, 50256, 50256, 50256,\n",
              "         50256, 50256, 50256, 50256, 50256, 50256, 50256, 50256, 50256, 50256,\n",
              "         50256, 50256, 50256, 50256, 50256, 50256, 50256, 50256, 50256, 50256,\n",
              "         50256, 50256, 50256, 50256, 50256, 50256, 50256, 50256, 50256, 50256,\n",
              "         50256, 50256, 50256, 50256, 50256, 50256, 50256, 50256, 50256, 50256,\n",
              "         50256, 50256, 50256, 50256, 50256, 50256, 50256, 50256, 50256, 50256,\n",
              "         50256, 50256, 50256, 50256, 50256, 50256, 50256, 50256, 50256, 50256,\n",
              "         50256, 50256, 50256, 50256, 50256, 50256, 50256, 50256, 50256, 50256,\n",
              "         50256, 50256, 50256, 50256, 50256, 50256, 50256, 50256, 50256, 50256,\n",
              "         50256, 50256, 50256, 50256, 50256, 50256, 50256, 50256, 50256, 50256,\n",
              "         50256, 50256, 50256, 50256, 50256, 50256, 50256, 50256, 50256, 50256,\n",
              "         50256, 50256, 50256, 50256, 50256, 50256, 50256, 50256, 50256, 50256,\n",
              "         50256, 50256, 50256, 50256, 50256, 50256, 50256, 50256, 50256, 50256,\n",
              "         50256, 50256, 50256, 50256, 50256, 50256, 50256, 50256, 50256, 50256,\n",
              "         50256, 50256, 50256, 50256, 50256, 50256, 50256, 50256, 50256, 50256,\n",
              "         50256, 50256, 50256, 50256, 50256, 50256, 50256, 50256, 50256, 50256,\n",
              "         50256, 50256, 50256, 50256, 50256, 50256, 50256, 50256, 50256, 50256,\n",
              "         50256, 50256, 50256, 50256, 50256, 50256, 50256, 50256, 50256, 50256,\n",
              "         50256, 50256, 50256, 50256, 50256, 50256, 50256, 50256, 50256, 50256,\n",
              "         50256, 50256, 50256, 50256, 50256, 50256, 50256, 50256, 50256, 50256,\n",
              "         50256, 50256, 50256, 50256, 50256, 50256, 50256, 50256, 50256, 50256,\n",
              "         50256, 50256, 50256, 50256, 50256, 50256, 50256, 50256, 50256, 50256,\n",
              "         50256, 50256, 50256, 50256, 50256, 50256, 50256, 50256, 50256, 50256,\n",
              "         50256, 50256, 50256, 50256, 50256, 50256, 50256, 50256, 50256, 50256,\n",
              "         50256, 50256, 50256, 50256, 50256, 50256, 50256, 50256, 50256, 50256,\n",
              "         50256, 50256, 50256, 50256, 50256, 50256, 50256, 50256, 50256, 50256,\n",
              "         50256, 50256, 50256, 50256, 50256, 50256, 50256, 50256, 50256, 50256,\n",
              "         50256, 50256, 50256, 50256, 50256, 50256, 50256, 50256, 50256, 50256,\n",
              "         50256, 50256, 50256, 50256, 50256, 50256, 50256, 50256, 50256, 50256,\n",
              "         50256, 50256, 50256, 50256, 50256, 50256, 50256, 50256, 50256, 50256,\n",
              "         50256, 50256, 50256, 50256, 50256, 50256, 50256, 50256, 50256, 50256,\n",
              "         50256, 50256, 50256, 50256, 50256, 50256, 50256, 50256, 50256, 50256,\n",
              "         50256, 50256, 50256, 50256, 50256, 50256, 50256, 50256, 50256, 50256,\n",
              "         50256, 50256, 50256, 50256, 50256, 50256, 50256, 50256, 50256, 50256,\n",
              "         50256, 50256, 50256, 50256, 50256, 50256, 50256, 50256, 50256, 50256,\n",
              "         50256, 50256, 50256, 50256, 50256, 50256, 50256, 50256, 50256, 50256,\n",
              "         50256, 50256, 50256, 50256, 50256, 50256, 50256, 50256, 50256, 50256,\n",
              "         50256, 50256, 50256, 50256, 50256, 50256, 50256, 50256, 50256, 50256,\n",
              "         50256, 50256, 50256, 50256, 50256, 50256, 50256, 50256, 50256, 50256,\n",
              "         50256, 50256, 50256, 50256, 50256, 50256, 50256, 50256, 50256, 50256,\n",
              "         50256, 50256, 50256, 50256, 50256, 50256, 50256, 50256, 50256, 50256,\n",
              "         50256, 50256, 50256, 50256, 50256, 50256, 50256, 50256, 50256, 50256,\n",
              "         50256, 50256, 50256, 50256, 50256, 50256, 50256, 50256, 50256, 50256,\n",
              "         50256, 50256, 50256, 50256, 50256, 50256, 50256, 50256, 50256, 50256,\n",
              "         50256, 50256, 50256, 50256, 50256, 50256, 50256, 50256, 50256, 50256,\n",
              "         50256, 50256, 50256, 50256, 50256, 50256, 50256, 50256, 50256, 50256,\n",
              "         50256, 50256, 50256, 50256, 50256, 50256, 50256, 50256, 50256, 50256,\n",
              "         50256, 50256, 50256, 50256, 50256, 50256, 50256, 50256, 50256, 50256,\n",
              "         50256, 50256, 50256, 50256, 50256, 50256, 50256, 50256, 50256, 50256,\n",
              "         50256, 50256, 50256, 50256, 50256, 50256, 50256, 50256, 50256, 50256,\n",
              "         50256, 50256, 50256, 50256, 50256, 50256, 50256, 50256, 50256, 50256,\n",
              "         50256, 50256])}"
            ]
          },
          "metadata": {},
          "execution_count": 14
        }
      ]
    },
    {
      "cell_type": "code",
      "source": [
        "import os\n",
        "import re\n",
        "import pandas as pd"
      ],
      "metadata": {
        "id": "VWPP601Tddm4"
      },
      "execution_count": null,
      "outputs": []
    },
    {
      "cell_type": "code",
      "source": [
        "df = pd.DataFrame({\n",
        "    'Email': emails,\n",
        "    'Subject': subjects\n",
        "})"
      ],
      "metadata": {
        "id": "GKh_aDmPdfrv"
      },
      "execution_count": null,
      "outputs": []
    },
    {
      "cell_type": "code",
      "source": [
        "def sanitize_subject(subject):\n",
        "    return re.sub(r'[^a-zA-Z0-9\\s]', '', subject)"
      ],
      "metadata": {
        "id": "6HGym9QudiCg"
      },
      "execution_count": null,
      "outputs": []
    },
    {
      "cell_type": "code",
      "source": [
        "df = pd.DataFrame({\n",
        "    'Email': emails,\n",
        "    'Subject': subjects\n",
        "})"
      ],
      "metadata": {
        "id": "5nXE7_Njdk-N"
      },
      "execution_count": null,
      "outputs": []
    },
    {
      "cell_type": "code",
      "source": [
        "df.head()"
      ],
      "metadata": {
        "colab": {
          "base_uri": "https://localhost:8080/",
          "height": 206
        },
        "collapsed": true,
        "id": "7g3g1CJ_dl7q",
        "outputId": "1e517a57-ff38-4ae7-ba5e-9cd0549d8be9"
      },
      "execution_count": null,
      "outputs": [
        {
          "output_type": "execute_result",
          "data": {
            "text/plain": [
              "                                               Email  \\\n",
              "0  sam need send sharen cason deemed isda format ...   \n",
              "1  patrick attached file contains base spot purch...   \n",
              "2  fyi one legal consultant mentioned another cli...   \n",
              "3  marc draft reply latest would send copied note...   \n",
              "4  richard would like inform decided participatio...   \n",
              "\n",
              "                                      Subject  \n",
              "0  Cargill Alliant financial deal # 495432.01  \n",
              "1                       September 2000 Supply  \n",
              "2                Internet Trading Consultants  \n",
              "3                             Reply to e-mail  \n",
              "4                                     Project  "
            ],
            "text/html": [
              "\n",
              "  <div id=\"df-4700bbad-0e4b-4155-a1cc-0ac42749614d\" class=\"colab-df-container\">\n",
              "    <div>\n",
              "<style scoped>\n",
              "    .dataframe tbody tr th:only-of-type {\n",
              "        vertical-align: middle;\n",
              "    }\n",
              "\n",
              "    .dataframe tbody tr th {\n",
              "        vertical-align: top;\n",
              "    }\n",
              "\n",
              "    .dataframe thead th {\n",
              "        text-align: right;\n",
              "    }\n",
              "</style>\n",
              "<table border=\"1\" class=\"dataframe\">\n",
              "  <thead>\n",
              "    <tr style=\"text-align: right;\">\n",
              "      <th></th>\n",
              "      <th>Email</th>\n",
              "      <th>Subject</th>\n",
              "    </tr>\n",
              "  </thead>\n",
              "  <tbody>\n",
              "    <tr>\n",
              "      <th>0</th>\n",
              "      <td>sam need send sharen cason deemed isda format ...</td>\n",
              "      <td>Cargill Alliant financial deal # 495432.01</td>\n",
              "    </tr>\n",
              "    <tr>\n",
              "      <th>1</th>\n",
              "      <td>patrick attached file contains base spot purch...</td>\n",
              "      <td>September 2000 Supply</td>\n",
              "    </tr>\n",
              "    <tr>\n",
              "      <th>2</th>\n",
              "      <td>fyi one legal consultant mentioned another cli...</td>\n",
              "      <td>Internet Trading Consultants</td>\n",
              "    </tr>\n",
              "    <tr>\n",
              "      <th>3</th>\n",
              "      <td>marc draft reply latest would send copied note...</td>\n",
              "      <td>Reply to e-mail</td>\n",
              "    </tr>\n",
              "    <tr>\n",
              "      <th>4</th>\n",
              "      <td>richard would like inform decided participatio...</td>\n",
              "      <td>Project</td>\n",
              "    </tr>\n",
              "  </tbody>\n",
              "</table>\n",
              "</div>\n",
              "    <div class=\"colab-df-buttons\">\n",
              "\n",
              "  <div class=\"colab-df-container\">\n",
              "    <button class=\"colab-df-convert\" onclick=\"convertToInteractive('df-4700bbad-0e4b-4155-a1cc-0ac42749614d')\"\n",
              "            title=\"Convert this dataframe to an interactive table.\"\n",
              "            style=\"display:none;\">\n",
              "\n",
              "  <svg xmlns=\"http://www.w3.org/2000/svg\" height=\"24px\" viewBox=\"0 -960 960 960\">\n",
              "    <path d=\"M120-120v-720h720v720H120Zm60-500h600v-160H180v160Zm220 220h160v-160H400v160Zm0 220h160v-160H400v160ZM180-400h160v-160H180v160Zm440 0h160v-160H620v160ZM180-180h160v-160H180v160Zm440 0h160v-160H620v160Z\"/>\n",
              "  </svg>\n",
              "    </button>\n",
              "\n",
              "  <style>\n",
              "    .colab-df-container {\n",
              "      display:flex;\n",
              "      gap: 12px;\n",
              "    }\n",
              "\n",
              "    .colab-df-convert {\n",
              "      background-color: #E8F0FE;\n",
              "      border: none;\n",
              "      border-radius: 50%;\n",
              "      cursor: pointer;\n",
              "      display: none;\n",
              "      fill: #1967D2;\n",
              "      height: 32px;\n",
              "      padding: 0 0 0 0;\n",
              "      width: 32px;\n",
              "    }\n",
              "\n",
              "    .colab-df-convert:hover {\n",
              "      background-color: #E2EBFA;\n",
              "      box-shadow: 0px 1px 2px rgba(60, 64, 67, 0.3), 0px 1px 3px 1px rgba(60, 64, 67, 0.15);\n",
              "      fill: #174EA6;\n",
              "    }\n",
              "\n",
              "    .colab-df-buttons div {\n",
              "      margin-bottom: 4px;\n",
              "    }\n",
              "\n",
              "    [theme=dark] .colab-df-convert {\n",
              "      background-color: #3B4455;\n",
              "      fill: #D2E3FC;\n",
              "    }\n",
              "\n",
              "    [theme=dark] .colab-df-convert:hover {\n",
              "      background-color: #434B5C;\n",
              "      box-shadow: 0px 1px 3px 1px rgba(0, 0, 0, 0.15);\n",
              "      filter: drop-shadow(0px 1px 2px rgba(0, 0, 0, 0.3));\n",
              "      fill: #FFFFFF;\n",
              "    }\n",
              "  </style>\n",
              "\n",
              "    <script>\n",
              "      const buttonEl =\n",
              "        document.querySelector('#df-4700bbad-0e4b-4155-a1cc-0ac42749614d button.colab-df-convert');\n",
              "      buttonEl.style.display =\n",
              "        google.colab.kernel.accessAllowed ? 'block' : 'none';\n",
              "\n",
              "      async function convertToInteractive(key) {\n",
              "        const element = document.querySelector('#df-4700bbad-0e4b-4155-a1cc-0ac42749614d');\n",
              "        const dataTable =\n",
              "          await google.colab.kernel.invokeFunction('convertToInteractive',\n",
              "                                                    [key], {});\n",
              "        if (!dataTable) return;\n",
              "\n",
              "        const docLinkHtml = 'Like what you see? Visit the ' +\n",
              "          '<a target=\"_blank\" href=https://colab.research.google.com/notebooks/data_table.ipynb>data table notebook</a>'\n",
              "          + ' to learn more about interactive tables.';\n",
              "        element.innerHTML = '';\n",
              "        dataTable['output_type'] = 'display_data';\n",
              "        await google.colab.output.renderOutput(dataTable, element);\n",
              "        const docLink = document.createElement('div');\n",
              "        docLink.innerHTML = docLinkHtml;\n",
              "        element.appendChild(docLink);\n",
              "      }\n",
              "    </script>\n",
              "  </div>\n",
              "\n",
              "\n",
              "<div id=\"df-3e47e095-0055-40e6-ae68-b2716f6e909b\">\n",
              "  <button class=\"colab-df-quickchart\" onclick=\"quickchart('df-3e47e095-0055-40e6-ae68-b2716f6e909b')\"\n",
              "            title=\"Suggest charts\"\n",
              "            style=\"display:none;\">\n",
              "\n",
              "<svg xmlns=\"http://www.w3.org/2000/svg\" height=\"24px\"viewBox=\"0 0 24 24\"\n",
              "     width=\"24px\">\n",
              "    <g>\n",
              "        <path d=\"M19 3H5c-1.1 0-2 .9-2 2v14c0 1.1.9 2 2 2h14c1.1 0 2-.9 2-2V5c0-1.1-.9-2-2-2zM9 17H7v-7h2v7zm4 0h-2V7h2v10zm4 0h-2v-4h2v4z\"/>\n",
              "    </g>\n",
              "</svg>\n",
              "  </button>\n",
              "\n",
              "<style>\n",
              "  .colab-df-quickchart {\n",
              "      --bg-color: #E8F0FE;\n",
              "      --fill-color: #1967D2;\n",
              "      --hover-bg-color: #E2EBFA;\n",
              "      --hover-fill-color: #174EA6;\n",
              "      --disabled-fill-color: #AAA;\n",
              "      --disabled-bg-color: #DDD;\n",
              "  }\n",
              "\n",
              "  [theme=dark] .colab-df-quickchart {\n",
              "      --bg-color: #3B4455;\n",
              "      --fill-color: #D2E3FC;\n",
              "      --hover-bg-color: #434B5C;\n",
              "      --hover-fill-color: #FFFFFF;\n",
              "      --disabled-bg-color: #3B4455;\n",
              "      --disabled-fill-color: #666;\n",
              "  }\n",
              "\n",
              "  .colab-df-quickchart {\n",
              "    background-color: var(--bg-color);\n",
              "    border: none;\n",
              "    border-radius: 50%;\n",
              "    cursor: pointer;\n",
              "    display: none;\n",
              "    fill: var(--fill-color);\n",
              "    height: 32px;\n",
              "    padding: 0;\n",
              "    width: 32px;\n",
              "  }\n",
              "\n",
              "  .colab-df-quickchart:hover {\n",
              "    background-color: var(--hover-bg-color);\n",
              "    box-shadow: 0 1px 2px rgba(60, 64, 67, 0.3), 0 1px 3px 1px rgba(60, 64, 67, 0.15);\n",
              "    fill: var(--button-hover-fill-color);\n",
              "  }\n",
              "\n",
              "  .colab-df-quickchart-complete:disabled,\n",
              "  .colab-df-quickchart-complete:disabled:hover {\n",
              "    background-color: var(--disabled-bg-color);\n",
              "    fill: var(--disabled-fill-color);\n",
              "    box-shadow: none;\n",
              "  }\n",
              "\n",
              "  .colab-df-spinner {\n",
              "    border: 2px solid var(--fill-color);\n",
              "    border-color: transparent;\n",
              "    border-bottom-color: var(--fill-color);\n",
              "    animation:\n",
              "      spin 1s steps(1) infinite;\n",
              "  }\n",
              "\n",
              "  @keyframes spin {\n",
              "    0% {\n",
              "      border-color: transparent;\n",
              "      border-bottom-color: var(--fill-color);\n",
              "      border-left-color: var(--fill-color);\n",
              "    }\n",
              "    20% {\n",
              "      border-color: transparent;\n",
              "      border-left-color: var(--fill-color);\n",
              "      border-top-color: var(--fill-color);\n",
              "    }\n",
              "    30% {\n",
              "      border-color: transparent;\n",
              "      border-left-color: var(--fill-color);\n",
              "      border-top-color: var(--fill-color);\n",
              "      border-right-color: var(--fill-color);\n",
              "    }\n",
              "    40% {\n",
              "      border-color: transparent;\n",
              "      border-right-color: var(--fill-color);\n",
              "      border-top-color: var(--fill-color);\n",
              "    }\n",
              "    60% {\n",
              "      border-color: transparent;\n",
              "      border-right-color: var(--fill-color);\n",
              "    }\n",
              "    80% {\n",
              "      border-color: transparent;\n",
              "      border-right-color: var(--fill-color);\n",
              "      border-bottom-color: var(--fill-color);\n",
              "    }\n",
              "    90% {\n",
              "      border-color: transparent;\n",
              "      border-bottom-color: var(--fill-color);\n",
              "    }\n",
              "  }\n",
              "</style>\n",
              "\n",
              "  <script>\n",
              "    async function quickchart(key) {\n",
              "      const quickchartButtonEl =\n",
              "        document.querySelector('#' + key + ' button');\n",
              "      quickchartButtonEl.disabled = true;  // To prevent multiple clicks.\n",
              "      quickchartButtonEl.classList.add('colab-df-spinner');\n",
              "      try {\n",
              "        const charts = await google.colab.kernel.invokeFunction(\n",
              "            'suggestCharts', [key], {});\n",
              "      } catch (error) {\n",
              "        console.error('Error during call to suggestCharts:', error);\n",
              "      }\n",
              "      quickchartButtonEl.classList.remove('colab-df-spinner');\n",
              "      quickchartButtonEl.classList.add('colab-df-quickchart-complete');\n",
              "    }\n",
              "    (() => {\n",
              "      let quickchartButtonEl =\n",
              "        document.querySelector('#df-3e47e095-0055-40e6-ae68-b2716f6e909b button');\n",
              "      quickchartButtonEl.style.display =\n",
              "        google.colab.kernel.accessAllowed ? 'block' : 'none';\n",
              "    })();\n",
              "  </script>\n",
              "</div>\n",
              "\n",
              "    </div>\n",
              "  </div>\n"
            ],
            "application/vnd.google.colaboratory.intrinsic+json": {
              "type": "dataframe",
              "variable_name": "df",
              "summary": "{\n  \"name\": \"df\",\n  \"rows\": 14436,\n  \"fields\": [\n    {\n      \"column\": \"Email\",\n      \"properties\": {\n        \"dtype\": \"string\",\n        \"num_unique_values\": 13521,\n        \"samples\": [\n          \"wanted sent holiday card ala mysterious sam address guess could send lessee big easy remember doctor living marina may appreciate beauty card please email address hope happy chanukah br celebrate family jennifer 15 zachary 13 january parent slowing deb steve deb ordered brisket latke 2nd deli ny food awful sara subject never sent address sam\",\n          \"set mid deal location intramonth curve gas daily curve tell many deal currently system two location sorry rush need calcing tonight thanks pl subject new mid sitara\",\n          \"friday last day enron new address boston email address bthoskins also reach address summer subject contact info\"\n        ],\n        \"semantic_type\": \"\",\n        \"description\": \"\"\n      }\n    },\n    {\n      \"column\": \"Subject\",\n      \"properties\": {\n        \"dtype\": \"string\",\n        \"num_unique_values\": 12032,\n        \"samples\": [\n          \"Sims\",\n          \"re[6]: RRSP Cont.\",\n          \"CA rept requirements rehearing denied\"\n        ],\n        \"semantic_type\": \"\",\n        \"description\": \"\"\n      }\n    }\n  ]\n}"
            }
          },
          "metadata": {},
          "execution_count": 52
        }
      ]
    },
    {
      "cell_type": "code",
      "source": [
        "import matplotlib.pyplot as plt\n",
        "\n",
        "def plot_data(data):\n",
        "    lengths = [len(text.split()) for text in data['Email']]\n",
        "    plt.hist(lengths, bins=30)\n",
        "    plt.xlabel('Length of email bodies')\n",
        "    plt.ylabel('Frequency')\n",
        "    plt.show()"
      ],
      "metadata": {
        "id": "j35mNG_l6CHW"
      },
      "execution_count": null,
      "outputs": []
    },
    {
      "cell_type": "code",
      "source": [
        "plot_data(df)"
      ],
      "metadata": {
        "colab": {
          "base_uri": "https://localhost:8080/",
          "height": 449
        },
        "id": "1DWXG8Ry52SH",
        "outputId": "5eedfe22-819a-476e-c169-decf8f76985f"
      },
      "execution_count": null,
      "outputs": [
        {
          "output_type": "display_data",
          "data": {
            "text/plain": [
              "<Figure size 640x480 with 1 Axes>"
            ],
            "image/png": "[encoded data removed]"
          },
          "metadata": {}
        }
      ]
    },
    {
      "cell_type": "code",
      "source": [
        "import numpy as np"
      ],
      "metadata": {
        "id": "nX3-S_Q_7rOt"
      },
      "execution_count": null,
      "outputs": []
    },
    {
      "cell_type": "code",
      "source": [
        "def plot_data(data):\n",
        "    lengths = [len(text.split()) for text in data['Email']]\n",
        "    bins = [0, 50, 100, 150, 200, 250, 300]\n",
        "    categories = ['0-50', '51-100', '101-150', '151-200', '201-250', '251-300']\n",
        "    counts, _ = np.histogram(lengths, bins=bins)\n",
        "\n",
        "    plt.pie(counts, labels=categories, autopct='%1.1f%%', startangle=140)\n",
        "    plt.title('Distribution of Email Body Lengths')\n",
        "    plt.show()"
      ],
      "metadata": {
        "id": "IMUd2C7x7jpj"
      },
      "execution_count": null,
      "outputs": []
    },
    {
      "cell_type": "code",
      "source": [
        "plot_data(df)"
      ],
      "metadata": {
        "colab": {
          "base_uri": "https://localhost:8080/",
          "height": 428
        },
        "id": "4qgtL2-K7mwB",
        "outputId": "acbe5cac-c740-48c1-dc65-fc41652d9e32"
      },
      "execution_count": null,
      "outputs": [
        {
          "output_type": "display_data",
          "data": {
            "text/plain": [
              "<Figure size 640x480 with 1 Axes>"
            ],
            "image/png": "[encoded data removed]"
          },
          "metadata": {}
        }
      ]
    },
    {
      "cell_type": "code",
      "source": [
        "def plot_confusion_matrix(cm, classes):\n",
        "    fig, ax = plt.subplots(figsize=(10, 10))\n",
        "    cax = ax.matshow(cm, cmap=plt.cm.Blues)\n",
        "    fig.colorbar(cax)\n",
        "\n",
        "    ax.set_xticks(np.arange(len(classes)))\n",
        "    ax.set_yticks(np.arange(len(classes)))\n",
        "\n",
        "    ax.set_xticklabels(classes, rotation=45, ha=\"right\")\n",
        "    ax.set_yticklabels(classes)\n",
        "\n",
        "    plt.xlabel('Predicted Labels')\n",
        "    plt.ylabel('True Labels')\n",
        "    plt.title('Confusion Matrix')\n",
        "    plt.show()"
      ],
      "metadata": {
        "id": "MXwZoun88CCf"
      },
      "execution_count": null,
      "outputs": []
    },
    {
      "cell_type": "code",
      "source": [
        "train_size = int(0.8 * len(dataset))\n",
        "val_size = len(dataset) - train_size\n",
        "train_dataset, val_dataset = torch.utils.data.random_split(dataset, [train_size, val_size])"
      ],
      "metadata": {
        "id": "f7iOwzlnd8al"
      },
      "execution_count": null,
      "outputs": []
    },
    {
      "cell_type": "code",
      "source": [
        "# Training arguments\n",
        "training_args = TrainingArguments(\n",
        "    output_dir='./results',\n",
        "    overwrite_output_dir=True,\n",
        "    num_train_epochs=3,\n",
        "    per_device_train_batch_size=4,\n",
        "    per_device_eval_batch_size=4,\n",
        "    logging_dir='./logs',\n",
        "    logging_steps=500,\n",
        "    evaluation_strategy=\"epoch\",\n",
        ")\n",
        "\n",
        "# Initialize model\n",
        "model = GPT2LMHeadModel.from_pretrained('gpt2')\n",
        "\n",
        "# Trainer\n",
        "trainer = Trainer(\n",
        "    model=model,\n",
        "    args=training_args,\n",
        "    train_dataset=train_dataset,\n",
        "    eval_dataset=val_dataset,\n",
        "    tokenizer=tokenizer,\n",
        ")\n",
        "\n",
        "# Fine-tuning the model\n",
        "trainer.train()"
      ],
      "metadata": {
        "colab": {
          "base_uri": "https://localhost:8080/",
          "height": 276
        },
        "id": "JzHTgEBTeCPJ",
        "outputId": "3bc90d01-834f-4b41-946a-b239bbee9ddc"
      },
      "execution_count": null,
      "outputs": [
        {
          "output_type": "stream",
          "name": "stderr",
          "text": [
            "/usr/local/lib/python3.10/dist-packages/transformers/training_args.py:1494: FutureWarning: `evaluation_strategy` is deprecated and will be removed in version 4.46 of 🤗 Transformers. Use `eval_strategy` instead\n",
            "  warnings.warn(\n"
          ]
        },
        {
          "output_type": "display_data",
          "data": {
            "text/plain": [
              "<IPython.core.display.HTML object>"
            ],
            "text/html": [
              "\n",
              "    <div>\n",
              "      \n",
              "      <progress value='8661' max='8661' style='width:300px; height:20px; vertical-align: middle;'></progress>\n",
              "      [8661/8661 1:45:38, Epoch 3/3]\n",
              "    </div>\n",
              "    <table border=\"1\" class=\"dataframe\">\n",
              "  <thead>\n",
              " <tr style=\"text-align: left;\">\n",
              "      <th>Epoch</th>\n",
              "      <th>Training Loss</th>\n",
              "      <th>Validation Loss</th>\n",
              "    </tr>\n",
              "  </thead>\n",
              "  <tbody>\n",
              "    <tr>\n",
              "      <td>1</td>\n",
              "      <td>0.094700</td>\n",
              "      <td>0.094323</td>\n",
              "    </tr>\n",
              "    <tr>\n",
              "      <td>2</td>\n",
              "      <td>0.087900</td>\n",
              "      <td>0.091184</td>\n",
              "    </tr>\n",
              "    <tr>\n",
              "      <td>3</td>\n",
              "      <td>0.078900</td>\n",
              "      <td>0.091783</td>\n",
              "    </tr>\n",
              "  </tbody>\n",
              "</table><p>"
            ]
          },
          "metadata": {}
        },
        {
          "output_type": "execute_result",
          "data": {
            "text/plain": [
              "TrainOutput(global_step=8661, training_loss=0.0906019318724543, metrics={'train_runtime': 6340.7062, 'train_samples_per_second': 5.464, 'train_steps_per_second': 1.366, 'total_flos': 9052201156608000.0, 'train_loss': 0.0906019318724543, 'epoch': 3.0})"
            ]
          },
          "metadata": {},
          "execution_count": 21
        }
      ]
    },
    {
      "cell_type": "code",
      "source": [
        "# Function to generate subject lines from email text\n",
        "def get_first_four_words_split(text):\n",
        "    words = text.split()\n",
        "    return ' '.join(words[:4])"
      ],
      "metadata": {
        "id": "jyTWj4sTeJRI"
      },
      "execution_count": null,
      "outputs": []
    },
    {
      "cell_type": "code",
      "source": [
        "def generate_subject(model, tokenizer, email_text, max_length=512):\n",
        "    # Move model to correct device\n",
        "    device = next(model.parameters()).device\n",
        "\n",
        "    email_text = preprocess_text(email_text)\n",
        "\n",
        "    input_ids = tokenizer.encode(email_text, return_tensors='pt').to(device)  # Move input_ids to device\n",
        "\n",
        "    # Generate subject line\n",
        "    with torch.no_grad():\n",
        "        output = model.generate(input_ids, max_length=max_length, num_beams=5, early_stopping=True)\n",
        "\n",
        "    generated_subject = tokenizer.decode(output[0], skip_special_tokens=True)\n",
        "    return generated_subject"
      ],
      "metadata": {
        "id": "Ub6ff0WCeN_m"
      },
      "execution_count": null,
      "outputs": []
    },
    {
      "cell_type": "code",
      "source": [
        "# Example usage of subject line generation\n",
        "example_email = \"The following reports have been waiting for your approval for more than 4 days.Please review.Owner: James W Reitmeyer Report Name: JReitmeyer 10/24/01 Days In Mgr.Queue: 5\"\n",
        "generated_subject = generate_subject(model, tokenizer, example_email)\n",
        "print(\"Generated Subject:\", get_first_four_words_split(generated_subject))"
      ],
      "metadata": {
        "colab": {
          "base_uri": "https://localhost:8080/"
        },
        "id": "D9be_FiNeSfb",
        "outputId": "18e581b1-b889-4ec6-d1b6-91da43d2ed78"
      },
      "execution_count": null,
      "outputs": [
        {
          "output_type": "stream",
          "name": "stderr",
          "text": [
            "The attention mask and the pad token id were not set. As a consequence, you may observe unexpected behavior. Please pass your input's `attention_mask` to obtain reliable results.\n",
            "Setting `pad_token_id` to `eos_token_id`:50256 for open-end generation.\n",
            "The attention mask is not set and cannot be inferred from input because pad token is same as eos token.As a consequence, you may observe unexpected behavior. Please pass your input's `attention_mask` to obtain reliable results.\n"
          ]
        },
        {
          "output_type": "stream",
          "name": "stdout",
          "text": [
            "Generated Subject: following report waiting approval\n"
          ]
        }
      ]
    },
    {
      "cell_type": "code",
      "source": [
        "example_email = \"All,  The below Analyst & Associate recruiting dates require ENA participation at Manager level at above.In order to resource each of your departments it is important to have ENA's involvement and participation in the interviews and debrief sessions on Fantastic Friday and Super Saturday events.These de-brief sessions will allow you the opportunity to select candidates you wish to join your groups.The target  is to assign potential candidates to business units and departments from the outset.As ENA has the highest percentage of A&A rotating in its business unit, the participation of ENA at interview should reflect this.Therefore, please encourage your direct reports and managers to participate in the below events in order to secure candidates for your business area.Associate Recruiting:\t\tSaturday November 3\t\t\t\t\t\tTotal - 70 Candidates for Interview Analyst Recruiting:\t\tFriday, November 16\t\t\t\t\t\tTotal - 70 Candidates for Interivew Associate Recruiting:\t\tSaturday, December 1\t\t\t\t\t\tTotal - 70 Candidates for Interview  The above spreadsheet represents ENA's particpation today which I believe highlights the need for much additional support in these efforts.Please confirm by return participation of your respective groups.Regards,\"\n",
        "generated_subject = generate_subject(model, tokenizer, example_email)\n",
        "print(\"Generated Subject:\", get_first_four_words_split(generated_subject))"
      ],
      "metadata": {
        "colab": {
          "base_uri": "https://localhost:8080/"
        },
        "id": "R6dqEMxseU16",
        "outputId": "5974fadf-1e6e-439d-a21a-8322747e2d9f"
      },
      "execution_count": null,
      "outputs": [
        {
          "output_type": "stream",
          "name": "stderr",
          "text": [
            "The attention mask and the pad token id were not set. As a consequence, you may observe unexpected behavior. Please pass your input's `attention_mask` to obtain reliable results.\n",
            "Setting `pad_token_id` to `eos_token_id`:50256 for open-end generation.\n"
          ]
        },
        {
          "output_type": "stream",
          "name": "stdout",
          "text": [
            "Generated Subject: analyst associate recruiting date\n"
          ]
        }
      ]
    },
    {
      "cell_type": "code",
      "source": [
        "example_email = \"Late on October 25th, we received information about a nonspecific threat to the Enron Center.We communicated with law enforcement officials who found the threat unsubstantiated and without merit.Nonetheless we take all threats seriously and have increased the security presence at the Enron Center still further.Once again, if you observe suspicious behavior, please call security at 3-6200.\"\n",
        "generated_subject = generate_subject(model, tokenizer, example_email)\n",
        "print(\"Generated Subject:\", get_first_four_words_split(generated_subject))"
      ],
      "metadata": {
        "colab": {
          "base_uri": "https://localhost:8080/"
        },
        "id": "M84tXn6OeY0B",
        "outputId": "5ad99f84-57bf-4889-8d5f-ad533482f6de"
      },
      "execution_count": null,
      "outputs": [
        {
          "output_type": "stream",
          "name": "stderr",
          "text": [
            "The attention mask and the pad token id were not set. As a consequence, you may observe unexpected behavior. Please pass your input's `attention_mask` to obtain reliable results.\n",
            "Setting `pad_token_id` to `eos_token_id`:50256 for open-end generation.\n"
          ]
        },
        {
          "output_type": "stream",
          "name": "stdout",
          "text": [
            "Generated Subject: late october 25th received\n"
          ]
        }
      ]
    },
    {
      "cell_type": "code",
      "source": [
        "example_email = \"Thanks in advance for agreeing to speak at the Global Operations Controller  Forum.There will be approximately 30 Enron business controllers present at  the meeting.All have responsibility for mid and back office operations for  the following Enron entities:  Enron North America, Enron Europe, Enron South  America, Enron Global Markets, Enron Industrial Markets, Enron Broadband  Services and Enron Energy Services.Attendees will be here from Houston,  Calgary, Tokyo, Sydney, London and New York (metals business).Attached for your reference is the agenda.There may be some slight changes  before the forum begins, but this will give you a good idea of the topics to  be covered and the other speakers who will address the group.You are scheduled to address the group as follows:\"\n",
        "generated_subject = generate_subject(model, tokenizer, example_email)\n",
        "print(\"Generated Subject:\", get_first_four_words_split(generated_subject))"
      ],
      "metadata": {
        "colab": {
          "base_uri": "https://localhost:8080/"
        },
        "id": "v30m6ATrebg6",
        "outputId": "98cdb73c-fc0d-49b7-f112-4f4442e07855"
      },
      "execution_count": null,
      "outputs": [
        {
          "output_type": "stream",
          "name": "stderr",
          "text": [
            "The attention mask and the pad token id were not set. As a consequence, you may observe unexpected behavior. Please pass your input's `attention_mask` to obtain reliable results.\n",
            "Setting `pad_token_id` to `eos_token_id`:50256 for open-end generation.\n"
          ]
        },
        {
          "output_type": "stream",
          "name": "stdout",
          "text": [
            "Generated Subject: thanks advance agreeing speak\n"
          ]
        }
      ]
    },
    {
      "cell_type": "code",
      "source": [
        "example_email = \"To confirm:  Mark Thomas Mike Presley  both previously on the list for Netco's Market Risk/Research Group have resigned.I'm combing the Estate for replacements.DP\"\n",
        "generated_subject = generate_subject(model, tokenizer, example_email)\n",
        "print(\"Generated Subject:\", get_first_four_words_split(generated_subject))"
      ],
      "metadata": {
        "colab": {
          "base_uri": "https://localhost:8080/"
        },
        "id": "6Wh6r1KIedcv",
        "outputId": "156892a2-6ee9-490f-fae0-906b2994859d"
      },
      "execution_count": null,
      "outputs": [
        {
          "output_type": "stream",
          "name": "stderr",
          "text": [
            "The attention mask and the pad token id were not set. As a consequence, you may observe unexpected behavior. Please pass your input's `attention_mask` to obtain reliable results.\n",
            "Setting `pad_token_id` to `eos_token_id`:50256 for open-end generation.\n"
          ]
        },
        {
          "output_type": "stream",
          "name": "stdout",
          "text": [
            "Generated Subject: confirm mark thomas mike\n"
          ]
        }
      ]
    },
    {
      "cell_type": "code",
      "source": [
        "example_email = \"Michelle;  This is the presentation which was provided to the HR VP's.The HR VPs were tasked with going off to met their BU OTCs and devise plans around the three components.We are currently collating those plans into one document.We'll send that along to you when completed.Pls call if you have any questions.\"\n",
        "generated_subject = generate_subject(model, tokenizer, example_email)\n",
        "print(\"Generated Subject:\", get_first_four_words_split(generated_subject))"
      ],
      "metadata": {
        "colab": {
          "base_uri": "https://localhost:8080/"
        },
        "id": "jOWAb6vJef3Z",
        "outputId": "0db2a11a-1c5d-4b37-cdaa-37ff795fd4a4"
      },
      "execution_count": null,
      "outputs": [
        {
          "output_type": "stream",
          "name": "stderr",
          "text": [
            "The attention mask and the pad token id were not set. As a consequence, you may observe unexpected behavior. Please pass your input's `attention_mask` to obtain reliable results.\n",
            "Setting `pad_token_id` to `eos_token_id`:50256 for open-end generation.\n"
          ]
        },
        {
          "output_type": "stream",
          "name": "stdout",
          "text": [
            "Generated Subject: michelle presentation provided hr\n"
          ]
        }
      ]
    },
    {
      "cell_type": "code",
      "source": [
        "local_model_dir = './saved_model'\n",
        "trainer.save_model(local_model_dir)"
      ],
      "metadata": {
        "id": "NWqrUDMyejhR"
      },
      "execution_count": null,
      "outputs": []
    },
    {
      "cell_type": "code",
      "source": [
        "!zip -r /content/finalmodel.zip /content/saved_model"
      ],
      "metadata": {
        "colab": {
          "base_uri": "https://localhost:8080/"
        },
        "id": "ByxKy6JAelv_",
        "outputId": "72d50db6-b65d-4037-f987-c2ad4fb9aa62"
      },
      "execution_count": null,
      "outputs": [
        {
          "output_type": "stream",
          "name": "stdout",
          "text": [
            "  adding: content/saved_model/ (stored 0%)\n",
            "  adding: content/saved_model/generation_config.json (deflated 24%)\n",
            "  adding: content/saved_model/training_args.bin (deflated 51%)\n",
            "  adding: content/saved_model/merges.txt (deflated 53%)\n",
            "  adding: content/saved_model/config.json (deflated 51%)\n",
            "  adding: content/saved_model/vocab.json (deflated 68%)\n",
            "  adding: content/saved_model/tokenizer_config.json (deflated 55%)\n",
            "  adding: content/saved_model/model.safetensors (deflated 7%)\n",
            "  adding: content/saved_model/special_tokens_map.json (deflated 74%)\n"
          ]
        }
      ]
    },
    {
      "cell_type": "code",
      "source": [
        "from google.colab import files\n",
        "files.download('/content/finalmodel.zip')"
      ],
      "metadata": {
        "colab": {
          "base_uri": "https://localhost:8080/",
          "height": 17
        },
        "id": "S8NXgQzbencX",
        "outputId": "cf76918d-010d-419b-88f1-a847a65227bc"
      },
      "execution_count": null,
      "outputs": [
        {
          "output_type": "display_data",
          "data": {
            "text/plain": [
              "<IPython.core.display.Javascript object>"
            ],
            "application/javascript": [
              "\n",
              "    async function download(id, filename, size) {\n",
              "      if (!google.colab.kernel.accessAllowed) {\n",
              "        return;\n",
              "      }\n",
              "      const div = document.createElement('div');\n",
              "      const label = document.createElement('label');\n",
              "      label.textContent = `Downloading \"${filename}\": `;\n",
              "      div.appendChild(label);\n",
              "      const progress = document.createElement('progress');\n",
              "      progress.max = size;\n",
              "      div.appendChild(progress);\n",
              "      document.body.appendChild(div);\n",
              "\n",
              "      const buffers = [];\n",
              "      let downloaded = 0;\n",
              "\n",
              "      const channel = await google.colab.kernel.comms.open(id);\n",
              "      // Send a message to notify the kernel that we're ready.\n",
              "      channel.send({})\n",
              "\n",
              "      for await (const message of channel.messages) {\n",
              "        // Send a message to notify the kernel that we're ready.\n",
              "        channel.send({})\n",
              "        if (message.buffers) {\n",
              "          for (const buffer of message.buffers) {\n",
              "            buffers.push(buffer);\n",
              "            downloaded += buffer.byteLength;\n",
              "            progress.value = downloaded;\n",
              "          }\n",
              "        }\n",
              "      }\n",
              "      const blob = new Blob(buffers, {type: 'application/binary'});\n",
              "      const a = document.createElement('a');\n",
              "      a.href = window.URL.createObjectURL(blob);\n",
              "      a.download = filename;\n",
              "      div.appendChild(a);\n",
              "      a.click();\n",
              "      div.remove();\n",
              "    }\n",
              "  "
            ]
          },
          "metadata": {}
        },
        {
          "output_type": "display_data",
          "data": {
            "text/plain": [
              "<IPython.core.display.Javascript object>"
            ],
            "application/javascript": [
              "download(\"download_7f9d3fbf-f104-4b11-b7b8-eac0310fc963\", \"finalmodel.zip\", 462898788)"
            ]
          },
          "metadata": {}
        }
      ]
    },
    {
      "cell_type": "code",
      "source": [
        "# Evaluate the model\n",
        "evaluation_results = trainer.evaluate()\n",
        "print(f\"Evaluation results: {evaluation_results}\")"
      ],
      "metadata": {
        "colab": {
          "base_uri": "https://localhost:8080/",
          "height": 74
        },
        "id": "TQoFVp8wgWkW",
        "outputId": "e7d913b1-a0b0-4ed5-e56d-0f7327b7e605"
      },
      "execution_count": null,
      "outputs": [
        {
          "output_type": "display_data",
          "data": {
            "text/plain": [
              "<IPython.core.display.HTML object>"
            ],
            "text/html": [
              "\n",
              "    <div>\n",
              "      \n",
              "      <progress value='722' max='722' style='width:300px; height:20px; vertical-align: middle;'></progress>\n",
              "      [722/722 02:19]\n",
              "    </div>\n",
              "    "
            ]
          },
          "metadata": {}
        },
        {
          "output_type": "stream",
          "name": "stdout",
          "text": [
            "Evaluation results: {'eval_loss': 0.09178252518177032, 'eval_runtime': 139.6026, 'eval_samples_per_second': 20.687, 'eval_steps_per_second': 5.172, 'epoch': 3.0}\n"
          ]
        }
      ]
    },
    {
      "cell_type": "code",
      "source": [
        "!pip install rouge_score"
      ],
      "metadata": {
        "colab": {
          "base_uri": "https://localhost:8080/"
        },
        "id": "jg_X9dXkgyPo",
        "outputId": "4f5ab27e-a1f7-44d6-bec6-2502e0fcf7a2"
      },
      "execution_count": null,
      "outputs": [
        {
          "output_type": "stream",
          "name": "stdout",
          "text": [
            "Collecting rouge_score\n",
            "  Downloading rouge_score-0.1.2.tar.gz (17 kB)\n",
            "  Preparing metadata (setup.py) ... \u001b[?25l\u001b[?25hdone\n",
            "Requirement already satisfied: absl-py in /usr/local/lib/python3.10/dist-packages (from rouge_score) (1.4.0)\n",
            "Requirement already satisfied: nltk in /usr/local/lib/python3.10/dist-packages (from rouge_score) (3.8.1)\n",
            "Requirement already satisfied: numpy in /usr/local/lib/python3.10/dist-packages (from rouge_score) (1.25.2)\n",
            "Requirement already satisfied: six>=1.14.0 in /usr/local/lib/python3.10/dist-packages (from rouge_score) (1.16.0)\n",
            "Requirement already satisfied: click in /usr/local/lib/python3.10/dist-packages (from nltk->rouge_score) (8.1.7)\n",
            "Requirement already satisfied: joblib in /usr/local/lib/python3.10/dist-packages (from nltk->rouge_score) (1.4.2)\n",
            "Requirement already satisfied: regex>=2021.8.3 in /usr/local/lib/python3.10/dist-packages (from nltk->rouge_score) (2024.5.15)\n",
            "Requirement already satisfied: tqdm in /usr/local/lib/python3.10/dist-packages (from nltk->rouge_score) (4.66.4)\n",
            "Building wheels for collected packages: rouge_score\n",
            "  Building wheel for rouge_score (setup.py) ... \u001b[?25l\u001b[?25hdone\n",
            "  Created wheel for rouge_score: filename=rouge_score-0.1.2-py3-none-any.whl size=24933 sha256=04074d11b009c961df441a384ff0742f7a33c7df08eb3c85ca97a589ea360c2c\n",
            "  Stored in directory: /root/.cache/pip/wheels/5f/dd/89/461065a73be61a532ff8599a28e9beef17985c9e9c31e541b4\n",
            "Successfully built rouge_score\n",
            "Installing collected packages: rouge_score\n",
            "Successfully installed rouge_score-0.1.2\n"
          ]
        }
      ]
    },
    {
      "cell_type": "code",
      "source": [
        "from rouge_score import rouge_scorer, scoring"
      ],
      "metadata": {
        "id": "YQUKAgC7gnJY"
      },
      "execution_count": null,
      "outputs": []
    },
    {
      "cell_type": "code",
      "source": [
        "import re\n",
        "\n",
        "# Sample email body\n",
        "email_body = \"\"\"\n",
        "All: Attached you will find a list that reflects your seat assignments for Business Continuity Planning (BCP).\n",
        "These seats are located on the 30th and 31st Floors of Enron Center North (ECN).\n",
        "As previously communicated, you will report to these designated seats in the event of an outage in ECS.\n",
        "The exception to this is as follows: If your seat assignment is located on the 31st Floor, you will report to your original location that you occupied prior to your move into ECS.\n",
        "This will hold true until the Monday after Thanksgiving, as we will have the 31st floor seats set up at that time.\n",
        "Testing: Once you have moved to ECS, if you would like to test your BCP location, you will be able to test your seat for functionality every Thursday from 3-6pm.\n",
        "Testing is not required, but is highly recommended.\n",
        "If anyone has any questions or concerns about these procedures, please feel free to contact me at any time.\n",
        "Regards,\n",
        "\n",
        "@subject\n",
        "BCP Seat Assignments\n",
        "\n",
        "@ann0\n",
        "your seat assignments for business continuity planning (bcp).\n",
        "\n",
        "@ann1\n",
        "bcp seat assignments\n",
        "\n",
        "@ann2\n",
        "here are your seat assignments for the business continuity planning event\n",
        "\"\"\""
      ],
      "metadata": {
        "id": "Qruw1Q2sga_a"
      },
      "execution_count": null,
      "outputs": []
    },
    {
      "cell_type": "code",
      "source": [
        "# Define a function to extract annotations\n",
        "def extract_annotations(email_body):\n",
        "    annotations = {}\n",
        "    final_annotations = []\n",
        "    current_annotation = None\n",
        "\n",
        "    # Split the email body by lines\n",
        "    lines = email_body.strip().split('\\n')\n",
        "\n",
        "    # Iterate through each line\n",
        "    for line in lines:\n",
        "        line = line.strip()\n",
        "\n",
        "        # Check if line starts with @ann\n",
        "        if line.startswith('@ann'):\n",
        "            current_annotation = line\n",
        "            annotations[current_annotation] = []\n",
        "        elif current_annotation:\n",
        "            # Append line to current annotation's text\n",
        "            annotations[current_annotation].append(line)\n",
        "\n",
        "    # Join lines of each annotation and return as dictionary values\n",
        "    for key in annotations:\n",
        "        annotations[key] = ' '.join(annotations[key])\n",
        "\n",
        "    for key, value in annotations.items():\n",
        "        final_annotations.append(value)\n",
        "\n",
        "    return final_annotations"
      ],
      "metadata": {
        "id": "xj2Qijpc4h34"
      },
      "execution_count": null,
      "outputs": []
    },
    {
      "cell_type": "code",
      "source": [
        "!pip install rouge"
      ],
      "metadata": {
        "colab": {
          "base_uri": "https://localhost:8080/"
        },
        "id": "-xpajntz4ouO",
        "outputId": "544db045-b03e-467f-a866-c46e826adc86"
      },
      "execution_count": null,
      "outputs": [
        {
          "output_type": "stream",
          "name": "stdout",
          "text": [
            "Collecting rouge\n",
            "  Downloading rouge-1.0.1-py3-none-any.whl (13 kB)\n",
            "Requirement already satisfied: six in /usr/local/lib/python3.10/dist-packages (from rouge) (1.16.0)\n",
            "Installing collected packages: rouge\n",
            "Successfully installed rouge-1.0.1\n"
          ]
        }
      ]
    },
    {
      "cell_type": "code",
      "source": [
        "import os\n",
        "from rouge import Rouge\n"
      ],
      "metadata": {
        "id": "RMMNzNxB4lGo"
      },
      "execution_count": null,
      "outputs": []
    },
    {
      "cell_type": "code",
      "source": [
        "def calculate_rouge_scores(hypotheses, references):\n",
        "    rouge = Rouge()\n",
        "    scores = rouge.get_scores(hypotheses, references, avg=True)\n",
        "    return scores"
      ],
      "metadata": {
        "id": "F-Yf2gen4x_R"
      },
      "execution_count": null,
      "outputs": []
    },
    {
      "cell_type": "code",
      "source": [
        "data_dir = '/content/AESLC/enron_subject_line/test'"
      ],
      "metadata": {
        "id": "JojF-d5e40jr"
      },
      "execution_count": null,
      "outputs": []
    },
    {
      "cell_type": "code",
      "source": [
        "def extract_text_subject(email_body):\n",
        "    # Check if @ann0 is present\n",
        "    pattern_with_ann0 = r'@subject\\n(.+?)\\n@ann0'\n",
        "    pattern_without_ann0 = r'@subject\\n(.+)'\n",
        "    if re.search('@ann0', email_body):\n",
        "        match = re.search(pattern_with_ann0, email_body, re.DOTALL)\n",
        "        if match:\n",
        "            return match.group(1).strip()\n",
        "    else:\n",
        "        match = re.search(pattern_without_ann0, email_body, re.DOTALL)\n",
        "        if match:\n",
        "            return match.group(1).strip()\n",
        "\n",
        "    return None  # Return None if no match found"
      ],
      "metadata": {
        "id": "WL4b_-jo5AmU"
      },
      "execution_count": null,
      "outputs": []
    },
    {
      "cell_type": "code",
      "source": [
        "# Function to load data from a directory\n",
        "def load_data_from_directory(data_dir):\n",
        "    hypotheses = []\n",
        "    references = []\n",
        "\n",
        "    # Iterate over files in the directory\n",
        "    count =1\n",
        "    for filename in os.listdir(data_dir):\n",
        "        count = count+1\n",
        "        if count > 600:\n",
        "            break\n",
        "        print(filename)\n",
        "        with open(os.path.join(data_dir, filename), 'r', encoding='utf-8', errors='ignore') as file:\n",
        "            email_text = file.read()\n",
        "\n",
        "            annotations =  extract_annotations(email_text)\n",
        "            # Extract subject from email body using regex\n",
        "\n",
        "            subject = extract_text_subject(email_text)\n",
        "            annotations.append(subject)\n",
        "\n",
        "            pattern = r'(.+)(?=@subject)'\n",
        "\n",
        "            # Use re.search to find the matching text\n",
        "            match = re.search(pattern, email_text, re.DOTALL)\n",
        "            text_before_subject = \"\"\n",
        "            if match:\n",
        "                text_before_subject = match.group(1).strip()\n",
        "                # print(\"Text before @subject:\")\n",
        "                # print(text_before_subject)\n",
        "            else:\n",
        "                print(\"No match found.\")\n",
        "            text_before_subject = text_before_subject[:512]\n",
        "            hypotheses.append(get_first_four_words_split(generate_subject(model,tokenizer,text_before_subject)))\n",
        "            references.append(annotations)\n",
        "            #print(annotations)\n",
        "\n",
        "\n",
        "\n",
        "\n",
        "    return hypotheses, references"
      ],
      "metadata": {
        "id": "ISnmkG9W5F85"
      },
      "execution_count": null,
      "outputs": []
    },
    {
      "cell_type": "code",
      "source": [
        "# Generate hypotheses and references\n",
        "hypotheses, references = load_data_from_directory(data_dir)\n",
        "hypotheses = [hypothesis.strip() for hypothesis in hypotheses]\n",
        "references = [' '.join(reference).strip() for reference in references]"
      ],
      "metadata": {
        "colab": {
          "base_uri": "https://localhost:8080/"
        },
        "id": "8_G1BwGp5Jzh",
        "outputId": "77faa4ff-9a70-487a-a66c-e45ccc8cf235"
      },
      "execution_count": null,
      "outputs": [
        {
          "output_type": "stream",
          "name": "stderr",
          "text": [
            "The attention mask and the pad token id were not set. As a consequence, you may observe unexpected behavior. Please pass your input's `attention_mask` to obtain reliable results.\n",
            "Setting `pad_token_id` to `eos_token_id`:50256 for open-end generation.\n",
            "The attention mask and the pad token id were not set. As a consequence, you may observe unexpected behavior. Please pass your input's `attention_mask` to obtain reliable results.\n",
            "Setting `pad_token_id` to `eos_token_id`:50256 for open-end generation.\n",
            "The attention mask and the pad token id were not set. As a consequence, you may observe unexpected behavior. Please pass your input's `attention_mask` to obtain reliable results.\n",
            "Setting `pad_token_id` to `eos_token_id`:50256 for open-end generation.\n"
          ]
        },
        {
          "output_type": "stream",
          "name": "stdout",
          "text": [
            "ybarbo-p_inbox_86.subject\n",
            "corman-s_inbox_67.subject\n",
            "ybarbo-p_inbox_36.subject\n"
          ]
        },
        {
          "output_type": "stream",
          "name": "stderr",
          "text": [
            "The attention mask and the pad token id were not set. As a consequence, you may observe unexpected behavior. Please pass your input's `attention_mask` to obtain reliable results.\n",
            "Setting `pad_token_id` to `eos_token_id`:50256 for open-end generation.\n",
            "The attention mask and the pad token id were not set. As a consequence, you may observe unexpected behavior. Please pass your input's `attention_mask` to obtain reliable results.\n",
            "Setting `pad_token_id` to `eos_token_id`:50256 for open-end generation.\n",
            "The attention mask and the pad token id were not set. As a consequence, you may observe unexpected behavior. Please pass your input's `attention_mask` to obtain reliable results.\n",
            "Setting `pad_token_id` to `eos_token_id`:50256 for open-end generation.\n",
            "The attention mask and the pad token id were not set. As a consequence, you may observe unexpected behavior. Please pass your input's `attention_mask` to obtain reliable results.\n",
            "Setting `pad_token_id` to `eos_token_id`:50256 for open-end generation.\n"
          ]
        },
        {
          "output_type": "stream",
          "name": "stdout",
          "text": [
            "ybarbo-p_inbox_352.subject\n",
            "lokey-t_inbox_64.subject\n",
            "lenhart-m_inbox_7.subject\n",
            "mann-k_sent_4066.subject\n"
          ]
        },
        {
          "output_type": "stream",
          "name": "stderr",
          "text": [
            "The attention mask and the pad token id were not set. As a consequence, you may observe unexpected behavior. Please pass your input's `attention_mask` to obtain reliable results.\n",
            "Setting `pad_token_id` to `eos_token_id`:50256 for open-end generation.\n",
            "The attention mask and the pad token id were not set. As a consequence, you may observe unexpected behavior. Please pass your input's `attention_mask` to obtain reliable results.\n",
            "Setting `pad_token_id` to `eos_token_id`:50256 for open-end generation.\n",
            "The attention mask and the pad token id were not set. As a consequence, you may observe unexpected behavior. Please pass your input's `attention_mask` to obtain reliable results.\n",
            "Setting `pad_token_id` to `eos_token_id`:50256 for open-end generation.\n"
          ]
        },
        {
          "output_type": "stream",
          "name": "stdout",
          "text": [
            "salisbury-h_inbox_676.subject\n",
            "fossum-d_sent_1022.subject\n",
            "ybarbo-p_inbox_185.subject\n"
          ]
        },
        {
          "output_type": "stream",
          "name": "stderr",
          "text": [
            "The attention mask and the pad token id were not set. As a consequence, you may observe unexpected behavior. Please pass your input's `attention_mask` to obtain reliable results.\n",
            "Setting `pad_token_id` to `eos_token_id`:50256 for open-end generation.\n",
            "The attention mask and the pad token id were not set. As a consequence, you may observe unexpected behavior. Please pass your input's `attention_mask` to obtain reliable results.\n",
            "Setting `pad_token_id` to `eos_token_id`:50256 for open-end generation.\n",
            "The attention mask and the pad token id were not set. As a consequence, you may observe unexpected behavior. Please pass your input's `attention_mask` to obtain reliable results.\n",
            "Setting `pad_token_id` to `eos_token_id`:50256 for open-end generation.\n",
            "The attention mask and the pad token id were not set. As a consequence, you may observe unexpected behavior. Please pass your input's `attention_mask` to obtain reliable results.\n",
            "Setting `pad_token_id` to `eos_token_id`:50256 for open-end generation.\n"
          ]
        },
        {
          "output_type": "stream",
          "name": "stdout",
          "text": [
            "ward-k_inbox_147.subject\n",
            "mcconnell-m_sent_749.subject\n",
            "kaminski-v_inbox_692.subject\n",
            "ybarbo-p_inbox_597.subject\n"
          ]
        },
        {
          "output_type": "stream",
          "name": "stderr",
          "text": [
            "The attention mask and the pad token id were not set. As a consequence, you may observe unexpected behavior. Please pass your input's `attention_mask` to obtain reliable results.\n",
            "Setting `pad_token_id` to `eos_token_id`:50256 for open-end generation.\n",
            "The attention mask and the pad token id were not set. As a consequence, you may observe unexpected behavior. Please pass your input's `attention_mask` to obtain reliable results.\n",
            "Setting `pad_token_id` to `eos_token_id`:50256 for open-end generation.\n",
            "The attention mask and the pad token id were not set. As a consequence, you may observe unexpected behavior. Please pass your input's `attention_mask` to obtain reliable results.\n",
            "Setting `pad_token_id` to `eos_token_id`:50256 for open-end generation.\n",
            "The attention mask and the pad token id were not set. As a consequence, you may observe unexpected behavior. Please pass your input's `attention_mask` to obtain reliable results.\n",
            "Setting `pad_token_id` to `eos_token_id`:50256 for open-end generation.\n",
            "The attention mask and the pad token id were not set. As a consequence, you may observe unexpected behavior. Please pass your input's `attention_mask` to obtain reliable results.\n",
            "Setting `pad_token_id` to `eos_token_id`:50256 for open-end generation.\n"
          ]
        },
        {
          "output_type": "stream",
          "name": "stdout",
          "text": [
            "nemec-g_inbox_875.subject\n",
            "shackleton-s_sent_6308.subject\n",
            "perlingiere-d_sent_1980.subject\n",
            "shackleton-s_sent_5454.subject\n",
            "ruscitti-k_inbox_196.subject\n"
          ]
        },
        {
          "output_type": "stream",
          "name": "stderr",
          "text": [
            "The attention mask and the pad token id were not set. As a consequence, you may observe unexpected behavior. Please pass your input's `attention_mask` to obtain reliable results.\n",
            "Setting `pad_token_id` to `eos_token_id`:50256 for open-end generation.\n",
            "The attention mask and the pad token id were not set. As a consequence, you may observe unexpected behavior. Please pass your input's `attention_mask` to obtain reliable results.\n",
            "Setting `pad_token_id` to `eos_token_id`:50256 for open-end generation.\n",
            "The attention mask and the pad token id were not set. As a consequence, you may observe unexpected behavior. Please pass your input's `attention_mask` to obtain reliable results.\n",
            "Setting `pad_token_id` to `eos_token_id`:50256 for open-end generation.\n",
            "The attention mask and the pad token id were not set. As a consequence, you may observe unexpected behavior. Please pass your input's `attention_mask` to obtain reliable results.\n",
            "Setting `pad_token_id` to `eos_token_id`:50256 for open-end generation.\n"
          ]
        },
        {
          "output_type": "stream",
          "name": "stdout",
          "text": [
            "whitt-m_inbox_821.subject\n",
            "slinger-r_inbox_42.subject\n",
            "mcconnell-m_inbox_50.subject\n",
            "zipper-a_inbox_208.subject\n"
          ]
        },
        {
          "output_type": "stream",
          "name": "stderr",
          "text": [
            "The attention mask and the pad token id were not set. As a consequence, you may observe unexpected behavior. Please pass your input's `attention_mask` to obtain reliable results.\n",
            "Setting `pad_token_id` to `eos_token_id`:50256 for open-end generation.\n",
            "The attention mask and the pad token id were not set. As a consequence, you may observe unexpected behavior. Please pass your input's `attention_mask` to obtain reliable results.\n",
            "Setting `pad_token_id` to `eos_token_id`:50256 for open-end generation.\n",
            "The attention mask and the pad token id were not set. As a consequence, you may observe unexpected behavior. Please pass your input's `attention_mask` to obtain reliable results.\n",
            "Setting `pad_token_id` to `eos_token_id`:50256 for open-end generation.\n",
            "The attention mask and the pad token id were not set. As a consequence, you may observe unexpected behavior. Please pass your input's `attention_mask` to obtain reliable results.\n",
            "Setting `pad_token_id` to `eos_token_id`:50256 for open-end generation.\n"
          ]
        },
        {
          "output_type": "stream",
          "name": "stdout",
          "text": [
            "haedicke-m_inbox_338.subject\n",
            "dean-c_inbox_164.subject\n",
            "salisbury-h_inbox_924.subject\n",
            "grigsby-m_sent_241.subject\n"
          ]
        },
        {
          "output_type": "stream",
          "name": "stderr",
          "text": [
            "The attention mask and the pad token id were not set. As a consequence, you may observe unexpected behavior. Please pass your input's `attention_mask` to obtain reliable results.\n",
            "Setting `pad_token_id` to `eos_token_id`:50256 for open-end generation.\n",
            "The attention mask and the pad token id were not set. As a consequence, you may observe unexpected behavior. Please pass your input's `attention_mask` to obtain reliable results.\n",
            "Setting `pad_token_id` to `eos_token_id`:50256 for open-end generation.\n",
            "The attention mask and the pad token id were not set. As a consequence, you may observe unexpected behavior. Please pass your input's `attention_mask` to obtain reliable results.\n",
            "Setting `pad_token_id` to `eos_token_id`:50256 for open-end generation.\n"
          ]
        },
        {
          "output_type": "stream",
          "name": "stdout",
          "text": [
            "williams-w3_inbox_127.subject\n",
            "cash-m_inbox_51.subject\n",
            "brawner-s_inbox_70.subject\n"
          ]
        },
        {
          "output_type": "stream",
          "name": "stderr",
          "text": [
            "The attention mask and the pad token id were not set. As a consequence, you may observe unexpected behavior. Please pass your input's `attention_mask` to obtain reliable results.\n",
            "Setting `pad_token_id` to `eos_token_id`:50256 for open-end generation.\n",
            "The attention mask and the pad token id were not set. As a consequence, you may observe unexpected behavior. Please pass your input's `attention_mask` to obtain reliable results.\n",
            "Setting `pad_token_id` to `eos_token_id`:50256 for open-end generation.\n",
            "The attention mask and the pad token id were not set. As a consequence, you may observe unexpected behavior. Please pass your input's `attention_mask` to obtain reliable results.\n",
            "Setting `pad_token_id` to `eos_token_id`:50256 for open-end generation.\n",
            "The attention mask and the pad token id were not set. As a consequence, you may observe unexpected behavior. Please pass your input's `attention_mask` to obtain reliable results.\n",
            "Setting `pad_token_id` to `eos_token_id`:50256 for open-end generation.\n"
          ]
        },
        {
          "output_type": "stream",
          "name": "stdout",
          "text": [
            "germany-c_sent_1322.subject\n",
            "campbell-l_inbox_761.subject\n",
            "haedicke-m_inbox_629.subject\n",
            "scott-s_sent_5.subject\n"
          ]
        },
        {
          "output_type": "stream",
          "name": "stderr",
          "text": [
            "The attention mask and the pad token id were not set. As a consequence, you may observe unexpected behavior. Please pass your input's `attention_mask` to obtain reliable results.\n",
            "Setting `pad_token_id` to `eos_token_id`:50256 for open-end generation.\n",
            "The attention mask and the pad token id were not set. As a consequence, you may observe unexpected behavior. Please pass your input's `attention_mask` to obtain reliable results.\n",
            "Setting `pad_token_id` to `eos_token_id`:50256 for open-end generation.\n",
            "The attention mask and the pad token id were not set. As a consequence, you may observe unexpected behavior. Please pass your input's `attention_mask` to obtain reliable results.\n",
            "Setting `pad_token_id` to `eos_token_id`:50256 for open-end generation.\n",
            "The attention mask and the pad token id were not set. As a consequence, you may observe unexpected behavior. Please pass your input's `attention_mask` to obtain reliable results.\n",
            "Setting `pad_token_id` to `eos_token_id`:50256 for open-end generation.\n"
          ]
        },
        {
          "output_type": "stream",
          "name": "stdout",
          "text": [
            "giron-d_inbox_119.subject\n",
            "saibi-e_inbox_476.subject\n",
            "donoho-l_inbox_84.subject\n",
            "salisbury-h_inbox_1031.subject\n"
          ]
        },
        {
          "output_type": "stream",
          "name": "stderr",
          "text": [
            "The attention mask and the pad token id were not set. As a consequence, you may observe unexpected behavior. Please pass your input's `attention_mask` to obtain reliable results.\n",
            "Setting `pad_token_id` to `eos_token_id`:50256 for open-end generation.\n",
            "The attention mask and the pad token id were not set. As a consequence, you may observe unexpected behavior. Please pass your input's `attention_mask` to obtain reliable results.\n",
            "Setting `pad_token_id` to `eos_token_id`:50256 for open-end generation.\n",
            "The attention mask and the pad token id were not set. As a consequence, you may observe unexpected behavior. Please pass your input's `attention_mask` to obtain reliable results.\n",
            "Setting `pad_token_id` to `eos_token_id`:50256 for open-end generation.\n",
            "The attention mask and the pad token id were not set. As a consequence, you may observe unexpected behavior. Please pass your input's `attention_mask` to obtain reliable results.\n",
            "Setting `pad_token_id` to `eos_token_id`:50256 for open-end generation.\n"
          ]
        },
        {
          "output_type": "stream",
          "name": "stdout",
          "text": [
            "carson-m_inbox_18.subject\n",
            "lay-k_inbox_1787.subject\n",
            "harris-s_inbox_23.subject\n",
            "nemec-g_sent_2310.subject\n"
          ]
        },
        {
          "output_type": "stream",
          "name": "stderr",
          "text": [
            "The attention mask and the pad token id were not set. As a consequence, you may observe unexpected behavior. Please pass your input's `attention_mask` to obtain reliable results.\n",
            "Setting `pad_token_id` to `eos_token_id`:50256 for open-end generation.\n",
            "The attention mask and the pad token id were not set. As a consequence, you may observe unexpected behavior. Please pass your input's `attention_mask` to obtain reliable results.\n",
            "Setting `pad_token_id` to `eos_token_id`:50256 for open-end generation.\n",
            "The attention mask and the pad token id were not set. As a consequence, you may observe unexpected behavior. Please pass your input's `attention_mask` to obtain reliable results.\n",
            "Setting `pad_token_id` to `eos_token_id`:50256 for open-end generation.\n",
            "The attention mask and the pad token id were not set. As a consequence, you may observe unexpected behavior. Please pass your input's `attention_mask` to obtain reliable results.\n",
            "Setting `pad_token_id` to `eos_token_id`:50256 for open-end generation.\n"
          ]
        },
        {
          "output_type": "stream",
          "name": "stdout",
          "text": [
            "campbell-l_inbox_154.subject\n",
            "haedicke-m_sent_868.subject\n",
            "stclair-c_sent_506.subject\n",
            "shackleton-s_inbox_659.subject\n"
          ]
        },
        {
          "output_type": "stream",
          "name": "stderr",
          "text": [
            "The attention mask and the pad token id were not set. As a consequence, you may observe unexpected behavior. Please pass your input's `attention_mask` to obtain reliable results.\n",
            "Setting `pad_token_id` to `eos_token_id`:50256 for open-end generation.\n",
            "The attention mask and the pad token id were not set. As a consequence, you may observe unexpected behavior. Please pass your input's `attention_mask` to obtain reliable results.\n",
            "Setting `pad_token_id` to `eos_token_id`:50256 for open-end generation.\n",
            "The attention mask and the pad token id were not set. As a consequence, you may observe unexpected behavior. Please pass your input's `attention_mask` to obtain reliable results.\n",
            "Setting `pad_token_id` to `eos_token_id`:50256 for open-end generation.\n",
            "The attention mask and the pad token id were not set. As a consequence, you may observe unexpected behavior. Please pass your input's `attention_mask` to obtain reliable results.\n",
            "Setting `pad_token_id` to `eos_token_id`:50256 for open-end generation.\n"
          ]
        },
        {
          "output_type": "stream",
          "name": "stdout",
          "text": [
            "mann-k_sent_289.subject\n",
            "skilling-j_inbox_1323.subject\n",
            "germany-c_inbox_64.subject\n",
            "jones-t_sent_2127.subject\n"
          ]
        },
        {
          "output_type": "stream",
          "name": "stderr",
          "text": [
            "The attention mask and the pad token id were not set. As a consequence, you may observe unexpected behavior. Please pass your input's `attention_mask` to obtain reliable results.\n",
            "Setting `pad_token_id` to `eos_token_id`:50256 for open-end generation.\n",
            "The attention mask and the pad token id were not set. As a consequence, you may observe unexpected behavior. Please pass your input's `attention_mask` to obtain reliable results.\n",
            "Setting `pad_token_id` to `eos_token_id`:50256 for open-end generation.\n",
            "The attention mask and the pad token id were not set. As a consequence, you may observe unexpected behavior. Please pass your input's `attention_mask` to obtain reliable results.\n",
            "Setting `pad_token_id` to `eos_token_id`:50256 for open-end generation.\n"
          ]
        },
        {
          "output_type": "stream",
          "name": "stdout",
          "text": [
            "neal-s_inbox_32.subject\n",
            "townsend-j_inbox_279.subject\n",
            "shackleton-s_sent_5849.subject\n"
          ]
        },
        {
          "output_type": "stream",
          "name": "stderr",
          "text": [
            "The attention mask and the pad token id were not set. As a consequence, you may observe unexpected behavior. Please pass your input's `attention_mask` to obtain reliable results.\n",
            "Setting `pad_token_id` to `eos_token_id`:50256 for open-end generation.\n",
            "The attention mask and the pad token id were not set. As a consequence, you may observe unexpected behavior. Please pass your input's `attention_mask` to obtain reliable results.\n",
            "Setting `pad_token_id` to `eos_token_id`:50256 for open-end generation.\n",
            "The attention mask and the pad token id were not set. As a consequence, you may observe unexpected behavior. Please pass your input's `attention_mask` to obtain reliable results.\n",
            "Setting `pad_token_id` to `eos_token_id`:50256 for open-end generation.\n"
          ]
        },
        {
          "output_type": "stream",
          "name": "stdout",
          "text": [
            "salisbury-h_inbox_624.subject\n",
            "jones-t_sent_59.subject\n",
            "kaminski-v_inbox_327.subject\n"
          ]
        },
        {
          "output_type": "stream",
          "name": "stderr",
          "text": [
            "The attention mask and the pad token id were not set. As a consequence, you may observe unexpected behavior. Please pass your input's `attention_mask` to obtain reliable results.\n",
            "Setting `pad_token_id` to `eos_token_id`:50256 for open-end generation.\n",
            "The attention mask and the pad token id were not set. As a consequence, you may observe unexpected behavior. Please pass your input's `attention_mask` to obtain reliable results.\n",
            "Setting `pad_token_id` to `eos_token_id`:50256 for open-end generation.\n",
            "The attention mask and the pad token id were not set. As a consequence, you may observe unexpected behavior. Please pass your input's `attention_mask` to obtain reliable results.\n",
            "Setting `pad_token_id` to `eos_token_id`:50256 for open-end generation.\n"
          ]
        },
        {
          "output_type": "stream",
          "name": "stdout",
          "text": [
            "ruscitti-k_sent_147.subject\n",
            "buy-r_inbox_695.subject\n",
            "arnold-j_inbox_141.subject\n"
          ]
        },
        {
          "output_type": "stream",
          "name": "stderr",
          "text": [
            "The attention mask and the pad token id were not set. As a consequence, you may observe unexpected behavior. Please pass your input's `attention_mask` to obtain reliable results.\n",
            "Setting `pad_token_id` to `eos_token_id`:50256 for open-end generation.\n",
            "The attention mask and the pad token id were not set. As a consequence, you may observe unexpected behavior. Please pass your input's `attention_mask` to obtain reliable results.\n",
            "Setting `pad_token_id` to `eos_token_id`:50256 for open-end generation.\n",
            "The attention mask and the pad token id were not set. As a consequence, you may observe unexpected behavior. Please pass your input's `attention_mask` to obtain reliable results.\n"
          ]
        },
        {
          "output_type": "stream",
          "name": "stdout",
          "text": [
            "smith-m_inbox_504.subject\n",
            "mann-k_sent_4166.subject\n",
            "keavey-p_inbox_400.subject\n"
          ]
        },
        {
          "output_type": "stream",
          "name": "stderr",
          "text": [
            "Setting `pad_token_id` to `eos_token_id`:50256 for open-end generation.\n",
            "The attention mask and the pad token id were not set. As a consequence, you may observe unexpected behavior. Please pass your input's `attention_mask` to obtain reliable results.\n",
            "Setting `pad_token_id` to `eos_token_id`:50256 for open-end generation.\n",
            "The attention mask and the pad token id were not set. As a consequence, you may observe unexpected behavior. Please pass your input's `attention_mask` to obtain reliable results.\n",
            "Setting `pad_token_id` to `eos_token_id`:50256 for open-end generation.\n",
            "The attention mask and the pad token id were not set. As a consequence, you may observe unexpected behavior. Please pass your input's `attention_mask` to obtain reliable results.\n",
            "Setting `pad_token_id` to `eos_token_id`:50256 for open-end generation.\n"
          ]
        },
        {
          "output_type": "stream",
          "name": "stdout",
          "text": [
            "blair-l_inbox_111.subject\n",
            "tholt-j_sent_147.subject\n",
            "mann-k_sent_87.subject\n"
          ]
        },
        {
          "output_type": "stream",
          "name": "stderr",
          "text": [
            "The attention mask and the pad token id were not set. As a consequence, you may observe unexpected behavior. Please pass your input's `attention_mask` to obtain reliable results.\n",
            "Setting `pad_token_id` to `eos_token_id`:50256 for open-end generation.\n",
            "The attention mask and the pad token id were not set. As a consequence, you may observe unexpected behavior. Please pass your input's `attention_mask` to obtain reliable results.\n",
            "Setting `pad_token_id` to `eos_token_id`:50256 for open-end generation.\n",
            "The attention mask and the pad token id were not set. As a consequence, you may observe unexpected behavior. Please pass your input's `attention_mask` to obtain reliable results.\n",
            "Setting `pad_token_id` to `eos_token_id`:50256 for open-end generation.\n"
          ]
        },
        {
          "output_type": "stream",
          "name": "stdout",
          "text": [
            "shapiro-r_sent_10.subject\n",
            "germany-c_sent_152.subject\n",
            "lucci-p_inbox_66.subject\n"
          ]
        },
        {
          "output_type": "stream",
          "name": "stderr",
          "text": [
            "The attention mask and the pad token id were not set. As a consequence, you may observe unexpected behavior. Please pass your input's `attention_mask` to obtain reliable results.\n",
            "Setting `pad_token_id` to `eos_token_id`:50256 for open-end generation.\n",
            "The attention mask and the pad token id were not set. As a consequence, you may observe unexpected behavior. Please pass your input's `attention_mask` to obtain reliable results.\n",
            "Setting `pad_token_id` to `eos_token_id`:50256 for open-end generation.\n"
          ]
        },
        {
          "output_type": "stream",
          "name": "stdout",
          "text": [
            "tycholiz-b_inbox_102.subject\n",
            "nemec-g_sent_769.subject\n",
            "mann-k_sent_3751.subject\n"
          ]
        },
        {
          "output_type": "stream",
          "name": "stderr",
          "text": [
            "The attention mask and the pad token id were not set. As a consequence, you may observe unexpected behavior. Please pass your input's `attention_mask` to obtain reliable results.\n",
            "Setting `pad_token_id` to `eos_token_id`:50256 for open-end generation.\n",
            "The attention mask and the pad token id were not set. As a consequence, you may observe unexpected behavior. Please pass your input's `attention_mask` to obtain reliable results.\n",
            "Setting `pad_token_id` to `eos_token_id`:50256 for open-end generation.\n",
            "The attention mask and the pad token id were not set. As a consequence, you may observe unexpected behavior. Please pass your input's `attention_mask` to obtain reliable results.\n",
            "Setting `pad_token_id` to `eos_token_id`:50256 for open-end generation.\n",
            "The attention mask and the pad token id were not set. As a consequence, you may observe unexpected behavior. Please pass your input's `attention_mask` to obtain reliable results.\n"
          ]
        },
        {
          "output_type": "stream",
          "name": "stdout",
          "text": [
            "dasovich-j_sent_4289.subject\n",
            "motley-m_inbox_49.subject\n",
            "saibi-e_inbox_736.subject\n"
          ]
        },
        {
          "output_type": "stream",
          "name": "stderr",
          "text": [
            "Setting `pad_token_id` to `eos_token_id`:50256 for open-end generation.\n",
            "The attention mask and the pad token id were not set. As a consequence, you may observe unexpected behavior. Please pass your input's `attention_mask` to obtain reliable results.\n",
            "Setting `pad_token_id` to `eos_token_id`:50256 for open-end generation.\n",
            "The attention mask and the pad token id were not set. As a consequence, you may observe unexpected behavior. Please pass your input's `attention_mask` to obtain reliable results.\n",
            "Setting `pad_token_id` to `eos_token_id`:50256 for open-end generation.\n",
            "The attention mask and the pad token id were not set. As a consequence, you may observe unexpected behavior. Please pass your input's `attention_mask` to obtain reliable results.\n",
            "Setting `pad_token_id` to `eos_token_id`:50256 for open-end generation.\n"
          ]
        },
        {
          "output_type": "stream",
          "name": "stdout",
          "text": [
            "thomas-p_inbox_388.subject\n",
            "jones-t_sent_5781.subject\n",
            "mann-k_sent_989.subject\n"
          ]
        },
        {
          "output_type": "stream",
          "name": "stderr",
          "text": [
            "The attention mask and the pad token id were not set. As a consequence, you may observe unexpected behavior. Please pass your input's `attention_mask` to obtain reliable results.\n",
            "Setting `pad_token_id` to `eos_token_id`:50256 for open-end generation.\n",
            "The attention mask and the pad token id were not set. As a consequence, you may observe unexpected behavior. Please pass your input's `attention_mask` to obtain reliable results.\n",
            "Setting `pad_token_id` to `eos_token_id`:50256 for open-end generation.\n"
          ]
        },
        {
          "output_type": "stream",
          "name": "stdout",
          "text": [
            "haedicke-m_inbox_13.subject\n",
            "zipper-a_inbox_62.subject\n",
            "jones-t_sent_5744.subject\n"
          ]
        },
        {
          "output_type": "stream",
          "name": "stderr",
          "text": [
            "The attention mask and the pad token id were not set. As a consequence, you may observe unexpected behavior. Please pass your input's `attention_mask` to obtain reliable results.\n",
            "Setting `pad_token_id` to `eos_token_id`:50256 for open-end generation.\n",
            "The attention mask and the pad token id were not set. As a consequence, you may observe unexpected behavior. Please pass your input's `attention_mask` to obtain reliable results.\n",
            "Setting `pad_token_id` to `eos_token_id`:50256 for open-end generation.\n",
            "The attention mask and the pad token id were not set. As a consequence, you may observe unexpected behavior. Please pass your input's `attention_mask` to obtain reliable results.\n",
            "Setting `pad_token_id` to `eos_token_id`:50256 for open-end generation.\n"
          ]
        },
        {
          "output_type": "stream",
          "name": "stdout",
          "text": [
            "dasovich-j_inbox_353.subject\n",
            "whalley-g_inbox_133.subject\n"
          ]
        },
        {
          "output_type": "stream",
          "name": "stderr",
          "text": [
            "The attention mask and the pad token id were not set. As a consequence, you may observe unexpected behavior. Please pass your input's `attention_mask` to obtain reliable results.\n",
            "Setting `pad_token_id` to `eos_token_id`:50256 for open-end generation.\n",
            "The attention mask and the pad token id were not set. As a consequence, you may observe unexpected behavior. Please pass your input's `attention_mask` to obtain reliable results.\n",
            "Setting `pad_token_id` to `eos_token_id`:50256 for open-end generation.\n",
            "The attention mask and the pad token id were not set. As a consequence, you may observe unexpected behavior. Please pass your input's `attention_mask` to obtain reliable results.\n",
            "Setting `pad_token_id` to `eos_token_id`:50256 for open-end generation.\n"
          ]
        },
        {
          "output_type": "stream",
          "name": "stdout",
          "text": [
            "mims-thurston-p_sent_179.subject\n",
            "beck-s_sent_478.subject\n",
            "nemec-g_inbox_739.subject\n"
          ]
        },
        {
          "output_type": "stream",
          "name": "stderr",
          "text": [
            "The attention mask and the pad token id were not set. As a consequence, you may observe unexpected behavior. Please pass your input's `attention_mask` to obtain reliable results.\n",
            "Setting `pad_token_id` to `eos_token_id`:50256 for open-end generation.\n",
            "The attention mask and the pad token id were not set. As a consequence, you may observe unexpected behavior. Please pass your input's `attention_mask` to obtain reliable results.\n",
            "Setting `pad_token_id` to `eos_token_id`:50256 for open-end generation.\n"
          ]
        },
        {
          "output_type": "stream",
          "name": "stdout",
          "text": [
            "cash-m_sent_669.subject\n",
            "kitchen-l_inbox_105.subject\n"
          ]
        },
        {
          "output_type": "stream",
          "name": "stderr",
          "text": [
            "The attention mask and the pad token id were not set. As a consequence, you may observe unexpected behavior. Please pass your input's `attention_mask` to obtain reliable results.\n",
            "Setting `pad_token_id` to `eos_token_id`:50256 for open-end generation.\n",
            "The attention mask and the pad token id were not set. As a consequence, you may observe unexpected behavior. Please pass your input's `attention_mask` to obtain reliable results.\n",
            "Setting `pad_token_id` to `eos_token_id`:50256 for open-end generation.\n"
          ]
        },
        {
          "output_type": "stream",
          "name": "stdout",
          "text": [
            "heard-m_inbox_132.subject\n",
            "shackleton-s_sent_2118.subject\n"
          ]
        },
        {
          "output_type": "stream",
          "name": "stderr",
          "text": [
            "The attention mask and the pad token id were not set. As a consequence, you may observe unexpected behavior. Please pass your input's `attention_mask` to obtain reliable results.\n",
            "Setting `pad_token_id` to `eos_token_id`:50256 for open-end generation.\n",
            "The attention mask and the pad token id were not set. As a consequence, you may observe unexpected behavior. Please pass your input's `attention_mask` to obtain reliable results.\n",
            "Setting `pad_token_id` to `eos_token_id`:50256 for open-end generation.\n",
            "The attention mask and the pad token id were not set. As a consequence, you may observe unexpected behavior. Please pass your input's `attention_mask` to obtain reliable results.\n",
            "Setting `pad_token_id` to `eos_token_id`:50256 for open-end generation.\n",
            "The attention mask and the pad token id were not set. As a consequence, you may observe unexpected behavior. Please pass your input's `attention_mask` to obtain reliable results.\n",
            "Setting `pad_token_id` to `eos_token_id`:50256 for open-end generation.\n"
          ]
        },
        {
          "output_type": "stream",
          "name": "stdout",
          "text": [
            "germany-c_inbox_24.subject\n",
            "shackleton-s_inbox_1140.subject\n",
            "beck-s_inbox_725.subject\n",
            "scott-s_sent_47.subject\n"
          ]
        },
        {
          "output_type": "stream",
          "name": "stderr",
          "text": [
            "The attention mask and the pad token id were not set. As a consequence, you may observe unexpected behavior. Please pass your input's `attention_mask` to obtain reliable results.\n",
            "Setting `pad_token_id` to `eos_token_id`:50256 for open-end generation.\n",
            "The attention mask and the pad token id were not set. As a consequence, you may observe unexpected behavior. Please pass your input's `attention_mask` to obtain reliable results.\n",
            "Setting `pad_token_id` to `eos_token_id`:50256 for open-end generation.\n",
            "The attention mask and the pad token id were not set. As a consequence, you may observe unexpected behavior. Please pass your input's `attention_mask` to obtain reliable results.\n",
            "Setting `pad_token_id` to `eos_token_id`:50256 for open-end generation.\n",
            "The attention mask and the pad token id were not set. As a consequence, you may observe unexpected behavior. Please pass your input's `attention_mask` to obtain reliable results.\n",
            "Setting `pad_token_id` to `eos_token_id`:50256 for open-end generation.\n"
          ]
        },
        {
          "output_type": "stream",
          "name": "stdout",
          "text": [
            "germany-c_inbox_108.subject\n",
            "hodge-j_inbox_506.subject\n",
            "nemec-g_inbox_1759.subject\n",
            "nemec-g_sent_814.subject\n"
          ]
        },
        {
          "output_type": "stream",
          "name": "stderr",
          "text": [
            "The attention mask and the pad token id were not set. As a consequence, you may observe unexpected behavior. Please pass your input's `attention_mask` to obtain reliable results.\n",
            "Setting `pad_token_id` to `eos_token_id`:50256 for open-end generation.\n",
            "The attention mask and the pad token id were not set. As a consequence, you may observe unexpected behavior. Please pass your input's `attention_mask` to obtain reliable results.\n",
            "Setting `pad_token_id` to `eos_token_id`:50256 for open-end generation.\n",
            "The attention mask and the pad token id were not set. As a consequence, you may observe unexpected behavior. Please pass your input's `attention_mask` to obtain reliable results.\n",
            "Setting `pad_token_id` to `eos_token_id`:50256 for open-end generation.\n",
            "The attention mask and the pad token id were not set. As a consequence, you may observe unexpected behavior. Please pass your input's `attention_mask` to obtain reliable results.\n",
            "Setting `pad_token_id` to `eos_token_id`:50256 for open-end generation.\n"
          ]
        },
        {
          "output_type": "stream",
          "name": "stdout",
          "text": [
            "mcconnell-m_sent_21.subject\n",
            "sager-e_inbox_538.subject\n",
            "perlingiere-d_sent_2618.subject\n",
            "nemec-g_inbox_1689.subject\n",
            "nemec-g_sent_2070.subject\n"
          ]
        },
        {
          "output_type": "stream",
          "name": "stderr",
          "text": [
            "The attention mask and the pad token id were not set. As a consequence, you may observe unexpected behavior. Please pass your input's `attention_mask` to obtain reliable results.\n",
            "Setting `pad_token_id` to `eos_token_id`:50256 for open-end generation.\n",
            "The attention mask and the pad token id were not set. As a consequence, you may observe unexpected behavior. Please pass your input's `attention_mask` to obtain reliable results.\n",
            "Setting `pad_token_id` to `eos_token_id`:50256 for open-end generation.\n",
            "The attention mask and the pad token id were not set. As a consequence, you may observe unexpected behavior. Please pass your input's `attention_mask` to obtain reliable results.\n",
            "Setting `pad_token_id` to `eos_token_id`:50256 for open-end generation.\n",
            "The attention mask and the pad token id were not set. As a consequence, you may observe unexpected behavior. Please pass your input's `attention_mask` to obtain reliable results.\n",
            "Setting `pad_token_id` to `eos_token_id`:50256 for open-end generation.\n",
            "The attention mask and the pad token id were not set. As a consequence, you may observe unexpected behavior. Please pass your input's `attention_mask` to obtain reliable results.\n",
            "Setting `pad_token_id` to `eos_token_id`:50256 for open-end generation.\n"
          ]
        },
        {
          "output_type": "stream",
          "name": "stdout",
          "text": [
            "buy-r_inbox_650.subject\n",
            "jones-t_inbox_345.subject\n",
            "love-p_sent_862.subject\n",
            "quigley-d_inbox_4.subject\n"
          ]
        },
        {
          "output_type": "stream",
          "name": "stderr",
          "text": [
            "The attention mask and the pad token id were not set. As a consequence, you may observe unexpected behavior. Please pass your input's `attention_mask` to obtain reliable results.\n",
            "Setting `pad_token_id` to `eos_token_id`:50256 for open-end generation.\n",
            "The attention mask and the pad token id were not set. As a consequence, you may observe unexpected behavior. Please pass your input's `attention_mask` to obtain reliable results.\n",
            "Setting `pad_token_id` to `eos_token_id`:50256 for open-end generation.\n",
            "The attention mask and the pad token id were not set. As a consequence, you may observe unexpected behavior. Please pass your input's `attention_mask` to obtain reliable results.\n",
            "Setting `pad_token_id` to `eos_token_id`:50256 for open-end generation.\n",
            "The attention mask and the pad token id were not set. As a consequence, you may observe unexpected behavior. Please pass your input's `attention_mask` to obtain reliable results.\n",
            "Setting `pad_token_id` to `eos_token_id`:50256 for open-end generation.\n"
          ]
        },
        {
          "output_type": "stream",
          "name": "stdout",
          "text": [
            "williams-w3_inbox_26.subject\n",
            "hernandez-j_inbox_345.subject\n",
            "skilling-j_inbox_1188.subject\n",
            "dorland-c_inbox_4.subject\n"
          ]
        },
        {
          "output_type": "stream",
          "name": "stderr",
          "text": [
            "The attention mask and the pad token id were not set. As a consequence, you may observe unexpected behavior. Please pass your input's `attention_mask` to obtain reliable results.\n",
            "Setting `pad_token_id` to `eos_token_id`:50256 for open-end generation.\n",
            "The attention mask and the pad token id were not set. As a consequence, you may observe unexpected behavior. Please pass your input's `attention_mask` to obtain reliable results.\n",
            "Setting `pad_token_id` to `eos_token_id`:50256 for open-end generation.\n",
            "The attention mask and the pad token id were not set. As a consequence, you may observe unexpected behavior. Please pass your input's `attention_mask` to obtain reliable results.\n",
            "Setting `pad_token_id` to `eos_token_id`:50256 for open-end generation.\n",
            "The attention mask and the pad token id were not set. As a consequence, you may observe unexpected behavior. Please pass your input's `attention_mask` to obtain reliable results.\n",
            "Setting `pad_token_id` to `eos_token_id`:50256 for open-end generation.\n"
          ]
        },
        {
          "output_type": "stream",
          "name": "stdout",
          "text": [
            "dasovich-j_inbox_1473.subject\n",
            "dasovich-j_inbox_813.subject\n",
            "mann-k_sent_3929.subject\n",
            "dasovich-j_sent_2826.subject\n"
          ]
        },
        {
          "output_type": "stream",
          "name": "stderr",
          "text": [
            "The attention mask and the pad token id were not set. As a consequence, you may observe unexpected behavior. Please pass your input's `attention_mask` to obtain reliable results.\n",
            "Setting `pad_token_id` to `eos_token_id`:50256 for open-end generation.\n",
            "The attention mask and the pad token id were not set. As a consequence, you may observe unexpected behavior. Please pass your input's `attention_mask` to obtain reliable results.\n",
            "Setting `pad_token_id` to `eos_token_id`:50256 for open-end generation.\n",
            "The attention mask and the pad token id were not set. As a consequence, you may observe unexpected behavior. Please pass your input's `attention_mask` to obtain reliable results.\n",
            "Setting `pad_token_id` to `eos_token_id`:50256 for open-end generation.\n",
            "The attention mask and the pad token id were not set. As a consequence, you may observe unexpected behavior. Please pass your input's `attention_mask` to obtain reliable results.\n",
            "Setting `pad_token_id` to `eos_token_id`:50256 for open-end generation.\n"
          ]
        },
        {
          "output_type": "stream",
          "name": "stdout",
          "text": [
            "delainey-d_sent_718.subject\n",
            "scott-s_sent_756.subject\n",
            "scott-s_sent_598.subject\n",
            "williams-j_inbox_55.subject\n"
          ]
        },
        {
          "output_type": "stream",
          "name": "stderr",
          "text": [
            "The attention mask and the pad token id were not set. As a consequence, you may observe unexpected behavior. Please pass your input's `attention_mask` to obtain reliable results.\n",
            "Setting `pad_token_id` to `eos_token_id`:50256 for open-end generation.\n",
            "The attention mask and the pad token id were not set. As a consequence, you may observe unexpected behavior. Please pass your input's `attention_mask` to obtain reliable results.\n",
            "Setting `pad_token_id` to `eos_token_id`:50256 for open-end generation.\n",
            "The attention mask and the pad token id were not set. As a consequence, you may observe unexpected behavior. Please pass your input's `attention_mask` to obtain reliable results.\n",
            "Setting `pad_token_id` to `eos_token_id`:50256 for open-end generation.\n",
            "The attention mask and the pad token id were not set. As a consequence, you may observe unexpected behavior. Please pass your input's `attention_mask` to obtain reliable results.\n",
            "Setting `pad_token_id` to `eos_token_id`:50256 for open-end generation.\n"
          ]
        },
        {
          "output_type": "stream",
          "name": "stdout",
          "text": [
            "arnold-j_inbox_153.subject\n",
            "whalley-g_inbox_486.subject\n",
            "shackleton-s_sent_618.subject\n",
            "williams-j_inbox_10.subject\n"
          ]
        },
        {
          "output_type": "stream",
          "name": "stderr",
          "text": [
            "The attention mask and the pad token id were not set. As a consequence, you may observe unexpected behavior. Please pass your input's `attention_mask` to obtain reliable results.\n",
            "Setting `pad_token_id` to `eos_token_id`:50256 for open-end generation.\n",
            "The attention mask and the pad token id were not set. As a consequence, you may observe unexpected behavior. Please pass your input's `attention_mask` to obtain reliable results.\n",
            "Setting `pad_token_id` to `eos_token_id`:50256 for open-end generation.\n",
            "The attention mask and the pad token id were not set. As a consequence, you may observe unexpected behavior. Please pass your input's `attention_mask` to obtain reliable results.\n",
            "Setting `pad_token_id` to `eos_token_id`:50256 for open-end generation.\n",
            "The attention mask and the pad token id were not set. As a consequence, you may observe unexpected behavior. Please pass your input's `attention_mask` to obtain reliable results.\n",
            "Setting `pad_token_id` to `eos_token_id`:50256 for open-end generation.\n"
          ]
        },
        {
          "output_type": "stream",
          "name": "stdout",
          "text": [
            "neal-s_inbox_159.subject\n",
            "neal-s_inbox_60.subject\n",
            "skilling-j_inbox_2458.subject\n",
            "symes-k_sent_1237.subject\n"
          ]
        },
        {
          "output_type": "stream",
          "name": "stderr",
          "text": [
            "The attention mask and the pad token id were not set. As a consequence, you may observe unexpected behavior. Please pass your input's `attention_mask` to obtain reliable results.\n",
            "Setting `pad_token_id` to `eos_token_id`:50256 for open-end generation.\n",
            "The attention mask and the pad token id were not set. As a consequence, you may observe unexpected behavior. Please pass your input's `attention_mask` to obtain reliable results.\n",
            "Setting `pad_token_id` to `eos_token_id`:50256 for open-end generation.\n",
            "The attention mask and the pad token id were not set. As a consequence, you may observe unexpected behavior. Please pass your input's `attention_mask` to obtain reliable results.\n",
            "Setting `pad_token_id` to `eos_token_id`:50256 for open-end generation.\n"
          ]
        },
        {
          "output_type": "stream",
          "name": "stdout",
          "text": [
            "mann-k_sent_1263.subject\n",
            "lay-k_inbox_263.subject\n",
            "taylor-m_inbox_68.subject\n"
          ]
        },
        {
          "output_type": "stream",
          "name": "stderr",
          "text": [
            "The attention mask and the pad token id were not set. As a consequence, you may observe unexpected behavior. Please pass your input's `attention_mask` to obtain reliable results.\n",
            "Setting `pad_token_id` to `eos_token_id`:50256 for open-end generation.\n",
            "The attention mask and the pad token id were not set. As a consequence, you may observe unexpected behavior. Please pass your input's `attention_mask` to obtain reliable results.\n",
            "Setting `pad_token_id` to `eos_token_id`:50256 for open-end generation.\n",
            "The attention mask and the pad token id were not set. As a consequence, you may observe unexpected behavior. Please pass your input's `attention_mask` to obtain reliable results.\n",
            "Setting `pad_token_id` to `eos_token_id`:50256 for open-end generation.\n",
            "The attention mask and the pad token id were not set. As a consequence, you may observe unexpected behavior. Please pass your input's `attention_mask` to obtain reliable results.\n",
            "Setting `pad_token_id` to `eos_token_id`:50256 for open-end generation.\n"
          ]
        },
        {
          "output_type": "stream",
          "name": "stdout",
          "text": [
            "smith-m_inbox_276.subject\n",
            "fischer-m_inbox_43.subject\n",
            "skilling-j_inbox_1431.subject\n",
            "mclaughlin-e_sent_281.subject\n"
          ]
        },
        {
          "output_type": "stream",
          "name": "stderr",
          "text": [
            "The attention mask and the pad token id were not set. As a consequence, you may observe unexpected behavior. Please pass your input's `attention_mask` to obtain reliable results.\n",
            "Setting `pad_token_id` to `eos_token_id`:50256 for open-end generation.\n",
            "The attention mask and the pad token id were not set. As a consequence, you may observe unexpected behavior. Please pass your input's `attention_mask` to obtain reliable results.\n",
            "Setting `pad_token_id` to `eos_token_id`:50256 for open-end generation.\n",
            "The attention mask and the pad token id were not set. As a consequence, you may observe unexpected behavior. Please pass your input's `attention_mask` to obtain reliable results.\n",
            "Setting `pad_token_id` to `eos_token_id`:50256 for open-end generation.\n",
            "The attention mask and the pad token id were not set. As a consequence, you may observe unexpected behavior. Please pass your input's `attention_mask` to obtain reliable results.\n",
            "Setting `pad_token_id` to `eos_token_id`:50256 for open-end generation.\n"
          ]
        },
        {
          "output_type": "stream",
          "name": "stdout",
          "text": [
            "shackleton-s_sent_623.subject\n",
            "hayslett-r_inbox_216.subject\n",
            "may-l_inbox_278.subject\n",
            "shackleton-s_inbox_1123.subject\n"
          ]
        },
        {
          "output_type": "stream",
          "name": "stderr",
          "text": [
            "The attention mask and the pad token id were not set. As a consequence, you may observe unexpected behavior. Please pass your input's `attention_mask` to obtain reliable results.\n",
            "Setting `pad_token_id` to `eos_token_id`:50256 for open-end generation.\n",
            "The attention mask and the pad token id were not set. As a consequence, you may observe unexpected behavior. Please pass your input's `attention_mask` to obtain reliable results.\n",
            "Setting `pad_token_id` to `eos_token_id`:50256 for open-end generation.\n",
            "The attention mask and the pad token id were not set. As a consequence, you may observe unexpected behavior. Please pass your input's `attention_mask` to obtain reliable results.\n",
            "Setting `pad_token_id` to `eos_token_id`:50256 for open-end generation.\n"
          ]
        },
        {
          "output_type": "stream",
          "name": "stdout",
          "text": [
            "dasovich-j_sent_4011.subject\n",
            "mccarty-d_inbox_30.subject\n",
            "shackleton-s_sent_1855.subject\n"
          ]
        },
        {
          "output_type": "stream",
          "name": "stderr",
          "text": [
            "The attention mask and the pad token id were not set. As a consequence, you may observe unexpected behavior. Please pass your input's `attention_mask` to obtain reliable results.\n",
            "Setting `pad_token_id` to `eos_token_id`:50256 for open-end generation.\n",
            "The attention mask and the pad token id were not set. As a consequence, you may observe unexpected behavior. Please pass your input's `attention_mask` to obtain reliable results.\n",
            "Setting `pad_token_id` to `eos_token_id`:50256 for open-end generation.\n"
          ]
        },
        {
          "output_type": "stream",
          "name": "stdout",
          "text": [
            "tycholiz-b_inbox_531.subject\n",
            "dasovich-j_inbox_1311.subject\n"
          ]
        },
        {
          "output_type": "stream",
          "name": "stderr",
          "text": [
            "The attention mask and the pad token id were not set. As a consequence, you may observe unexpected behavior. Please pass your input's `attention_mask` to obtain reliable results.\n",
            "Setting `pad_token_id` to `eos_token_id`:50256 for open-end generation.\n",
            "The attention mask and the pad token id were not set. As a consequence, you may observe unexpected behavior. Please pass your input's `attention_mask` to obtain reliable results.\n",
            "Setting `pad_token_id` to `eos_token_id`:50256 for open-end generation.\n"
          ]
        },
        {
          "output_type": "stream",
          "name": "stdout",
          "text": [
            "campbell-l_sent_100.subject\n",
            "lay-k_inbox_642.subject\n"
          ]
        },
        {
          "output_type": "stream",
          "name": "stderr",
          "text": [
            "The attention mask and the pad token id were not set. As a consequence, you may observe unexpected behavior. Please pass your input's `attention_mask` to obtain reliable results.\n",
            "Setting `pad_token_id` to `eos_token_id`:50256 for open-end generation.\n",
            "The attention mask and the pad token id were not set. As a consequence, you may observe unexpected behavior. Please pass your input's `attention_mask` to obtain reliable results.\n",
            "Setting `pad_token_id` to `eos_token_id`:50256 for open-end generation.\n"
          ]
        },
        {
          "output_type": "stream",
          "name": "stdout",
          "text": [
            "skilling-j_inbox_417.subject\n",
            "whalley-g_inbox_504.subject\n"
          ]
        },
        {
          "output_type": "stream",
          "name": "stderr",
          "text": [
            "The attention mask and the pad token id were not set. As a consequence, you may observe unexpected behavior. Please pass your input's `attention_mask` to obtain reliable results.\n",
            "Setting `pad_token_id` to `eos_token_id`:50256 for open-end generation.\n",
            "The attention mask and the pad token id were not set. As a consequence, you may observe unexpected behavior. Please pass your input's `attention_mask` to obtain reliable results.\n",
            "Setting `pad_token_id` to `eos_token_id`:50256 for open-end generation.\n"
          ]
        },
        {
          "output_type": "stream",
          "name": "stdout",
          "text": [
            "jones-t_sent_6248.subject\n",
            "lokey-t_inbox_63.subject\n"
          ]
        },
        {
          "output_type": "stream",
          "name": "stderr",
          "text": [
            "The attention mask and the pad token id were not set. As a consequence, you may observe unexpected behavior. Please pass your input's `attention_mask` to obtain reliable results.\n",
            "Setting `pad_token_id` to `eos_token_id`:50256 for open-end generation.\n",
            "The attention mask and the pad token id were not set. As a consequence, you may observe unexpected behavior. Please pass your input's `attention_mask` to obtain reliable results.\n",
            "Setting `pad_token_id` to `eos_token_id`:50256 for open-end generation.\n"
          ]
        },
        {
          "output_type": "stream",
          "name": "stdout",
          "text": [
            "beck-s_inbox_533.subject\n",
            "mims-thurston-p_inbox_445.subject\n"
          ]
        },
        {
          "output_type": "stream",
          "name": "stderr",
          "text": [
            "The attention mask and the pad token id were not set. As a consequence, you may observe unexpected behavior. Please pass your input's `attention_mask` to obtain reliable results.\n",
            "Setting `pad_token_id` to `eos_token_id`:50256 for open-end generation.\n",
            "The attention mask and the pad token id were not set. As a consequence, you may observe unexpected behavior. Please pass your input's `attention_mask` to obtain reliable results.\n",
            "Setting `pad_token_id` to `eos_token_id`:50256 for open-end generation.\n",
            "The attention mask and the pad token id were not set. As a consequence, you may observe unexpected behavior. Please pass your input's `attention_mask` to obtain reliable results.\n",
            "Setting `pad_token_id` to `eos_token_id`:50256 for open-end generation.\n",
            "The attention mask and the pad token id were not set. As a consequence, you may observe unexpected behavior. Please pass your input's `attention_mask` to obtain reliable results.\n",
            "Setting `pad_token_id` to `eos_token_id`:50256 for open-end generation.\n",
            "The attention mask and the pad token id were not set. As a consequence, you may observe unexpected behavior. Please pass your input's `attention_mask` to obtain reliable results.\n",
            "Setting `pad_token_id` to `eos_token_id`:50256 for open-end generation.\n"
          ]
        },
        {
          "output_type": "stream",
          "name": "stdout",
          "text": [
            "dasovich-j_inbox_1049.subject\n",
            "shackleton-s_inbox_1086.subject\n",
            "salisbury-h_inbox_1162.subject\n",
            "mclaughlin-e_inbox_4.subject\n",
            "nemec-g_inbox_434.subject\n"
          ]
        },
        {
          "output_type": "stream",
          "name": "stderr",
          "text": [
            "The attention mask and the pad token id were not set. As a consequence, you may observe unexpected behavior. Please pass your input's `attention_mask` to obtain reliable results.\n",
            "Setting `pad_token_id` to `eos_token_id`:50256 for open-end generation.\n",
            "The attention mask and the pad token id were not set. As a consequence, you may observe unexpected behavior. Please pass your input's `attention_mask` to obtain reliable results.\n",
            "Setting `pad_token_id` to `eos_token_id`:50256 for open-end generation.\n",
            "The attention mask and the pad token id were not set. As a consequence, you may observe unexpected behavior. Please pass your input's `attention_mask` to obtain reliable results.\n",
            "Setting `pad_token_id` to `eos_token_id`:50256 for open-end generation.\n",
            "The attention mask and the pad token id were not set. As a consequence, you may observe unexpected behavior. Please pass your input's `attention_mask` to obtain reliable results.\n",
            "Setting `pad_token_id` to `eos_token_id`:50256 for open-end generation.\n",
            "The attention mask and the pad token id were not set. As a consequence, you may observe unexpected behavior. Please pass your input's `attention_mask` to obtain reliable results.\n",
            "Setting `pad_token_id` to `eos_token_id`:50256 for open-end generation.\n",
            "The attention mask and the pad token id were not set. As a consequence, you may observe unexpected behavior. Please pass your input's `attention_mask` to obtain reliable results.\n",
            "Setting `pad_token_id` to `eos_token_id`:50256 for open-end generation.\n"
          ]
        },
        {
          "output_type": "stream",
          "name": "stdout",
          "text": [
            "sager-e_sent_854.subject\n",
            "scott-s_sent_567.subject\n",
            "jones-t_sent_2437.subject\n",
            "keavey-p_inbox_272.subject\n",
            "buy-r_inbox_419.subject\n",
            "tholt-j_sent_137.subject\n"
          ]
        },
        {
          "output_type": "stream",
          "name": "stderr",
          "text": [
            "The attention mask and the pad token id were not set. As a consequence, you may observe unexpected behavior. Please pass your input's `attention_mask` to obtain reliable results.\n",
            "Setting `pad_token_id` to `eos_token_id`:50256 for open-end generation.\n",
            "The attention mask and the pad token id were not set. As a consequence, you may observe unexpected behavior. Please pass your input's `attention_mask` to obtain reliable results.\n",
            "Setting `pad_token_id` to `eos_token_id`:50256 for open-end generation.\n",
            "The attention mask and the pad token id were not set. As a consequence, you may observe unexpected behavior. Please pass your input's `attention_mask` to obtain reliable results.\n",
            "Setting `pad_token_id` to `eos_token_id`:50256 for open-end generation.\n",
            "The attention mask and the pad token id were not set. As a consequence, you may observe unexpected behavior. Please pass your input's `attention_mask` to obtain reliable results.\n",
            "Setting `pad_token_id` to `eos_token_id`:50256 for open-end generation.\n",
            "The attention mask and the pad token id were not set. As a consequence, you may observe unexpected behavior. Please pass your input's `attention_mask` to obtain reliable results.\n",
            "Setting `pad_token_id` to `eos_token_id`:50256 for open-end generation.\n"
          ]
        },
        {
          "output_type": "stream",
          "name": "stdout",
          "text": [
            "carson-m_inbox_86.subject\n",
            "scott-s_inbox_279.subject\n",
            "salisbury-h_inbox_1120.subject\n",
            "skilling-j_inbox_1336.subject\n",
            "hendrickson-s_inbox_54.subject\n"
          ]
        },
        {
          "output_type": "stream",
          "name": "stderr",
          "text": [
            "The attention mask and the pad token id were not set. As a consequence, you may observe unexpected behavior. Please pass your input's `attention_mask` to obtain reliable results.\n",
            "Setting `pad_token_id` to `eos_token_id`:50256 for open-end generation.\n",
            "The attention mask and the pad token id were not set. As a consequence, you may observe unexpected behavior. Please pass your input's `attention_mask` to obtain reliable results.\n",
            "Setting `pad_token_id` to `eos_token_id`:50256 for open-end generation.\n",
            "The attention mask and the pad token id were not set. As a consequence, you may observe unexpected behavior. Please pass your input's `attention_mask` to obtain reliable results.\n",
            "Setting `pad_token_id` to `eos_token_id`:50256 for open-end generation.\n",
            "The attention mask and the pad token id were not set. As a consequence, you may observe unexpected behavior. Please pass your input's `attention_mask` to obtain reliable results.\n",
            "Setting `pad_token_id` to `eos_token_id`:50256 for open-end generation.\n",
            "The attention mask and the pad token id were not set. As a consequence, you may observe unexpected behavior. Please pass your input's `attention_mask` to obtain reliable results.\n",
            "Setting `pad_token_id` to `eos_token_id`:50256 for open-end generation.\n"
          ]
        },
        {
          "output_type": "stream",
          "name": "stdout",
          "text": [
            "ybarbo-p_inbox_187.subject\n",
            "kaminski-v_sent_4141.subject\n",
            "delainey-d_sent_150.subject\n",
            "nemec-g_inbox_72.subject\n",
            "mann-k_sent_550.subject\n"
          ]
        },
        {
          "output_type": "stream",
          "name": "stderr",
          "text": [
            "The attention mask and the pad token id were not set. As a consequence, you may observe unexpected behavior. Please pass your input's `attention_mask` to obtain reliable results.\n",
            "Setting `pad_token_id` to `eos_token_id`:50256 for open-end generation.\n",
            "The attention mask and the pad token id were not set. As a consequence, you may observe unexpected behavior. Please pass your input's `attention_mask` to obtain reliable results.\n",
            "Setting `pad_token_id` to `eos_token_id`:50256 for open-end generation.\n",
            "The attention mask and the pad token id were not set. As a consequence, you may observe unexpected behavior. Please pass your input's `attention_mask` to obtain reliable results.\n",
            "Setting `pad_token_id` to `eos_token_id`:50256 for open-end generation.\n",
            "The attention mask and the pad token id were not set. As a consequence, you may observe unexpected behavior. Please pass your input's `attention_mask` to obtain reliable results.\n",
            "Setting `pad_token_id` to `eos_token_id`:50256 for open-end generation.\n",
            "The attention mask and the pad token id were not set. As a consequence, you may observe unexpected behavior. Please pass your input's `attention_mask` to obtain reliable results.\n"
          ]
        },
        {
          "output_type": "stream",
          "name": "stdout",
          "text": [
            "whalley-g_inbox_180.subject\n",
            "germany-c_sent_475.subject\n",
            "swerzbin-m_inbox_241.subject\n",
            "dasovich-j_inbox_304.subject\n",
            "blair-l_inbox_71.subject\n"
          ]
        },
        {
          "output_type": "stream",
          "name": "stderr",
          "text": [
            "Setting `pad_token_id` to `eos_token_id`:50256 for open-end generation.\n",
            "The attention mask and the pad token id were not set. As a consequence, you may observe unexpected behavior. Please pass your input's `attention_mask` to obtain reliable results.\n",
            "Setting `pad_token_id` to `eos_token_id`:50256 for open-end generation.\n",
            "The attention mask and the pad token id were not set. As a consequence, you may observe unexpected behavior. Please pass your input's `attention_mask` to obtain reliable results.\n",
            "Setting `pad_token_id` to `eos_token_id`:50256 for open-end generation.\n",
            "The attention mask and the pad token id were not set. As a consequence, you may observe unexpected behavior. Please pass your input's `attention_mask` to obtain reliable results.\n",
            "Setting `pad_token_id` to `eos_token_id`:50256 for open-end generation.\n",
            "The attention mask and the pad token id were not set. As a consequence, you may observe unexpected behavior. Please pass your input's `attention_mask` to obtain reliable results.\n",
            "Setting `pad_token_id` to `eos_token_id`:50256 for open-end generation.\n",
            "The attention mask and the pad token id were not set. As a consequence, you may observe unexpected behavior. Please pass your input's `attention_mask` to obtain reliable results.\n",
            "Setting `pad_token_id` to `eos_token_id`:50256 for open-end generation.\n",
            "The attention mask and the pad token id were not set. As a consequence, you may observe unexpected behavior. Please pass your input's `attention_mask` to obtain reliable results.\n",
            "Setting `pad_token_id` to `eos_token_id`:50256 for open-end generation.\n"
          ]
        },
        {
          "output_type": "stream",
          "name": "stdout",
          "text": [
            "mann-k_sent_2308.subject\n",
            "whalley-g_inbox_106.subject\n",
            "beck-s_sent_729.subject\n",
            "nemec-g_sent_6.subject\n",
            "dasovich-j_inbox_567.subject\n",
            "geaccone-t_inbox_182.subject\n"
          ]
        },
        {
          "output_type": "stream",
          "name": "stderr",
          "text": [
            "The attention mask and the pad token id were not set. As a consequence, you may observe unexpected behavior. Please pass your input's `attention_mask` to obtain reliable results.\n",
            "Setting `pad_token_id` to `eos_token_id`:50256 for open-end generation.\n",
            "The attention mask and the pad token id were not set. As a consequence, you may observe unexpected behavior. Please pass your input's `attention_mask` to obtain reliable results.\n",
            "Setting `pad_token_id` to `eos_token_id`:50256 for open-end generation.\n",
            "The attention mask and the pad token id were not set. As a consequence, you may observe unexpected behavior. Please pass your input's `attention_mask` to obtain reliable results.\n",
            "Setting `pad_token_id` to `eos_token_id`:50256 for open-end generation.\n",
            "The attention mask and the pad token id were not set. As a consequence, you may observe unexpected behavior. Please pass your input's `attention_mask` to obtain reliable results.\n",
            "Setting `pad_token_id` to `eos_token_id`:50256 for open-end generation.\n",
            "The attention mask and the pad token id were not set. As a consequence, you may observe unexpected behavior. Please pass your input's `attention_mask` to obtain reliable results.\n",
            "Setting `pad_token_id` to `eos_token_id`:50256 for open-end generation.\n",
            "The attention mask and the pad token id were not set. As a consequence, you may observe unexpected behavior. Please pass your input's `attention_mask` to obtain reliable results.\n",
            "Setting `pad_token_id` to `eos_token_id`:50256 for open-end generation.\n"
          ]
        },
        {
          "output_type": "stream",
          "name": "stdout",
          "text": [
            "watson-k_inbox_257.subject\n",
            "blair-l_inbox_153.subject\n",
            "beck-s_sent_133.subject\n",
            "davis-d_inbox_102.subject\n",
            "stclair-c_sent_698.subject\n",
            "stclair-c_sent_116.subject\n"
          ]
        },
        {
          "output_type": "stream",
          "name": "stderr",
          "text": [
            "The attention mask and the pad token id were not set. As a consequence, you may observe unexpected behavior. Please pass your input's `attention_mask` to obtain reliable results.\n",
            "Setting `pad_token_id` to `eos_token_id`:50256 for open-end generation.\n",
            "The attention mask and the pad token id were not set. As a consequence, you may observe unexpected behavior. Please pass your input's `attention_mask` to obtain reliable results.\n",
            "Setting `pad_token_id` to `eos_token_id`:50256 for open-end generation.\n",
            "The attention mask and the pad token id were not set. As a consequence, you may observe unexpected behavior. Please pass your input's `attention_mask` to obtain reliable results.\n",
            "Setting `pad_token_id` to `eos_token_id`:50256 for open-end generation.\n",
            "The attention mask and the pad token id were not set. As a consequence, you may observe unexpected behavior. Please pass your input's `attention_mask` to obtain reliable results.\n",
            "Setting `pad_token_id` to `eos_token_id`:50256 for open-end generation.\n",
            "The attention mask and the pad token id were not set. As a consequence, you may observe unexpected behavior. Please pass your input's `attention_mask` to obtain reliable results.\n",
            "Setting `pad_token_id` to `eos_token_id`:50256 for open-end generation.\n"
          ]
        },
        {
          "output_type": "stream",
          "name": "stdout",
          "text": [
            "schoolcraft-d_inbox_62.subject\n",
            "thomas-p_inbox_386.subject\n",
            "shackleton-s_sent_6098.subject\n",
            "campbell-l_inbox_63.subject\n",
            "campbell-l_inbox_872.subject\n"
          ]
        },
        {
          "output_type": "stream",
          "name": "stderr",
          "text": [
            "The attention mask and the pad token id were not set. As a consequence, you may observe unexpected behavior. Please pass your input's `attention_mask` to obtain reliable results.\n",
            "Setting `pad_token_id` to `eos_token_id`:50256 for open-end generation.\n",
            "The attention mask and the pad token id were not set. As a consequence, you may observe unexpected behavior. Please pass your input's `attention_mask` to obtain reliable results.\n",
            "Setting `pad_token_id` to `eos_token_id`:50256 for open-end generation.\n",
            "The attention mask and the pad token id were not set. As a consequence, you may observe unexpected behavior. Please pass your input's `attention_mask` to obtain reliable results.\n",
            "Setting `pad_token_id` to `eos_token_id`:50256 for open-end generation.\n",
            "The attention mask and the pad token id were not set. As a consequence, you may observe unexpected behavior. Please pass your input's `attention_mask` to obtain reliable results.\n",
            "Setting `pad_token_id` to `eos_token_id`:50256 for open-end generation.\n",
            "The attention mask and the pad token id were not set. As a consequence, you may observe unexpected behavior. Please pass your input's `attention_mask` to obtain reliable results.\n",
            "Setting `pad_token_id` to `eos_token_id`:50256 for open-end generation.\n"
          ]
        },
        {
          "output_type": "stream",
          "name": "stdout",
          "text": [
            "tycholiz-b_inbox_539.subject\n",
            "germany-c_sent_2056.subject\n",
            "nemec-g_inbox_418.subject\n",
            "neal-s_inbox_234.subject\n",
            "brawner-s_inbox_35.subject\n"
          ]
        },
        {
          "output_type": "stream",
          "name": "stderr",
          "text": [
            "The attention mask and the pad token id were not set. As a consequence, you may observe unexpected behavior. Please pass your input's `attention_mask` to obtain reliable results.\n",
            "Setting `pad_token_id` to `eos_token_id`:50256 for open-end generation.\n",
            "The attention mask and the pad token id were not set. As a consequence, you may observe unexpected behavior. Please pass your input's `attention_mask` to obtain reliable results.\n",
            "Setting `pad_token_id` to `eos_token_id`:50256 for open-end generation.\n",
            "The attention mask and the pad token id were not set. As a consequence, you may observe unexpected behavior. Please pass your input's `attention_mask` to obtain reliable results.\n",
            "Setting `pad_token_id` to `eos_token_id`:50256 for open-end generation.\n",
            "The attention mask and the pad token id were not set. As a consequence, you may observe unexpected behavior. Please pass your input's `attention_mask` to obtain reliable results.\n",
            "Setting `pad_token_id` to `eos_token_id`:50256 for open-end generation.\n",
            "The attention mask and the pad token id were not set. As a consequence, you may observe unexpected behavior. Please pass your input's `attention_mask` to obtain reliable results.\n",
            "Setting `pad_token_id` to `eos_token_id`:50256 for open-end generation.\n"
          ]
        },
        {
          "output_type": "stream",
          "name": "stdout",
          "text": [
            "sager-e_sent_52.subject\n",
            "whalley-l_sent_242.subject\n",
            "shackleton-s_inbox_237.subject\n",
            "tycholiz-b_inbox_446.subject\n",
            "tycholiz-b_inbox_3.subject\n"
          ]
        },
        {
          "output_type": "stream",
          "name": "stderr",
          "text": [
            "The attention mask and the pad token id were not set. As a consequence, you may observe unexpected behavior. Please pass your input's `attention_mask` to obtain reliable results.\n",
            "Setting `pad_token_id` to `eos_token_id`:50256 for open-end generation.\n",
            "The attention mask and the pad token id were not set. As a consequence, you may observe unexpected behavior. Please pass your input's `attention_mask` to obtain reliable results.\n",
            "Setting `pad_token_id` to `eos_token_id`:50256 for open-end generation.\n",
            "The attention mask and the pad token id were not set. As a consequence, you may observe unexpected behavior. Please pass your input's `attention_mask` to obtain reliable results.\n",
            "Setting `pad_token_id` to `eos_token_id`:50256 for open-end generation.\n",
            "The attention mask and the pad token id were not set. As a consequence, you may observe unexpected behavior. Please pass your input's `attention_mask` to obtain reliable results.\n",
            "Setting `pad_token_id` to `eos_token_id`:50256 for open-end generation.\n",
            "The attention mask and the pad token id were not set. As a consequence, you may observe unexpected behavior. Please pass your input's `attention_mask` to obtain reliable results.\n",
            "Setting `pad_token_id` to `eos_token_id`:50256 for open-end generation.\n"
          ]
        },
        {
          "output_type": "stream",
          "name": "stdout",
          "text": [
            "shackleton-s_sent_1038.subject\n",
            "whitt-m_inbox_153.subject\n",
            "rodrique-r_sent_660.subject\n",
            "lay-k_inbox_126.subject\n",
            "symes-k_sent_1084.subject\n"
          ]
        },
        {
          "output_type": "stream",
          "name": "stderr",
          "text": [
            "The attention mask and the pad token id were not set. As a consequence, you may observe unexpected behavior. Please pass your input's `attention_mask` to obtain reliable results.\n",
            "Setting `pad_token_id` to `eos_token_id`:50256 for open-end generation.\n",
            "The attention mask and the pad token id were not set. As a consequence, you may observe unexpected behavior. Please pass your input's `attention_mask` to obtain reliable results.\n",
            "Setting `pad_token_id` to `eos_token_id`:50256 for open-end generation.\n",
            "The attention mask and the pad token id were not set. As a consequence, you may observe unexpected behavior. Please pass your input's `attention_mask` to obtain reliable results.\n",
            "Setting `pad_token_id` to `eos_token_id`:50256 for open-end generation.\n",
            "The attention mask and the pad token id were not set. As a consequence, you may observe unexpected behavior. Please pass your input's `attention_mask` to obtain reliable results.\n",
            "Setting `pad_token_id` to `eos_token_id`:50256 for open-end generation.\n",
            "The attention mask and the pad token id were not set. As a consequence, you may observe unexpected behavior. Please pass your input's `attention_mask` to obtain reliable results.\n",
            "Setting `pad_token_id` to `eos_token_id`:50256 for open-end generation.\n"
          ]
        },
        {
          "output_type": "stream",
          "name": "stdout",
          "text": [
            "hernandez-j_inbox_340.subject\n",
            "buy-r_inbox_290.subject\n",
            "mims-thurston-p_inbox_75.subject\n",
            "jones-t_sent_1478.subject\n",
            "zipper-a_inbox_174.subject\n",
            "grigsby-m_sent_102.subject\n"
          ]
        },
        {
          "output_type": "stream",
          "name": "stderr",
          "text": [
            "The attention mask and the pad token id were not set. As a consequence, you may observe unexpected behavior. Please pass your input's `attention_mask` to obtain reliable results.\n",
            "Setting `pad_token_id` to `eos_token_id`:50256 for open-end generation.\n",
            "The attention mask and the pad token id were not set. As a consequence, you may observe unexpected behavior. Please pass your input's `attention_mask` to obtain reliable results.\n",
            "Setting `pad_token_id` to `eos_token_id`:50256 for open-end generation.\n",
            "The attention mask and the pad token id were not set. As a consequence, you may observe unexpected behavior. Please pass your input's `attention_mask` to obtain reliable results.\n",
            "Setting `pad_token_id` to `eos_token_id`:50256 for open-end generation.\n",
            "The attention mask and the pad token id were not set. As a consequence, you may observe unexpected behavior. Please pass your input's `attention_mask` to obtain reliable results.\n",
            "Setting `pad_token_id` to `eos_token_id`:50256 for open-end generation.\n",
            "The attention mask and the pad token id were not set. As a consequence, you may observe unexpected behavior. Please pass your input's `attention_mask` to obtain reliable results.\n",
            "Setting `pad_token_id` to `eos_token_id`:50256 for open-end generation.\n",
            "The attention mask and the pad token id were not set. As a consequence, you may observe unexpected behavior. Please pass your input's `attention_mask` to obtain reliable results.\n",
            "Setting `pad_token_id` to `eos_token_id`:50256 for open-end generation.\n"
          ]
        },
        {
          "output_type": "stream",
          "name": "stdout",
          "text": [
            "kaminski-v_inbox_689.subject\n",
            "farmer-d_sent_193.subject\n",
            "stclair-c_sent_32.subject\n",
            "jones-t_inbox_430.subject\n",
            "lay-k_inbox_1853.subject\n"
          ]
        },
        {
          "output_type": "stream",
          "name": "stderr",
          "text": [
            "The attention mask and the pad token id were not set. As a consequence, you may observe unexpected behavior. Please pass your input's `attention_mask` to obtain reliable results.\n",
            "Setting `pad_token_id` to `eos_token_id`:50256 for open-end generation.\n",
            "The attention mask and the pad token id were not set. As a consequence, you may observe unexpected behavior. Please pass your input's `attention_mask` to obtain reliable results.\n",
            "Setting `pad_token_id` to `eos_token_id`:50256 for open-end generation.\n",
            "The attention mask and the pad token id were not set. As a consequence, you may observe unexpected behavior. Please pass your input's `attention_mask` to obtain reliable results.\n",
            "Setting `pad_token_id` to `eos_token_id`:50256 for open-end generation.\n",
            "The attention mask and the pad token id were not set. As a consequence, you may observe unexpected behavior. Please pass your input's `attention_mask` to obtain reliable results.\n",
            "Setting `pad_token_id` to `eos_token_id`:50256 for open-end generation.\n",
            "The attention mask and the pad token id were not set. As a consequence, you may observe unexpected behavior. Please pass your input's `attention_mask` to obtain reliable results.\n",
            "Setting `pad_token_id` to `eos_token_id`:50256 for open-end generation.\n"
          ]
        },
        {
          "output_type": "stream",
          "name": "stdout",
          "text": [
            "cash-m_inbox_320.subject\n",
            "keavey-p_sent_41.subject\n",
            "hodge-j_inbox_878.subject\n",
            "jones-t_inbox_43.subject\n",
            "love-p_sent_611.subject\n"
          ]
        },
        {
          "output_type": "stream",
          "name": "stderr",
          "text": [
            "The attention mask and the pad token id were not set. As a consequence, you may observe unexpected behavior. Please pass your input's `attention_mask` to obtain reliable results.\n",
            "Setting `pad_token_id` to `eos_token_id`:50256 for open-end generation.\n",
            "The attention mask and the pad token id were not set. As a consequence, you may observe unexpected behavior. Please pass your input's `attention_mask` to obtain reliable results.\n",
            "Setting `pad_token_id` to `eos_token_id`:50256 for open-end generation.\n",
            "The attention mask and the pad token id were not set. As a consequence, you may observe unexpected behavior. Please pass your input's `attention_mask` to obtain reliable results.\n",
            "Setting `pad_token_id` to `eos_token_id`:50256 for open-end generation.\n",
            "The attention mask and the pad token id were not set. As a consequence, you may observe unexpected behavior. Please pass your input's `attention_mask` to obtain reliable results.\n",
            "Setting `pad_token_id` to `eos_token_id`:50256 for open-end generation.\n",
            "The attention mask and the pad token id were not set. As a consequence, you may observe unexpected behavior. Please pass your input's `attention_mask` to obtain reliable results.\n",
            "Setting `pad_token_id` to `eos_token_id`:50256 for open-end generation.\n",
            "The attention mask and the pad token id were not set. As a consequence, you may observe unexpected behavior. Please pass your input's `attention_mask` to obtain reliable results.\n",
            "Setting `pad_token_id` to `eos_token_id`:50256 for open-end generation.\n"
          ]
        },
        {
          "output_type": "stream",
          "name": "stdout",
          "text": [
            "campbell-l_sent_17.subject\n",
            "mims-thurston-p_inbox_23.subject\n",
            "bass-e_inbox_112.subject\n",
            "dickson-s_sent_54.subject\n",
            "nemec-g_inbox_727.subject\n",
            "pimenov-v_inbox_45.subject\n"
          ]
        },
        {
          "output_type": "stream",
          "name": "stderr",
          "text": [
            "The attention mask and the pad token id were not set. As a consequence, you may observe unexpected behavior. Please pass your input's `attention_mask` to obtain reliable results.\n",
            "Setting `pad_token_id` to `eos_token_id`:50256 for open-end generation.\n",
            "The attention mask and the pad token id were not set. As a consequence, you may observe unexpected behavior. Please pass your input's `attention_mask` to obtain reliable results.\n",
            "Setting `pad_token_id` to `eos_token_id`:50256 for open-end generation.\n",
            "The attention mask and the pad token id were not set. As a consequence, you may observe unexpected behavior. Please pass your input's `attention_mask` to obtain reliable results.\n",
            "Setting `pad_token_id` to `eos_token_id`:50256 for open-end generation.\n",
            "The attention mask and the pad token id were not set. As a consequence, you may observe unexpected behavior. Please pass your input's `attention_mask` to obtain reliable results.\n",
            "Setting `pad_token_id` to `eos_token_id`:50256 for open-end generation.\n",
            "The attention mask and the pad token id were not set. As a consequence, you may observe unexpected behavior. Please pass your input's `attention_mask` to obtain reliable results.\n",
            "Setting `pad_token_id` to `eos_token_id`:50256 for open-end generation.\n",
            "The attention mask and the pad token id were not set. As a consequence, you may observe unexpected behavior. Please pass your input's `attention_mask` to obtain reliable results.\n",
            "Setting `pad_token_id` to `eos_token_id`:50256 for open-end generation.\n"
          ]
        },
        {
          "output_type": "stream",
          "name": "stdout",
          "text": [
            "fossum-d_sent_508.subject\n",
            "allen-p_inbox_66.subject\n",
            "fossum-d_sent_1252.subject\n",
            "mcconnell-m_sent_20.subject\n",
            "swerzbin-m_inbox_15.subject\n",
            "keavey-p_inbox_381.subject\n"
          ]
        },
        {
          "output_type": "stream",
          "name": "stderr",
          "text": [
            "The attention mask and the pad token id were not set. As a consequence, you may observe unexpected behavior. Please pass your input's `attention_mask` to obtain reliable results.\n",
            "Setting `pad_token_id` to `eos_token_id`:50256 for open-end generation.\n",
            "The attention mask and the pad token id were not set. As a consequence, you may observe unexpected behavior. Please pass your input's `attention_mask` to obtain reliable results.\n",
            "Setting `pad_token_id` to `eos_token_id`:50256 for open-end generation.\n",
            "The attention mask and the pad token id were not set. As a consequence, you may observe unexpected behavior. Please pass your input's `attention_mask` to obtain reliable results.\n",
            "Setting `pad_token_id` to `eos_token_id`:50256 for open-end generation.\n",
            "The attention mask and the pad token id were not set. As a consequence, you may observe unexpected behavior. Please pass your input's `attention_mask` to obtain reliable results.\n",
            "Setting `pad_token_id` to `eos_token_id`:50256 for open-end generation.\n",
            "The attention mask and the pad token id were not set. As a consequence, you may observe unexpected behavior. Please pass your input's `attention_mask` to obtain reliable results.\n",
            "Setting `pad_token_id` to `eos_token_id`:50256 for open-end generation.\n",
            "The attention mask and the pad token id were not set. As a consequence, you may observe unexpected behavior. Please pass your input's `attention_mask` to obtain reliable results.\n",
            "Setting `pad_token_id` to `eos_token_id`:50256 for open-end generation.\n"
          ]
        },
        {
          "output_type": "stream",
          "name": "stdout",
          "text": [
            "beck-s_sent_143.subject\n",
            "nemec-g_inbox_378.subject\n",
            "martin-t_inbox_314.subject\n",
            "pimenov-v_inbox_296.subject\n",
            "jones-t_sent_2455.subject\n",
            "blair-l_inbox_198.subject\n"
          ]
        },
        {
          "output_type": "stream",
          "name": "stderr",
          "text": [
            "The attention mask and the pad token id were not set. As a consequence, you may observe unexpected behavior. Please pass your input's `attention_mask` to obtain reliable results.\n",
            "Setting `pad_token_id` to `eos_token_id`:50256 for open-end generation.\n",
            "The attention mask and the pad token id were not set. As a consequence, you may observe unexpected behavior. Please pass your input's `attention_mask` to obtain reliable results.\n",
            "Setting `pad_token_id` to `eos_token_id`:50256 for open-end generation.\n",
            "The attention mask and the pad token id were not set. As a consequence, you may observe unexpected behavior. Please pass your input's `attention_mask` to obtain reliable results.\n",
            "Setting `pad_token_id` to `eos_token_id`:50256 for open-end generation.\n",
            "The attention mask and the pad token id were not set. As a consequence, you may observe unexpected behavior. Please pass your input's `attention_mask` to obtain reliable results.\n",
            "Setting `pad_token_id` to `eos_token_id`:50256 for open-end generation.\n",
            "The attention mask and the pad token id were not set. As a consequence, you may observe unexpected behavior. Please pass your input's `attention_mask` to obtain reliable results.\n",
            "Setting `pad_token_id` to `eos_token_id`:50256 for open-end generation.\n"
          ]
        },
        {
          "output_type": "stream",
          "name": "stdout",
          "text": [
            "dean-c_inbox_28.subject\n",
            "germany-c_sent_1435.subject\n",
            "martin-t_inbox_286.subject\n",
            "donoho-l_inbox_159.subject\n",
            "skilling-j_inbox_34.subject\n"
          ]
        },
        {
          "output_type": "stream",
          "name": "stderr",
          "text": [
            "The attention mask and the pad token id were not set. As a consequence, you may observe unexpected behavior. Please pass your input's `attention_mask` to obtain reliable results.\n",
            "Setting `pad_token_id` to `eos_token_id`:50256 for open-end generation.\n",
            "The attention mask and the pad token id were not set. As a consequence, you may observe unexpected behavior. Please pass your input's `attention_mask` to obtain reliable results.\n",
            "Setting `pad_token_id` to `eos_token_id`:50256 for open-end generation.\n",
            "The attention mask and the pad token id were not set. As a consequence, you may observe unexpected behavior. Please pass your input's `attention_mask` to obtain reliable results.\n",
            "Setting `pad_token_id` to `eos_token_id`:50256 for open-end generation.\n",
            "The attention mask and the pad token id were not set. As a consequence, you may observe unexpected behavior. Please pass your input's `attention_mask` to obtain reliable results.\n",
            "Setting `pad_token_id` to `eos_token_id`:50256 for open-end generation.\n",
            "The attention mask and the pad token id were not set. As a consequence, you may observe unexpected behavior. Please pass your input's `attention_mask` to obtain reliable results.\n",
            "Setting `pad_token_id` to `eos_token_id`:50256 for open-end generation.\n"
          ]
        },
        {
          "output_type": "stream",
          "name": "stdout",
          "text": [
            "ybarbo-p_inbox_382.subject\n",
            "motley-m_inbox_73.subject\n",
            "campbell-l_sent_161.subject\n",
            "reitmeyer-j_inbox_424.subject\n",
            "ring-a_inbox_14.subject\n"
          ]
        },
        {
          "output_type": "stream",
          "name": "stderr",
          "text": [
            "The attention mask and the pad token id were not set. As a consequence, you may observe unexpected behavior. Please pass your input's `attention_mask` to obtain reliable results.\n",
            "Setting `pad_token_id` to `eos_token_id`:50256 for open-end generation.\n",
            "The attention mask and the pad token id were not set. As a consequence, you may observe unexpected behavior. Please pass your input's `attention_mask` to obtain reliable results.\n",
            "Setting `pad_token_id` to `eos_token_id`:50256 for open-end generation.\n",
            "The attention mask and the pad token id were not set. As a consequence, you may observe unexpected behavior. Please pass your input's `attention_mask` to obtain reliable results.\n",
            "Setting `pad_token_id` to `eos_token_id`:50256 for open-end generation.\n",
            "The attention mask and the pad token id were not set. As a consequence, you may observe unexpected behavior. Please pass your input's `attention_mask` to obtain reliable results.\n",
            "Setting `pad_token_id` to `eos_token_id`:50256 for open-end generation.\n",
            "The attention mask and the pad token id were not set. As a consequence, you may observe unexpected behavior. Please pass your input's `attention_mask` to obtain reliable results.\n",
            "Setting `pad_token_id` to `eos_token_id`:50256 for open-end generation.\n",
            "The attention mask and the pad token id were not set. As a consequence, you may observe unexpected behavior. Please pass your input's `attention_mask` to obtain reliable results.\n",
            "Setting `pad_token_id` to `eos_token_id`:50256 for open-end generation.\n"
          ]
        },
        {
          "output_type": "stream",
          "name": "stdout",
          "text": [
            "mclaughlin-e_inbox_2.subject\n",
            "germany-c_inbox_222.subject\n",
            "bass-e_sent_1292.subject\n",
            "perlingiere-d_sent_2672.subject\n",
            "may-l_inbox_619.subject\n",
            "beck-s_sent_683.subject\n"
          ]
        },
        {
          "output_type": "stream",
          "name": "stderr",
          "text": [
            "The attention mask and the pad token id were not set. As a consequence, you may observe unexpected behavior. Please pass your input's `attention_mask` to obtain reliable results.\n",
            "Setting `pad_token_id` to `eos_token_id`:50256 for open-end generation.\n",
            "The attention mask and the pad token id were not set. As a consequence, you may observe unexpected behavior. Please pass your input's `attention_mask` to obtain reliable results.\n",
            "Setting `pad_token_id` to `eos_token_id`:50256 for open-end generation.\n",
            "The attention mask and the pad token id were not set. As a consequence, you may observe unexpected behavior. Please pass your input's `attention_mask` to obtain reliable results.\n",
            "Setting `pad_token_id` to `eos_token_id`:50256 for open-end generation.\n",
            "The attention mask and the pad token id were not set. As a consequence, you may observe unexpected behavior. Please pass your input's `attention_mask` to obtain reliable results.\n",
            "Setting `pad_token_id` to `eos_token_id`:50256 for open-end generation.\n",
            "The attention mask and the pad token id were not set. As a consequence, you may observe unexpected behavior. Please pass your input's `attention_mask` to obtain reliable results.\n",
            "Setting `pad_token_id` to `eos_token_id`:50256 for open-end generation.\n",
            "The attention mask and the pad token id were not set. As a consequence, you may observe unexpected behavior. Please pass your input's `attention_mask` to obtain reliable results.\n",
            "Setting `pad_token_id` to `eos_token_id`:50256 for open-end generation.\n"
          ]
        },
        {
          "output_type": "stream",
          "name": "stdout",
          "text": [
            "mcconnell-m_sent_784.subject\n",
            "mann-k_sent_3747.subject\n",
            "semperger-c_inbox_12.subject\n",
            "mann-k_sent_2636.subject\n",
            "shackleton-s_sent_1760.subject\n",
            "rapp-b_inbox_307.subject\n"
          ]
        },
        {
          "output_type": "stream",
          "name": "stderr",
          "text": [
            "The attention mask and the pad token id were not set. As a consequence, you may observe unexpected behavior. Please pass your input's `attention_mask` to obtain reliable results.\n",
            "Setting `pad_token_id` to `eos_token_id`:50256 for open-end generation.\n",
            "The attention mask and the pad token id were not set. As a consequence, you may observe unexpected behavior. Please pass your input's `attention_mask` to obtain reliable results.\n",
            "Setting `pad_token_id` to `eos_token_id`:50256 for open-end generation.\n",
            "The attention mask and the pad token id were not set. As a consequence, you may observe unexpected behavior. Please pass your input's `attention_mask` to obtain reliable results.\n",
            "Setting `pad_token_id` to `eos_token_id`:50256 for open-end generation.\n",
            "The attention mask and the pad token id were not set. As a consequence, you may observe unexpected behavior. Please pass your input's `attention_mask` to obtain reliable results.\n",
            "Setting `pad_token_id` to `eos_token_id`:50256 for open-end generation.\n",
            "The attention mask and the pad token id were not set. As a consequence, you may observe unexpected behavior. Please pass your input's `attention_mask` to obtain reliable results.\n",
            "Setting `pad_token_id` to `eos_token_id`:50256 for open-end generation.\n"
          ]
        },
        {
          "output_type": "stream",
          "name": "stdout",
          "text": [
            "symes-k_sent_12.subject\n",
            "shackleton-s_sent_1020.subject\n",
            "may-l_inbox_532.subject\n",
            "neal-s_inbox_87.subject\n",
            "arora-h_inbox_83.subject\n"
          ]
        },
        {
          "output_type": "stream",
          "name": "stderr",
          "text": [
            "The attention mask and the pad token id were not set. As a consequence, you may observe unexpected behavior. Please pass your input's `attention_mask` to obtain reliable results.\n",
            "Setting `pad_token_id` to `eos_token_id`:50256 for open-end generation.\n",
            "The attention mask and the pad token id were not set. As a consequence, you may observe unexpected behavior. Please pass your input's `attention_mask` to obtain reliable results.\n",
            "Setting `pad_token_id` to `eos_token_id`:50256 for open-end generation.\n",
            "The attention mask and the pad token id were not set. As a consequence, you may observe unexpected behavior. Please pass your input's `attention_mask` to obtain reliable results.\n",
            "Setting `pad_token_id` to `eos_token_id`:50256 for open-end generation.\n",
            "The attention mask and the pad token id were not set. As a consequence, you may observe unexpected behavior. Please pass your input's `attention_mask` to obtain reliable results.\n",
            "Setting `pad_token_id` to `eos_token_id`:50256 for open-end generation.\n"
          ]
        },
        {
          "output_type": "stream",
          "name": "stdout",
          "text": [
            "geaccone-t_inbox_163.subject\n",
            "dasovich-j_inbox_1792.subject\n",
            "dasovich-j_sent_189.subject\n",
            "campbell-l_sent_183.subject\n"
          ]
        },
        {
          "output_type": "stream",
          "name": "stderr",
          "text": [
            "The attention mask and the pad token id were not set. As a consequence, you may observe unexpected behavior. Please pass your input's `attention_mask` to obtain reliable results.\n",
            "Setting `pad_token_id` to `eos_token_id`:50256 for open-end generation.\n",
            "The attention mask and the pad token id were not set. As a consequence, you may observe unexpected behavior. Please pass your input's `attention_mask` to obtain reliable results.\n",
            "Setting `pad_token_id` to `eos_token_id`:50256 for open-end generation.\n",
            "The attention mask and the pad token id were not set. As a consequence, you may observe unexpected behavior. Please pass your input's `attention_mask` to obtain reliable results.\n",
            "Setting `pad_token_id` to `eos_token_id`:50256 for open-end generation.\n"
          ]
        },
        {
          "output_type": "stream",
          "name": "stdout",
          "text": [
            "haedicke-m_inbox_478.subject\n",
            "kitchen-l_inbox_14.subject\n",
            "sager-e_inbox_212.subject\n"
          ]
        },
        {
          "output_type": "stream",
          "name": "stderr",
          "text": [
            "The attention mask and the pad token id were not set. As a consequence, you may observe unexpected behavior. Please pass your input's `attention_mask` to obtain reliable results.\n",
            "Setting `pad_token_id` to `eos_token_id`:50256 for open-end generation.\n",
            "The attention mask and the pad token id were not set. As a consequence, you may observe unexpected behavior. Please pass your input's `attention_mask` to obtain reliable results.\n",
            "Setting `pad_token_id` to `eos_token_id`:50256 for open-end generation.\n",
            "The attention mask and the pad token id were not set. As a consequence, you may observe unexpected behavior. Please pass your input's `attention_mask` to obtain reliable results.\n",
            "Setting `pad_token_id` to `eos_token_id`:50256 for open-end generation.\n"
          ]
        },
        {
          "output_type": "stream",
          "name": "stdout",
          "text": [
            "steffes-j_inbox_24.subject\n",
            "whalley-l_sent_122.subject\n",
            "parks-j_inbox_296.subject\n"
          ]
        },
        {
          "output_type": "stream",
          "name": "stderr",
          "text": [
            "The attention mask and the pad token id were not set. As a consequence, you may observe unexpected behavior. Please pass your input's `attention_mask` to obtain reliable results.\n",
            "Setting `pad_token_id` to `eos_token_id`:50256 for open-end generation.\n",
            "The attention mask and the pad token id were not set. As a consequence, you may observe unexpected behavior. Please pass your input's `attention_mask` to obtain reliable results.\n",
            "Setting `pad_token_id` to `eos_token_id`:50256 for open-end generation.\n"
          ]
        },
        {
          "output_type": "stream",
          "name": "stdout",
          "text": [
            "stclair-c_sent_608.subject\n",
            "jones-t_sent_6434.subject\n"
          ]
        },
        {
          "output_type": "stream",
          "name": "stderr",
          "text": [
            "The attention mask and the pad token id were not set. As a consequence, you may observe unexpected behavior. Please pass your input's `attention_mask` to obtain reliable results.\n",
            "Setting `pad_token_id` to `eos_token_id`:50256 for open-end generation.\n",
            "The attention mask and the pad token id were not set. As a consequence, you may observe unexpected behavior. Please pass your input's `attention_mask` to obtain reliable results.\n",
            "Setting `pad_token_id` to `eos_token_id`:50256 for open-end generation.\n"
          ]
        },
        {
          "output_type": "stream",
          "name": "stdout",
          "text": [
            "scott-s_inbox_16.subject\n",
            "dasovich-j_sent_868.subject\n"
          ]
        },
        {
          "output_type": "stream",
          "name": "stderr",
          "text": [
            "The attention mask and the pad token id were not set. As a consequence, you may observe unexpected behavior. Please pass your input's `attention_mask` to obtain reliable results.\n",
            "Setting `pad_token_id` to `eos_token_id`:50256 for open-end generation.\n",
            "The attention mask and the pad token id were not set. As a consequence, you may observe unexpected behavior. Please pass your input's `attention_mask` to obtain reliable results.\n",
            "Setting `pad_token_id` to `eos_token_id`:50256 for open-end generation.\n"
          ]
        },
        {
          "output_type": "stream",
          "name": "stdout",
          "text": [
            "sager-e_inbox_35.subject\n",
            "martin-t_inbox_254.subject\n"
          ]
        },
        {
          "output_type": "stream",
          "name": "stderr",
          "text": [
            "The attention mask and the pad token id were not set. As a consequence, you may observe unexpected behavior. Please pass your input's `attention_mask` to obtain reliable results.\n",
            "Setting `pad_token_id` to `eos_token_id`:50256 for open-end generation.\n",
            "The attention mask and the pad token id were not set. As a consequence, you may observe unexpected behavior. Please pass your input's `attention_mask` to obtain reliable results.\n",
            "Setting `pad_token_id` to `eos_token_id`:50256 for open-end generation.\n"
          ]
        },
        {
          "output_type": "stream",
          "name": "stdout",
          "text": [
            "perlingiere-d_sent_267.subject\n",
            "tycholiz-b_inbox_299.subject\n"
          ]
        },
        {
          "output_type": "stream",
          "name": "stderr",
          "text": [
            "The attention mask and the pad token id were not set. As a consequence, you may observe unexpected behavior. Please pass your input's `attention_mask` to obtain reliable results.\n",
            "Setting `pad_token_id` to `eos_token_id`:50256 for open-end generation.\n",
            "The attention mask and the pad token id were not set. As a consequence, you may observe unexpected behavior. Please pass your input's `attention_mask` to obtain reliable results.\n",
            "Setting `pad_token_id` to `eos_token_id`:50256 for open-end generation.\n"
          ]
        },
        {
          "output_type": "stream",
          "name": "stdout",
          "text": [
            "germany-c_sent_1691.subject\n",
            "shackleton-s_sent_1713.subject\n"
          ]
        },
        {
          "output_type": "stream",
          "name": "stderr",
          "text": [
            "The attention mask and the pad token id were not set. As a consequence, you may observe unexpected behavior. Please pass your input's `attention_mask` to obtain reliable results.\n",
            "Setting `pad_token_id` to `eos_token_id`:50256 for open-end generation.\n",
            "The attention mask and the pad token id were not set. As a consequence, you may observe unexpected behavior. Please pass your input's `attention_mask` to obtain reliable results.\n",
            "Setting `pad_token_id` to `eos_token_id`:50256 for open-end generation.\n",
            "The attention mask and the pad token id were not set. As a consequence, you may observe unexpected behavior. Please pass your input's `attention_mask` to obtain reliable results.\n"
          ]
        },
        {
          "output_type": "stream",
          "name": "stdout",
          "text": [
            "jones-t_sent_498.subject\n",
            "lokey-t_inbox_816.subject\n",
            "may-l_inbox_591.subject\n"
          ]
        },
        {
          "output_type": "stream",
          "name": "stderr",
          "text": [
            "Setting `pad_token_id` to `eos_token_id`:50256 for open-end generation.\n",
            "The attention mask and the pad token id were not set. As a consequence, you may observe unexpected behavior. Please pass your input's `attention_mask` to obtain reliable results.\n",
            "Setting `pad_token_id` to `eos_token_id`:50256 for open-end generation.\n",
            "The attention mask and the pad token id were not set. As a consequence, you may observe unexpected behavior. Please pass your input's `attention_mask` to obtain reliable results.\n",
            "Setting `pad_token_id` to `eos_token_id`:50256 for open-end generation.\n",
            "The attention mask and the pad token id were not set. As a consequence, you may observe unexpected behavior. Please pass your input's `attention_mask` to obtain reliable results.\n"
          ]
        },
        {
          "output_type": "stream",
          "name": "stdout",
          "text": [
            "fossum-d_sent_198.subject\n",
            "rapp-b_inbox_10.subject\n",
            "lavorato-j_inbox_223.subject\n"
          ]
        },
        {
          "output_type": "stream",
          "name": "stderr",
          "text": [
            "Setting `pad_token_id` to `eos_token_id`:50256 for open-end generation.\n",
            "The attention mask and the pad token id were not set. As a consequence, you may observe unexpected behavior. Please pass your input's `attention_mask` to obtain reliable results.\n",
            "Setting `pad_token_id` to `eos_token_id`:50256 for open-end generation.\n",
            "The attention mask and the pad token id were not set. As a consequence, you may observe unexpected behavior. Please pass your input's `attention_mask` to obtain reliable results.\n",
            "Setting `pad_token_id` to `eos_token_id`:50256 for open-end generation.\n"
          ]
        },
        {
          "output_type": "stream",
          "name": "stdout",
          "text": [
            "gay-r_sent_288.subject\n",
            "dickson-s_sent_16.subject\n"
          ]
        },
        {
          "output_type": "stream",
          "name": "stderr",
          "text": [
            "The attention mask and the pad token id were not set. As a consequence, you may observe unexpected behavior. Please pass your input's `attention_mask` to obtain reliable results.\n",
            "Setting `pad_token_id` to `eos_token_id`:50256 for open-end generation.\n",
            "The attention mask and the pad token id were not set. As a consequence, you may observe unexpected behavior. Please pass your input's `attention_mask` to obtain reliable results.\n",
            "Setting `pad_token_id` to `eos_token_id`:50256 for open-end generation.\n",
            "The attention mask and the pad token id were not set. As a consequence, you may observe unexpected behavior. Please pass your input's `attention_mask` to obtain reliable results.\n",
            "Setting `pad_token_id` to `eos_token_id`:50256 for open-end generation.\n"
          ]
        },
        {
          "output_type": "stream",
          "name": "stdout",
          "text": [
            "stclair-c_sent_793.subject\n",
            "rodrique-r_sent_576.subject\n",
            "buy-r_inbox_154.subject\n"
          ]
        },
        {
          "output_type": "stream",
          "name": "stderr",
          "text": [
            "The attention mask and the pad token id were not set. As a consequence, you may observe unexpected behavior. Please pass your input's `attention_mask` to obtain reliable results.\n",
            "Setting `pad_token_id` to `eos_token_id`:50256 for open-end generation.\n",
            "The attention mask and the pad token id were not set. As a consequence, you may observe unexpected behavior. Please pass your input's `attention_mask` to obtain reliable results.\n",
            "Setting `pad_token_id` to `eos_token_id`:50256 for open-end generation.\n",
            "The attention mask and the pad token id were not set. As a consequence, you may observe unexpected behavior. Please pass your input's `attention_mask` to obtain reliable results.\n",
            "Setting `pad_token_id` to `eos_token_id`:50256 for open-end generation.\n"
          ]
        },
        {
          "output_type": "stream",
          "name": "stdout",
          "text": [
            "shackleton-s_sent_2486.subject\n",
            "campbell-l_inbox_1250.subject\n",
            "stclair-c_sent_626.subject\n"
          ]
        },
        {
          "output_type": "stream",
          "name": "stderr",
          "text": [
            "The attention mask and the pad token id were not set. As a consequence, you may observe unexpected behavior. Please pass your input's `attention_mask` to obtain reliable results.\n",
            "Setting `pad_token_id` to `eos_token_id`:50256 for open-end generation.\n",
            "The attention mask and the pad token id were not set. As a consequence, you may observe unexpected behavior. Please pass your input's `attention_mask` to obtain reliable results.\n",
            "Setting `pad_token_id` to `eos_token_id`:50256 for open-end generation.\n"
          ]
        },
        {
          "output_type": "stream",
          "name": "stdout",
          "text": [
            "nemec-g_inbox_965.subject\n",
            "keavey-p_inbox_212.subject\n",
            "keiser-k_inbox_200.subject"
          ]
        },
        {
          "output_type": "stream",
          "name": "stderr",
          "text": [
            "The attention mask and the pad token id were not set. As a consequence, you may observe unexpected behavior. Please pass your input's `attention_mask` to obtain reliable results.\n",
            "Setting `pad_token_id` to `eos_token_id`:50256 for open-end generation.\n",
            "The attention mask and the pad token id were not set. As a consequence, you may observe unexpected behavior. Please pass your input's `attention_mask` to obtain reliable results.\n",
            "Setting `pad_token_id` to `eos_token_id`:50256 for open-end generation.\n"
          ]
        },
        {
          "output_type": "stream",
          "name": "stdout",
          "text": [
            "\n",
            "dasovich-j_inbox_181.subject\n",
            "whalley-g_inbox_32.subject\n"
          ]
        },
        {
          "output_type": "stream",
          "name": "stderr",
          "text": [
            "The attention mask and the pad token id were not set. As a consequence, you may observe unexpected behavior. Please pass your input's `attention_mask` to obtain reliable results.\n",
            "Setting `pad_token_id` to `eos_token_id`:50256 for open-end generation.\n",
            "The attention mask and the pad token id were not set. As a consequence, you may observe unexpected behavior. Please pass your input's `attention_mask` to obtain reliable results.\n",
            "Setting `pad_token_id` to `eos_token_id`:50256 for open-end generation.\n",
            "The attention mask and the pad token id were not set. As a consequence, you may observe unexpected behavior. Please pass your input's `attention_mask` to obtain reliable results.\n",
            "Setting `pad_token_id` to `eos_token_id`:50256 for open-end generation.\n"
          ]
        },
        {
          "output_type": "stream",
          "name": "stdout",
          "text": [
            "buy-r_inbox_510.subject\n",
            "buy-r_inbox_368.subject\n",
            "ruscitti-k_inbox_273.subject\n"
          ]
        },
        {
          "output_type": "stream",
          "name": "stderr",
          "text": [
            "The attention mask and the pad token id were not set. As a consequence, you may observe unexpected behavior. Please pass your input's `attention_mask` to obtain reliable results.\n",
            "Setting `pad_token_id` to `eos_token_id`:50256 for open-end generation.\n",
            "The attention mask and the pad token id were not set. As a consequence, you may observe unexpected behavior. Please pass your input's `attention_mask` to obtain reliable results.\n",
            "Setting `pad_token_id` to `eos_token_id`:50256 for open-end generation.\n",
            "The attention mask and the pad token id were not set. As a consequence, you may observe unexpected behavior. Please pass your input's `attention_mask` to obtain reliable results.\n",
            "Setting `pad_token_id` to `eos_token_id`:50256 for open-end generation.\n"
          ]
        },
        {
          "output_type": "stream",
          "name": "stdout",
          "text": [
            "richey-c_inbox_64.subject\n",
            "ybarbo-p_inbox_87.subject\n"
          ]
        },
        {
          "output_type": "stream",
          "name": "stderr",
          "text": [
            "The attention mask and the pad token id were not set. As a consequence, you may observe unexpected behavior. Please pass your input's `attention_mask` to obtain reliable results.\n",
            "Setting `pad_token_id` to `eos_token_id`:50256 for open-end generation.\n",
            "The attention mask and the pad token id were not set. As a consequence, you may observe unexpected behavior. Please pass your input's `attention_mask` to obtain reliable results.\n",
            "Setting `pad_token_id` to `eos_token_id`:50256 for open-end generation.\n",
            "The attention mask and the pad token id were not set. As a consequence, you may observe unexpected behavior. Please pass your input's `attention_mask` to obtain reliable results.\n",
            "Setting `pad_token_id` to `eos_token_id`:50256 for open-end generation.\n"
          ]
        },
        {
          "output_type": "stream",
          "name": "stdout",
          "text": [
            "nemec-g_sent_454.subject\n",
            "nemec-g_inbox_1380.subject\n",
            "carson-m_inbox_22.subject\n"
          ]
        },
        {
          "output_type": "stream",
          "name": "stderr",
          "text": [
            "The attention mask and the pad token id were not set. As a consequence, you may observe unexpected behavior. Please pass your input's `attention_mask` to obtain reliable results.\n",
            "Setting `pad_token_id` to `eos_token_id`:50256 for open-end generation.\n",
            "The attention mask and the pad token id were not set. As a consequence, you may observe unexpected behavior. Please pass your input's `attention_mask` to obtain reliable results.\n",
            "Setting `pad_token_id` to `eos_token_id`:50256 for open-end generation.\n",
            "The attention mask and the pad token id were not set. As a consequence, you may observe unexpected behavior. Please pass your input's `attention_mask` to obtain reliable results.\n",
            "Setting `pad_token_id` to `eos_token_id`:50256 for open-end generation.\n",
            "The attention mask and the pad token id were not set. As a consequence, you may observe unexpected behavior. Please pass your input's `attention_mask` to obtain reliable results.\n",
            "Setting `pad_token_id` to `eos_token_id`:50256 for open-end generation.\n"
          ]
        },
        {
          "output_type": "stream",
          "name": "stdout",
          "text": [
            "lay-k_inbox_793.subject\n",
            "rodrique-r_sent_352.subject\n",
            "mclaughlin-e_inbox_45.subject\n",
            "zipper-a_inbox_226.subject\n"
          ]
        },
        {
          "output_type": "stream",
          "name": "stderr",
          "text": [
            "The attention mask and the pad token id were not set. As a consequence, you may observe unexpected behavior. Please pass your input's `attention_mask` to obtain reliable results.\n",
            "Setting `pad_token_id` to `eos_token_id`:50256 for open-end generation.\n",
            "The attention mask and the pad token id were not set. As a consequence, you may observe unexpected behavior. Please pass your input's `attention_mask` to obtain reliable results.\n",
            "Setting `pad_token_id` to `eos_token_id`:50256 for open-end generation.\n",
            "The attention mask and the pad token id were not set. As a consequence, you may observe unexpected behavior. Please pass your input's `attention_mask` to obtain reliable results.\n",
            "Setting `pad_token_id` to `eos_token_id`:50256 for open-end generation.\n",
            "The attention mask and the pad token id were not set. As a consequence, you may observe unexpected behavior. Please pass your input's `attention_mask` to obtain reliable results.\n",
            "Setting `pad_token_id` to `eos_token_id`:50256 for open-end generation.\n"
          ]
        },
        {
          "output_type": "stream",
          "name": "stdout",
          "text": [
            "shackleton-s_sent_1407.subject\n",
            "lay-k_inbox_531.subject\n",
            "jones-t_inbox_6.subject\n",
            "shackleton-s_sent_5424.subject\n"
          ]
        },
        {
          "output_type": "stream",
          "name": "stderr",
          "text": [
            "The attention mask and the pad token id were not set. As a consequence, you may observe unexpected behavior. Please pass your input's `attention_mask` to obtain reliable results.\n",
            "Setting `pad_token_id` to `eos_token_id`:50256 for open-end generation.\n",
            "The attention mask and the pad token id were not set. As a consequence, you may observe unexpected behavior. Please pass your input's `attention_mask` to obtain reliable results.\n",
            "Setting `pad_token_id` to `eos_token_id`:50256 for open-end generation.\n",
            "The attention mask and the pad token id were not set. As a consequence, you may observe unexpected behavior. Please pass your input's `attention_mask` to obtain reliable results.\n",
            "Setting `pad_token_id` to `eos_token_id`:50256 for open-end generation.\n",
            "The attention mask and the pad token id were not set. As a consequence, you may observe unexpected behavior. Please pass your input's `attention_mask` to obtain reliable results.\n",
            "Setting `pad_token_id` to `eos_token_id`:50256 for open-end generation.\n"
          ]
        },
        {
          "output_type": "stream",
          "name": "stdout",
          "text": [
            "beck-s_sent_470.subject\n",
            "salisbury-h_inbox_708.subject\n",
            "campbell-l_sent_145.subject\n",
            "mann-k_sent_600.subject\n"
          ]
        },
        {
          "output_type": "stream",
          "name": "stderr",
          "text": [
            "The attention mask and the pad token id were not set. As a consequence, you may observe unexpected behavior. Please pass your input's `attention_mask` to obtain reliable results.\n",
            "Setting `pad_token_id` to `eos_token_id`:50256 for open-end generation.\n",
            "The attention mask and the pad token id were not set. As a consequence, you may observe unexpected behavior. Please pass your input's `attention_mask` to obtain reliable results.\n",
            "Setting `pad_token_id` to `eos_token_id`:50256 for open-end generation.\n",
            "The attention mask and the pad token id were not set. As a consequence, you may observe unexpected behavior. Please pass your input's `attention_mask` to obtain reliable results.\n",
            "Setting `pad_token_id` to `eos_token_id`:50256 for open-end generation.\n",
            "The attention mask and the pad token id were not set. As a consequence, you may observe unexpected behavior. Please pass your input's `attention_mask` to obtain reliable results.\n"
          ]
        },
        {
          "output_type": "stream",
          "name": "stdout",
          "text": [
            "derrick-j_inbox_73.subject\n",
            "kean-s_sent_102.subject\n",
            "heard-m_inbox_237.subject\n",
            "dasovich-j_sent_801.subject\n"
          ]
        },
        {
          "output_type": "stream",
          "name": "stderr",
          "text": [
            "Setting `pad_token_id` to `eos_token_id`:50256 for open-end generation.\n",
            "The attention mask and the pad token id were not set. As a consequence, you may observe unexpected behavior. Please pass your input's `attention_mask` to obtain reliable results.\n",
            "Setting `pad_token_id` to `eos_token_id`:50256 for open-end generation.\n",
            "The attention mask and the pad token id were not set. As a consequence, you may observe unexpected behavior. Please pass your input's `attention_mask` to obtain reliable results.\n",
            "Setting `pad_token_id` to `eos_token_id`:50256 for open-end generation.\n",
            "The attention mask and the pad token id were not set. As a consequence, you may observe unexpected behavior. Please pass your input's `attention_mask` to obtain reliable results.\n",
            "Setting `pad_token_id` to `eos_token_id`:50256 for open-end generation.\n",
            "The attention mask and the pad token id were not set. As a consequence, you may observe unexpected behavior. Please pass your input's `attention_mask` to obtain reliable results.\n",
            "Setting `pad_token_id` to `eos_token_id`:50256 for open-end generation.\n"
          ]
        },
        {
          "output_type": "stream",
          "name": "stdout",
          "text": [
            "geaccone-t_inbox_331.subject\n",
            "scott-s_sent_272.subject\n",
            "keiser-k_inbox_66.subject\n",
            "pimenov-v_inbox_393.subject\n"
          ]
        },
        {
          "output_type": "stream",
          "name": "stderr",
          "text": [
            "The attention mask and the pad token id were not set. As a consequence, you may observe unexpected behavior. Please pass your input's `attention_mask` to obtain reliable results.\n",
            "Setting `pad_token_id` to `eos_token_id`:50256 for open-end generation.\n",
            "The attention mask and the pad token id were not set. As a consequence, you may observe unexpected behavior. Please pass your input's `attention_mask` to obtain reliable results.\n",
            "Setting `pad_token_id` to `eos_token_id`:50256 for open-end generation.\n",
            "The attention mask and the pad token id were not set. As a consequence, you may observe unexpected behavior. Please pass your input's `attention_mask` to obtain reliable results.\n",
            "Setting `pad_token_id` to `eos_token_id`:50256 for open-end generation.\n",
            "The attention mask and the pad token id were not set. As a consequence, you may observe unexpected behavior. Please pass your input's `attention_mask` to obtain reliable results.\n",
            "Setting `pad_token_id` to `eos_token_id`:50256 for open-end generation.\n"
          ]
        },
        {
          "output_type": "stream",
          "name": "stdout",
          "text": [
            "giron-d_inbox_14.subject\n",
            "skilling-j_inbox_167.subject\n",
            "lay-k_inbox_957.subject\n",
            "maggi-m_inbox_15.subject\n"
          ]
        },
        {
          "output_type": "stream",
          "name": "stderr",
          "text": [
            "The attention mask and the pad token id were not set. As a consequence, you may observe unexpected behavior. Please pass your input's `attention_mask` to obtain reliable results.\n",
            "Setting `pad_token_id` to `eos_token_id`:50256 for open-end generation.\n",
            "The attention mask and the pad token id were not set. As a consequence, you may observe unexpected behavior. Please pass your input's `attention_mask` to obtain reliable results.\n",
            "Setting `pad_token_id` to `eos_token_id`:50256 for open-end generation.\n",
            "The attention mask and the pad token id were not set. As a consequence, you may observe unexpected behavior. Please pass your input's `attention_mask` to obtain reliable results.\n"
          ]
        },
        {
          "output_type": "stream",
          "name": "stdout",
          "text": [
            "nemec-g_inbox_868.subject\n",
            "germany-c_sent_1635.subject\n",
            "mclaughlin-e_sent_147.subject\n"
          ]
        },
        {
          "output_type": "stream",
          "name": "stderr",
          "text": [
            "Setting `pad_token_id` to `eos_token_id`:50256 for open-end generation.\n",
            "The attention mask and the pad token id were not set. As a consequence, you may observe unexpected behavior. Please pass your input's `attention_mask` to obtain reliable results.\n",
            "Setting `pad_token_id` to `eos_token_id`:50256 for open-end generation.\n",
            "The attention mask and the pad token id were not set. As a consequence, you may observe unexpected behavior. Please pass your input's `attention_mask` to obtain reliable results.\n",
            "Setting `pad_token_id` to `eos_token_id`:50256 for open-end generation.\n",
            "The attention mask and the pad token id were not set. As a consequence, you may observe unexpected behavior. Please pass your input's `attention_mask` to obtain reliable results.\n",
            "Setting `pad_token_id` to `eos_token_id`:50256 for open-end generation.\n",
            "The attention mask and the pad token id were not set. As a consequence, you may observe unexpected behavior. Please pass your input's `attention_mask` to obtain reliable results.\n",
            "Setting `pad_token_id` to `eos_token_id`:50256 for open-end generation.\n"
          ]
        },
        {
          "output_type": "stream",
          "name": "stdout",
          "text": [
            "may-l_inbox_20.subject\n",
            "storey-g_inbox_17.subject\n",
            "platter-p_inbox_330.subject\n",
            "campbell-l_inbox_470.subject\n"
          ]
        },
        {
          "output_type": "stream",
          "name": "stderr",
          "text": [
            "The attention mask and the pad token id were not set. As a consequence, you may observe unexpected behavior. Please pass your input's `attention_mask` to obtain reliable results.\n",
            "Setting `pad_token_id` to `eos_token_id`:50256 for open-end generation.\n",
            "The attention mask and the pad token id were not set. As a consequence, you may observe unexpected behavior. Please pass your input's `attention_mask` to obtain reliable results.\n",
            "Setting `pad_token_id` to `eos_token_id`:50256 for open-end generation.\n",
            "The attention mask and the pad token id were not set. As a consequence, you may observe unexpected behavior. Please pass your input's `attention_mask` to obtain reliable results.\n",
            "Setting `pad_token_id` to `eos_token_id`:50256 for open-end generation.\n",
            "The attention mask and the pad token id were not set. As a consequence, you may observe unexpected behavior. Please pass your input's `attention_mask` to obtain reliable results.\n",
            "Setting `pad_token_id` to `eos_token_id`:50256 for open-end generation.\n"
          ]
        },
        {
          "output_type": "stream",
          "name": "stdout",
          "text": [
            "lay-k_inbox_720.subject\n",
            "taylor-m_inbox_80.subject\n",
            "mims-thurston-p_inbox_66.subject\n",
            "martin-t_inbox_113.subject\n"
          ]
        },
        {
          "output_type": "stream",
          "name": "stderr",
          "text": [
            "The attention mask and the pad token id were not set. As a consequence, you may observe unexpected behavior. Please pass your input's `attention_mask` to obtain reliable results.\n",
            "Setting `pad_token_id` to `eos_token_id`:50256 for open-end generation.\n",
            "The attention mask and the pad token id were not set. As a consequence, you may observe unexpected behavior. Please pass your input's `attention_mask` to obtain reliable results.\n",
            "Setting `pad_token_id` to `eos_token_id`:50256 for open-end generation.\n",
            "The attention mask and the pad token id were not set. As a consequence, you may observe unexpected behavior. Please pass your input's `attention_mask` to obtain reliable results.\n",
            "Setting `pad_token_id` to `eos_token_id`:50256 for open-end generation.\n",
            "The attention mask and the pad token id were not set. As a consequence, you may observe unexpected behavior. Please pass your input's `attention_mask` to obtain reliable results.\n",
            "Setting `pad_token_id` to `eos_token_id`:50256 for open-end generation.\n"
          ]
        },
        {
          "output_type": "stream",
          "name": "stdout",
          "text": [
            "mcconnell-m_sent_698.subject\n",
            "mann-k_sent_3061.subject\n",
            "salisbury-h_inbox_825.subject\n",
            "germany-c_sent_1629.subject\n"
          ]
        },
        {
          "output_type": "stream",
          "name": "stderr",
          "text": [
            "The attention mask and the pad token id were not set. As a consequence, you may observe unexpected behavior. Please pass your input's `attention_mask` to obtain reliable results.\n",
            "Setting `pad_token_id` to `eos_token_id`:50256 for open-end generation.\n",
            "The attention mask and the pad token id were not set. As a consequence, you may observe unexpected behavior. Please pass your input's `attention_mask` to obtain reliable results.\n",
            "Setting `pad_token_id` to `eos_token_id`:50256 for open-end generation.\n",
            "The attention mask and the pad token id were not set. As a consequence, you may observe unexpected behavior. Please pass your input's `attention_mask` to obtain reliable results.\n",
            "Setting `pad_token_id` to `eos_token_id`:50256 for open-end generation.\n",
            "The attention mask and the pad token id were not set. As a consequence, you may observe unexpected behavior. Please pass your input's `attention_mask` to obtain reliable results.\n",
            "Setting `pad_token_id` to `eos_token_id`:50256 for open-end generation.\n"
          ]
        },
        {
          "output_type": "stream",
          "name": "stdout",
          "text": [
            "germany-c_sent_2869.subject\n",
            "nemec-g_sent_155.subject\n",
            "stclair-c_sent_18.subject\n",
            "lay-k_inbox_815.subject\n"
          ]
        },
        {
          "output_type": "stream",
          "name": "stderr",
          "text": [
            "The attention mask and the pad token id were not set. As a consequence, you may observe unexpected behavior. Please pass your input's `attention_mask` to obtain reliable results.\n",
            "Setting `pad_token_id` to `eos_token_id`:50256 for open-end generation.\n",
            "The attention mask and the pad token id were not set. As a consequence, you may observe unexpected behavior. Please pass your input's `attention_mask` to obtain reliable results.\n",
            "Setting `pad_token_id` to `eos_token_id`:50256 for open-end generation.\n",
            "The attention mask and the pad token id were not set. As a consequence, you may observe unexpected behavior. Please pass your input's `attention_mask` to obtain reliable results.\n",
            "Setting `pad_token_id` to `eos_token_id`:50256 for open-end generation.\n",
            "The attention mask and the pad token id were not set. As a consequence, you may observe unexpected behavior. Please pass your input's `attention_mask` to obtain reliable results.\n",
            "Setting `pad_token_id` to `eos_token_id`:50256 for open-end generation.\n"
          ]
        },
        {
          "output_type": "stream",
          "name": "stdout",
          "text": [
            "mann-k_sent_1482.subject\n",
            "ybarbo-p_inbox_60.subject\n",
            "lokey-t_inbox_50.subject\n",
            "buy-r_inbox_184.subject\n"
          ]
        },
        {
          "output_type": "stream",
          "name": "stderr",
          "text": [
            "The attention mask and the pad token id were not set. As a consequence, you may observe unexpected behavior. Please pass your input's `attention_mask` to obtain reliable results.\n",
            "Setting `pad_token_id` to `eos_token_id`:50256 for open-end generation.\n",
            "The attention mask and the pad token id were not set. As a consequence, you may observe unexpected behavior. Please pass your input's `attention_mask` to obtain reliable results.\n",
            "Setting `pad_token_id` to `eos_token_id`:50256 for open-end generation.\n",
            "The attention mask and the pad token id were not set. As a consequence, you may observe unexpected behavior. Please pass your input's `attention_mask` to obtain reliable results.\n",
            "Setting `pad_token_id` to `eos_token_id`:50256 for open-end generation.\n",
            "The attention mask and the pad token id were not set. As a consequence, you may observe unexpected behavior. Please pass your input's `attention_mask` to obtain reliable results.\n",
            "Setting `pad_token_id` to `eos_token_id`:50256 for open-end generation.\n"
          ]
        },
        {
          "output_type": "stream",
          "name": "stdout",
          "text": [
            "shackleton-s_sent_711.subject\n",
            "jones-t_sent_1297.subject\n",
            "shankman-j_inbox_109.subject\n",
            "germany-c_sent_1175.subject\n"
          ]
        },
        {
          "output_type": "stream",
          "name": "stderr",
          "text": [
            "The attention mask and the pad token id were not set. As a consequence, you may observe unexpected behavior. Please pass your input's `attention_mask` to obtain reliable results.\n",
            "Setting `pad_token_id` to `eos_token_id`:50256 for open-end generation.\n",
            "The attention mask and the pad token id were not set. As a consequence, you may observe unexpected behavior. Please pass your input's `attention_mask` to obtain reliable results.\n",
            "Setting `pad_token_id` to `eos_token_id`:50256 for open-end generation.\n",
            "The attention mask and the pad token id were not set. As a consequence, you may observe unexpected behavior. Please pass your input's `attention_mask` to obtain reliable results.\n",
            "Setting `pad_token_id` to `eos_token_id`:50256 for open-end generation.\n",
            "The attention mask and the pad token id were not set. As a consequence, you may observe unexpected behavior. Please pass your input's `attention_mask` to obtain reliable results.\n",
            "Setting `pad_token_id` to `eos_token_id`:50256 for open-end generation.\n"
          ]
        },
        {
          "output_type": "stream",
          "name": "stdout",
          "text": [
            "hyvl-d_sent_453.subject\n",
            "perlingiere-d_sent_2068.subject\n",
            "buy-r_inbox_168.subject\n",
            "nemec-g_inbox_229.subject\n"
          ]
        },
        {
          "output_type": "stream",
          "name": "stderr",
          "text": [
            "The attention mask and the pad token id were not set. As a consequence, you may observe unexpected behavior. Please pass your input's `attention_mask` to obtain reliable results.\n",
            "Setting `pad_token_id` to `eos_token_id`:50256 for open-end generation.\n",
            "The attention mask and the pad token id were not set. As a consequence, you may observe unexpected behavior. Please pass your input's `attention_mask` to obtain reliable results.\n",
            "Setting `pad_token_id` to `eos_token_id`:50256 for open-end generation.\n",
            "The attention mask and the pad token id were not set. As a consequence, you may observe unexpected behavior. Please pass your input's `attention_mask` to obtain reliable results.\n",
            "Setting `pad_token_id` to `eos_token_id`:50256 for open-end generation.\n",
            "The attention mask and the pad token id were not set. As a consequence, you may observe unexpected behavior. Please pass your input's `attention_mask` to obtain reliable results.\n",
            "Setting `pad_token_id` to `eos_token_id`:50256 for open-end generation.\n"
          ]
        },
        {
          "output_type": "stream",
          "name": "stdout",
          "text": [
            "whitt-m_inbox_854.subject\n",
            "beck-s_sent_723.subject\n",
            "germany-c_sent_1914.subject\n",
            "shackleton-s_sent_373.subject\n"
          ]
        },
        {
          "output_type": "stream",
          "name": "stderr",
          "text": [
            "The attention mask and the pad token id were not set. As a consequence, you may observe unexpected behavior. Please pass your input's `attention_mask` to obtain reliable results.\n",
            "Setting `pad_token_id` to `eos_token_id`:50256 for open-end generation.\n",
            "The attention mask and the pad token id were not set. As a consequence, you may observe unexpected behavior. Please pass your input's `attention_mask` to obtain reliable results.\n",
            "Setting `pad_token_id` to `eos_token_id`:50256 for open-end generation.\n",
            "The attention mask and the pad token id were not set. As a consequence, you may observe unexpected behavior. Please pass your input's `attention_mask` to obtain reliable results.\n",
            "Setting `pad_token_id` to `eos_token_id`:50256 for open-end generation.\n",
            "The attention mask and the pad token id were not set. As a consequence, you may observe unexpected behavior. Please pass your input's `attention_mask` to obtain reliable results.\n",
            "Setting `pad_token_id` to `eos_token_id`:50256 for open-end generation.\n"
          ]
        },
        {
          "output_type": "stream",
          "name": "stdout",
          "text": [
            "jones-t_inbox_592.subject\n",
            "shackleton-s_sent_2525.subject\n",
            "germany-c_sent_446.subject\n",
            "rogers-b_sent_46.subject\n"
          ]
        },
        {
          "output_type": "stream",
          "name": "stderr",
          "text": [
            "The attention mask and the pad token id were not set. As a consequence, you may observe unexpected behavior. Please pass your input's `attention_mask` to obtain reliable results.\n",
            "Setting `pad_token_id` to `eos_token_id`:50256 for open-end generation.\n",
            "The attention mask and the pad token id were not set. As a consequence, you may observe unexpected behavior. Please pass your input's `attention_mask` to obtain reliable results.\n",
            "Setting `pad_token_id` to `eos_token_id`:50256 for open-end generation.\n",
            "The attention mask and the pad token id were not set. As a consequence, you may observe unexpected behavior. Please pass your input's `attention_mask` to obtain reliable results.\n",
            "Setting `pad_token_id` to `eos_token_id`:50256 for open-end generation.\n",
            "The attention mask and the pad token id were not set. As a consequence, you may observe unexpected behavior. Please pass your input's `attention_mask` to obtain reliable results.\n",
            "Setting `pad_token_id` to `eos_token_id`:50256 for open-end generation.\n"
          ]
        },
        {
          "output_type": "stream",
          "name": "stdout",
          "text": [
            "platter-p_inbox_246.subject\n",
            "dasovich-j_inbox_532.subject\n",
            "shackleton-s_sent_5759.subject\n",
            "reitmeyer-j_inbox_121.subject\n"
          ]
        },
        {
          "output_type": "stream",
          "name": "stderr",
          "text": [
            "The attention mask and the pad token id were not set. As a consequence, you may observe unexpected behavior. Please pass your input's `attention_mask` to obtain reliable results.\n",
            "Setting `pad_token_id` to `eos_token_id`:50256 for open-end generation.\n",
            "The attention mask and the pad token id were not set. As a consequence, you may observe unexpected behavior. Please pass your input's `attention_mask` to obtain reliable results.\n",
            "Setting `pad_token_id` to `eos_token_id`:50256 for open-end generation.\n",
            "The attention mask and the pad token id were not set. As a consequence, you may observe unexpected behavior. Please pass your input's `attention_mask` to obtain reliable results.\n",
            "Setting `pad_token_id` to `eos_token_id`:50256 for open-end generation.\n",
            "The attention mask and the pad token id were not set. As a consequence, you may observe unexpected behavior. Please pass your input's `attention_mask` to obtain reliable results.\n",
            "Setting `pad_token_id` to `eos_token_id`:50256 for open-end generation.\n"
          ]
        },
        {
          "output_type": "stream",
          "name": "stdout",
          "text": [
            "whalley-g_inbox_52.subject\n",
            "cuilla-m_inbox_29.subject\n",
            "perlingiere-d_sent_1987.subject\n",
            "sager-e_inbox_77.subject\n"
          ]
        },
        {
          "output_type": "stream",
          "name": "stderr",
          "text": [
            "The attention mask and the pad token id were not set. As a consequence, you may observe unexpected behavior. Please pass your input's `attention_mask` to obtain reliable results.\n",
            "Setting `pad_token_id` to `eos_token_id`:50256 for open-end generation.\n",
            "The attention mask and the pad token id were not set. As a consequence, you may observe unexpected behavior. Please pass your input's `attention_mask` to obtain reliable results.\n",
            "Setting `pad_token_id` to `eos_token_id`:50256 for open-end generation.\n",
            "The attention mask and the pad token id were not set. As a consequence, you may observe unexpected behavior. Please pass your input's `attention_mask` to obtain reliable results.\n",
            "Setting `pad_token_id` to `eos_token_id`:50256 for open-end generation.\n",
            "The attention mask and the pad token id were not set. As a consequence, you may observe unexpected behavior. Please pass your input's `attention_mask` to obtain reliable results.\n",
            "Setting `pad_token_id` to `eos_token_id`:50256 for open-end generation.\n"
          ]
        },
        {
          "output_type": "stream",
          "name": "stdout",
          "text": [
            "haedicke-m_inbox_167.subject\n",
            "dasovich-j_inbox_1622.subject\n",
            "hayslett-r_inbox_40.subject\n",
            "jones-t_sent_324.subject\n"
          ]
        },
        {
          "output_type": "stream",
          "name": "stderr",
          "text": [
            "The attention mask and the pad token id were not set. As a consequence, you may observe unexpected behavior. Please pass your input's `attention_mask` to obtain reliable results.\n",
            "Setting `pad_token_id` to `eos_token_id`:50256 for open-end generation.\n",
            "The attention mask and the pad token id were not set. As a consequence, you may observe unexpected behavior. Please pass your input's `attention_mask` to obtain reliable results.\n",
            "Setting `pad_token_id` to `eos_token_id`:50256 for open-end generation.\n",
            "The attention mask and the pad token id were not set. As a consequence, you may observe unexpected behavior. Please pass your input's `attention_mask` to obtain reliable results.\n",
            "Setting `pad_token_id` to `eos_token_id`:50256 for open-end generation.\n"
          ]
        },
        {
          "output_type": "stream",
          "name": "stdout",
          "text": [
            "nemec-g_inbox_1428.subject\n",
            "scott-s_sent_810.subject\n",
            "beck-s_sent_189.subject\n"
          ]
        },
        {
          "output_type": "stream",
          "name": "stderr",
          "text": [
            "The attention mask and the pad token id were not set. As a consequence, you may observe unexpected behavior. Please pass your input's `attention_mask` to obtain reliable results.\n",
            "Setting `pad_token_id` to `eos_token_id`:50256 for open-end generation.\n",
            "The attention mask and the pad token id were not set. As a consequence, you may observe unexpected behavior. Please pass your input's `attention_mask` to obtain reliable results.\n",
            "Setting `pad_token_id` to `eos_token_id`:50256 for open-end generation.\n",
            "The attention mask and the pad token id were not set. As a consequence, you may observe unexpected behavior. Please pass your input's `attention_mask` to obtain reliable results.\n",
            "Setting `pad_token_id` to `eos_token_id`:50256 for open-end generation.\n"
          ]
        },
        {
          "output_type": "stream",
          "name": "stdout",
          "text": [
            "swerzbin-m_inbox_207.subject\n",
            "jones-t_inbox_875.subject\n",
            "skilling-j_inbox_380.subject\n"
          ]
        },
        {
          "output_type": "stream",
          "name": "stderr",
          "text": [
            "The attention mask and the pad token id were not set. As a consequence, you may observe unexpected behavior. Please pass your input's `attention_mask` to obtain reliable results.\n",
            "Setting `pad_token_id` to `eos_token_id`:50256 for open-end generation.\n",
            "The attention mask and the pad token id were not set. As a consequence, you may observe unexpected behavior. Please pass your input's `attention_mask` to obtain reliable results.\n",
            "Setting `pad_token_id` to `eos_token_id`:50256 for open-end generation.\n",
            "The attention mask and the pad token id were not set. As a consequence, you may observe unexpected behavior. Please pass your input's `attention_mask` to obtain reliable results.\n",
            "Setting `pad_token_id` to `eos_token_id`:50256 for open-end generation.\n"
          ]
        },
        {
          "output_type": "stream",
          "name": "stdout",
          "text": [
            "rogers-b_sent_174.subject\n",
            "dean-c_inbox_967.subject\n",
            "blair-l_inbox_33.subject\n"
          ]
        },
        {
          "output_type": "stream",
          "name": "stderr",
          "text": [
            "The attention mask and the pad token id were not set. As a consequence, you may observe unexpected behavior. Please pass your input's `attention_mask` to obtain reliable results.\n",
            "Setting `pad_token_id` to `eos_token_id`:50256 for open-end generation.\n",
            "The attention mask and the pad token id were not set. As a consequence, you may observe unexpected behavior. Please pass your input's `attention_mask` to obtain reliable results.\n",
            "Setting `pad_token_id` to `eos_token_id`:50256 for open-end generation.\n",
            "The attention mask and the pad token id were not set. As a consequence, you may observe unexpected behavior. Please pass your input's `attention_mask` to obtain reliable results.\n",
            "Setting `pad_token_id` to `eos_token_id`:50256 for open-end generation.\n"
          ]
        },
        {
          "output_type": "stream",
          "name": "stdout",
          "text": [
            "buy-r_inbox_115.subject\n",
            "ermis-f_inbox_557.subject\n",
            "saibi-e_inbox_383.subject\n"
          ]
        },
        {
          "output_type": "stream",
          "name": "stderr",
          "text": [
            "The attention mask and the pad token id were not set. As a consequence, you may observe unexpected behavior. Please pass your input's `attention_mask` to obtain reliable results.\n",
            "Setting `pad_token_id` to `eos_token_id`:50256 for open-end generation.\n",
            "The attention mask and the pad token id were not set. As a consequence, you may observe unexpected behavior. Please pass your input's `attention_mask` to obtain reliable results.\n",
            "Setting `pad_token_id` to `eos_token_id`:50256 for open-end generation.\n"
          ]
        },
        {
          "output_type": "stream",
          "name": "stdout",
          "text": [
            "tycholiz-b_inbox_21.subject\n",
            "mcconnell-m_sent_327.subject\n"
          ]
        },
        {
          "output_type": "stream",
          "name": "stderr",
          "text": [
            "The attention mask and the pad token id were not set. As a consequence, you may observe unexpected behavior. Please pass your input's `attention_mask` to obtain reliable results.\n",
            "Setting `pad_token_id` to `eos_token_id`:50256 for open-end generation.\n",
            "The attention mask and the pad token id were not set. As a consequence, you may observe unexpected behavior. Please pass your input's `attention_mask` to obtain reliable results.\n",
            "Setting `pad_token_id` to `eos_token_id`:50256 for open-end generation.\n",
            "The attention mask and the pad token id were not set. As a consequence, you may observe unexpected behavior. Please pass your input's `attention_mask` to obtain reliable results.\n",
            "Setting `pad_token_id` to `eos_token_id`:50256 for open-end generation.\n",
            "The attention mask and the pad token id were not set. As a consequence, you may observe unexpected behavior. Please pass your input's `attention_mask` to obtain reliable results.\n",
            "Setting `pad_token_id` to `eos_token_id`:50256 for open-end generation.\n"
          ]
        },
        {
          "output_type": "stream",
          "name": "stdout",
          "text": [
            "beck-s_sent_829.subject\n",
            "shackleton-s_sent_1363.subject\n",
            "stclair-c_sent_182.subject\n",
            "shackleton-s_sent_5961.subject\n"
          ]
        },
        {
          "output_type": "stream",
          "name": "stderr",
          "text": [
            "The attention mask and the pad token id were not set. As a consequence, you may observe unexpected behavior. Please pass your input's `attention_mask` to obtain reliable results.\n",
            "Setting `pad_token_id` to `eos_token_id`:50256 for open-end generation.\n",
            "The attention mask and the pad token id were not set. As a consequence, you may observe unexpected behavior. Please pass your input's `attention_mask` to obtain reliable results.\n",
            "Setting `pad_token_id` to `eos_token_id`:50256 for open-end generation.\n",
            "The attention mask and the pad token id were not set. As a consequence, you may observe unexpected behavior. Please pass your input's `attention_mask` to obtain reliable results.\n",
            "Setting `pad_token_id` to `eos_token_id`:50256 for open-end generation.\n",
            "The attention mask and the pad token id were not set. As a consequence, you may observe unexpected behavior. Please pass your input's `attention_mask` to obtain reliable results.\n",
            "Setting `pad_token_id` to `eos_token_id`:50256 for open-end generation.\n"
          ]
        },
        {
          "output_type": "stream",
          "name": "stdout",
          "text": [
            "williams-j_inbox_156.subject\n",
            "kaminski-v_sent_535.subject\n",
            "hendrickson-s_inbox_18.subject\n",
            "tholt-j_sent_93.subject\n"
          ]
        },
        {
          "output_type": "stream",
          "name": "stderr",
          "text": [
            "The attention mask and the pad token id were not set. As a consequence, you may observe unexpected behavior. Please pass your input's `attention_mask` to obtain reliable results.\n",
            "Setting `pad_token_id` to `eos_token_id`:50256 for open-end generation.\n",
            "The attention mask and the pad token id were not set. As a consequence, you may observe unexpected behavior. Please pass your input's `attention_mask` to obtain reliable results.\n",
            "Setting `pad_token_id` to `eos_token_id`:50256 for open-end generation.\n",
            "The attention mask and the pad token id were not set. As a consequence, you may observe unexpected behavior. Please pass your input's `attention_mask` to obtain reliable results.\n",
            "Setting `pad_token_id` to `eos_token_id`:50256 for open-end generation.\n",
            "The attention mask and the pad token id were not set. As a consequence, you may observe unexpected behavior. Please pass your input's `attention_mask` to obtain reliable results.\n",
            "Setting `pad_token_id` to `eos_token_id`:50256 for open-end generation.\n"
          ]
        },
        {
          "output_type": "stream",
          "name": "stdout",
          "text": [
            "campbell-l_inbox_121.subject\n",
            "tycholiz-b_inbox_397.subject\n",
            "mclaughlin-e_inbox_213.subject\n",
            "jones-t_sent_2209.subject\n"
          ]
        },
        {
          "output_type": "stream",
          "name": "stderr",
          "text": [
            "The attention mask and the pad token id were not set. As a consequence, you may observe unexpected behavior. Please pass your input's `attention_mask` to obtain reliable results.\n",
            "Setting `pad_token_id` to `eos_token_id`:50256 for open-end generation.\n",
            "The attention mask and the pad token id were not set. As a consequence, you may observe unexpected behavior. Please pass your input's `attention_mask` to obtain reliable results.\n",
            "Setting `pad_token_id` to `eos_token_id`:50256 for open-end generation.\n",
            "The attention mask and the pad token id were not set. As a consequence, you may observe unexpected behavior. Please pass your input's `attention_mask` to obtain reliable results.\n",
            "Setting `pad_token_id` to `eos_token_id`:50256 for open-end generation.\n",
            "The attention mask and the pad token id were not set. As a consequence, you may observe unexpected behavior. Please pass your input's `attention_mask` to obtain reliable results.\n",
            "Setting `pad_token_id` to `eos_token_id`:50256 for open-end generation.\n"
          ]
        },
        {
          "output_type": "stream",
          "name": "stdout",
          "text": [
            "kean-s_sent_1639.subject\n",
            "martin-t_inbox_91.subject\n",
            "kean-s_sent_1628.subject\n",
            "kean-s_sent_506.subject\n"
          ]
        },
        {
          "output_type": "stream",
          "name": "stderr",
          "text": [
            "The attention mask and the pad token id were not set. As a consequence, you may observe unexpected behavior. Please pass your input's `attention_mask` to obtain reliable results.\n",
            "Setting `pad_token_id` to `eos_token_id`:50256 for open-end generation.\n",
            "The attention mask and the pad token id were not set. As a consequence, you may observe unexpected behavior. Please pass your input's `attention_mask` to obtain reliable results.\n",
            "Setting `pad_token_id` to `eos_token_id`:50256 for open-end generation.\n",
            "The attention mask and the pad token id were not set. As a consequence, you may observe unexpected behavior. Please pass your input's `attention_mask` to obtain reliable results.\n",
            "Setting `pad_token_id` to `eos_token_id`:50256 for open-end generation.\n",
            "The attention mask and the pad token id were not set. As a consequence, you may observe unexpected behavior. Please pass your input's `attention_mask` to obtain reliable results.\n",
            "Setting `pad_token_id` to `eos_token_id`:50256 for open-end generation.\n"
          ]
        },
        {
          "output_type": "stream",
          "name": "stdout",
          "text": [
            "white-s_inbox_33.subject\n",
            "lokey-t_inbox_918.subject\n",
            "rogers-b_sent_853.subject\n",
            "shankman-j_inbox_162.subject\n"
          ]
        },
        {
          "output_type": "stream",
          "name": "stderr",
          "text": [
            "The attention mask and the pad token id were not set. As a consequence, you may observe unexpected behavior. Please pass your input's `attention_mask` to obtain reliable results.\n",
            "Setting `pad_token_id` to `eos_token_id`:50256 for open-end generation.\n",
            "The attention mask and the pad token id were not set. As a consequence, you may observe unexpected behavior. Please pass your input's `attention_mask` to obtain reliable results.\n",
            "Setting `pad_token_id` to `eos_token_id`:50256 for open-end generation.\n",
            "The attention mask and the pad token id were not set. As a consequence, you may observe unexpected behavior. Please pass your input's `attention_mask` to obtain reliable results.\n",
            "Setting `pad_token_id` to `eos_token_id`:50256 for open-end generation.\n",
            "The attention mask and the pad token id were not set. As a consequence, you may observe unexpected behavior. Please pass your input's `attention_mask` to obtain reliable results.\n",
            "Setting `pad_token_id` to `eos_token_id`:50256 for open-end generation.\n"
          ]
        },
        {
          "output_type": "stream",
          "name": "stdout",
          "text": [
            "beck-s_sent_529.subject\n",
            "jones-t_sent_1191.subject\n",
            "donoho-l_inbox_191.subject\n",
            "mann-k_sent_832.subject\n"
          ]
        },
        {
          "output_type": "stream",
          "name": "stderr",
          "text": [
            "The attention mask and the pad token id were not set. As a consequence, you may observe unexpected behavior. Please pass your input's `attention_mask` to obtain reliable results.\n",
            "Setting `pad_token_id` to `eos_token_id`:50256 for open-end generation.\n",
            "The attention mask and the pad token id were not set. As a consequence, you may observe unexpected behavior. Please pass your input's `attention_mask` to obtain reliable results.\n",
            "Setting `pad_token_id` to `eos_token_id`:50256 for open-end generation.\n",
            "The attention mask and the pad token id were not set. As a consequence, you may observe unexpected behavior. Please pass your input's `attention_mask` to obtain reliable results.\n",
            "Setting `pad_token_id` to `eos_token_id`:50256 for open-end generation.\n",
            "The attention mask and the pad token id were not set. As a consequence, you may observe unexpected behavior. Please pass your input's `attention_mask` to obtain reliable results.\n",
            "Setting `pad_token_id` to `eos_token_id`:50256 for open-end generation.\n"
          ]
        },
        {
          "output_type": "stream",
          "name": "stdout",
          "text": [
            "dean-c_inbox_53.subject\n",
            "forney-j_inbox_6.subject\n",
            "nemec-g_inbox_1442.subject\n",
            "nemec-g_inbox_244.subject\n"
          ]
        },
        {
          "output_type": "stream",
          "name": "stderr",
          "text": [
            "The attention mask and the pad token id were not set. As a consequence, you may observe unexpected behavior. Please pass your input's `attention_mask` to obtain reliable results.\n",
            "Setting `pad_token_id` to `eos_token_id`:50256 for open-end generation.\n",
            "The attention mask and the pad token id were not set. As a consequence, you may observe unexpected behavior. Please pass your input's `attention_mask` to obtain reliable results.\n",
            "Setting `pad_token_id` to `eos_token_id`:50256 for open-end generation.\n",
            "The attention mask and the pad token id were not set. As a consequence, you may observe unexpected behavior. Please pass your input's `attention_mask` to obtain reliable results.\n",
            "Setting `pad_token_id` to `eos_token_id`:50256 for open-end generation.\n",
            "The attention mask and the pad token id were not set. As a consequence, you may observe unexpected behavior. Please pass your input's `attention_mask` to obtain reliable results.\n",
            "Setting `pad_token_id` to `eos_token_id`:50256 for open-end generation.\n"
          ]
        },
        {
          "output_type": "stream",
          "name": "stdout",
          "text": [
            "nemec-g_inbox_1667.subject\n",
            "nemec-g_sent_24.subject\n",
            "hodge-j_inbox_479.subject\n",
            "stclair-c_sent_939.subject\n"
          ]
        },
        {
          "output_type": "stream",
          "name": "stderr",
          "text": [
            "The attention mask and the pad token id were not set. As a consequence, you may observe unexpected behavior. Please pass your input's `attention_mask` to obtain reliable results.\n",
            "Setting `pad_token_id` to `eos_token_id`:50256 for open-end generation.\n",
            "The attention mask and the pad token id were not set. As a consequence, you may observe unexpected behavior. Please pass your input's `attention_mask` to obtain reliable results.\n",
            "Setting `pad_token_id` to `eos_token_id`:50256 for open-end generation.\n",
            "The attention mask and the pad token id were not set. As a consequence, you may observe unexpected behavior. Please pass your input's `attention_mask` to obtain reliable results.\n",
            "Setting `pad_token_id` to `eos_token_id`:50256 for open-end generation.\n"
          ]
        },
        {
          "output_type": "stream",
          "name": "stdout",
          "text": [
            "skilling-j_inbox_1161.subject\n",
            "mcconnell-m_inbox_137.subject\n",
            "baughman-d_inbox_184.subject\n"
          ]
        },
        {
          "output_type": "stream",
          "name": "stderr",
          "text": [
            "The attention mask and the pad token id were not set. As a consequence, you may observe unexpected behavior. Please pass your input's `attention_mask` to obtain reliable results.\n",
            "Setting `pad_token_id` to `eos_token_id`:50256 for open-end generation.\n",
            "The attention mask and the pad token id were not set. As a consequence, you may observe unexpected behavior. Please pass your input's `attention_mask` to obtain reliable results.\n",
            "Setting `pad_token_id` to `eos_token_id`:50256 for open-end generation.\n",
            "The attention mask and the pad token id were not set. As a consequence, you may observe unexpected behavior. Please pass your input's `attention_mask` to obtain reliable results.\n",
            "Setting `pad_token_id` to `eos_token_id`:50256 for open-end generation.\n",
            "The attention mask and the pad token id were not set. As a consequence, you may observe unexpected behavior. Please pass your input's `attention_mask` to obtain reliable results.\n",
            "Setting `pad_token_id` to `eos_token_id`:50256 for open-end generation.\n"
          ]
        },
        {
          "output_type": "stream",
          "name": "stdout",
          "text": [
            "stclair-c_sent_761.subject\n",
            "rogers-b_inbox_285.subject\n",
            "sturm-f_sent_72.subject\n",
            "sanders-r_sent_304.subject\n"
          ]
        },
        {
          "output_type": "stream",
          "name": "stderr",
          "text": [
            "The attention mask and the pad token id were not set. As a consequence, you may observe unexpected behavior. Please pass your input's `attention_mask` to obtain reliable results.\n",
            "Setting `pad_token_id` to `eos_token_id`:50256 for open-end generation.\n",
            "The attention mask and the pad token id were not set. As a consequence, you may observe unexpected behavior. Please pass your input's `attention_mask` to obtain reliable results.\n",
            "Setting `pad_token_id` to `eos_token_id`:50256 for open-end generation.\n",
            "The attention mask and the pad token id were not set. As a consequence, you may observe unexpected behavior. Please pass your input's `attention_mask` to obtain reliable results.\n",
            "Setting `pad_token_id` to `eos_token_id`:50256 for open-end generation.\n",
            "The attention mask and the pad token id were not set. As a consequence, you may observe unexpected behavior. Please pass your input's `attention_mask` to obtain reliable results.\n",
            "Setting `pad_token_id` to `eos_token_id`:50256 for open-end generation.\n"
          ]
        },
        {
          "output_type": "stream",
          "name": "stdout",
          "text": [
            "horton-s_inbox_33.subject\n",
            "farmer-d_sent_672.subject\n",
            "delainey-d_sent_543.subject\n",
            "shackleton-s_sent_1225.subject\n"
          ]
        },
        {
          "output_type": "stream",
          "name": "stderr",
          "text": [
            "The attention mask and the pad token id were not set. As a consequence, you may observe unexpected behavior. Please pass your input's `attention_mask` to obtain reliable results.\n",
            "Setting `pad_token_id` to `eos_token_id`:50256 for open-end generation.\n",
            "The attention mask and the pad token id were not set. As a consequence, you may observe unexpected behavior. Please pass your input's `attention_mask` to obtain reliable results.\n",
            "Setting `pad_token_id` to `eos_token_id`:50256 for open-end generation.\n",
            "The attention mask and the pad token id were not set. As a consequence, you may observe unexpected behavior. Please pass your input's `attention_mask` to obtain reliable results.\n",
            "Setting `pad_token_id` to `eos_token_id`:50256 for open-end generation.\n",
            "The attention mask and the pad token id were not set. As a consequence, you may observe unexpected behavior. Please pass your input's `attention_mask` to obtain reliable results.\n",
            "Setting `pad_token_id` to `eos_token_id`:50256 for open-end generation.\n"
          ]
        },
        {
          "output_type": "stream",
          "name": "stdout",
          "text": [
            "germany-c_inbox_42.subject\n",
            "buy-r_inbox_587.subject\n",
            "mckay-b_inbox_43.subject\n",
            "rodrique-r_sent_679.subject\n"
          ]
        },
        {
          "output_type": "stream",
          "name": "stderr",
          "text": [
            "The attention mask and the pad token id were not set. As a consequence, you may observe unexpected behavior. Please pass your input's `attention_mask` to obtain reliable results.\n",
            "Setting `pad_token_id` to `eos_token_id`:50256 for open-end generation.\n",
            "The attention mask and the pad token id were not set. As a consequence, you may observe unexpected behavior. Please pass your input's `attention_mask` to obtain reliable results.\n",
            "Setting `pad_token_id` to `eos_token_id`:50256 for open-end generation.\n",
            "The attention mask and the pad token id were not set. As a consequence, you may observe unexpected behavior. Please pass your input's `attention_mask` to obtain reliable results.\n",
            "Setting `pad_token_id` to `eos_token_id`:50256 for open-end generation.\n",
            "The attention mask and the pad token id were not set. As a consequence, you may observe unexpected behavior. Please pass your input's `attention_mask` to obtain reliable results.\n",
            "Setting `pad_token_id` to `eos_token_id`:50256 for open-end generation.\n"
          ]
        },
        {
          "output_type": "stream",
          "name": "stdout",
          "text": [
            "shackleton-s_inbox_783.subject\n",
            "lokey-t_inbox_223.subject\n",
            "lewis-a_inbox_11.subject\n",
            "mann-k_sent_1928.subject\n"
          ]
        },
        {
          "output_type": "stream",
          "name": "stderr",
          "text": [
            "The attention mask and the pad token id were not set. As a consequence, you may observe unexpected behavior. Please pass your input's `attention_mask` to obtain reliable results.\n",
            "Setting `pad_token_id` to `eos_token_id`:50256 for open-end generation.\n",
            "The attention mask and the pad token id were not set. As a consequence, you may observe unexpected behavior. Please pass your input's `attention_mask` to obtain reliable results.\n",
            "Setting `pad_token_id` to `eos_token_id`:50256 for open-end generation.\n",
            "The attention mask and the pad token id were not set. As a consequence, you may observe unexpected behavior. Please pass your input's `attention_mask` to obtain reliable results.\n",
            "Setting `pad_token_id` to `eos_token_id`:50256 for open-end generation.\n"
          ]
        },
        {
          "output_type": "stream",
          "name": "stdout",
          "text": [
            "lokey-t_inbox_235.subject\n",
            "shackleton-s_sent_1561.subject\n",
            "hernandez-j_inbox_67.subject\n",
            "nemec-g_sent_2499.subject\n"
          ]
        },
        {
          "output_type": "stream",
          "name": "stderr",
          "text": [
            "The attention mask and the pad token id were not set. As a consequence, you may observe unexpected behavior. Please pass your input's `attention_mask` to obtain reliable results.\n",
            "Setting `pad_token_id` to `eos_token_id`:50256 for open-end generation.\n",
            "The attention mask and the pad token id were not set. As a consequence, you may observe unexpected behavior. Please pass your input's `attention_mask` to obtain reliable results.\n",
            "Setting `pad_token_id` to `eos_token_id`:50256 for open-end generation.\n",
            "The attention mask and the pad token id were not set. As a consequence, you may observe unexpected behavior. Please pass your input's `attention_mask` to obtain reliable results.\n",
            "Setting `pad_token_id` to `eos_token_id`:50256 for open-end generation.\n",
            "The attention mask and the pad token id were not set. As a consequence, you may observe unexpected behavior. Please pass your input's `attention_mask` to obtain reliable results.\n",
            "Setting `pad_token_id` to `eos_token_id`:50256 for open-end generation.\n",
            "The attention mask and the pad token id were not set. As a consequence, you may observe unexpected behavior. Please pass your input's `attention_mask` to obtain reliable results.\n",
            "Setting `pad_token_id` to `eos_token_id`:50256 for open-end generation.\n"
          ]
        },
        {
          "output_type": "stream",
          "name": "stdout",
          "text": [
            "salisbury-h_inbox_892.subject\n",
            "mann-k_sent_2767.subject\n",
            "lay-k_inbox_636.subject\n",
            "martin-t_inbox_67.subject\n"
          ]
        },
        {
          "output_type": "stream",
          "name": "stderr",
          "text": [
            "The attention mask and the pad token id were not set. As a consequence, you may observe unexpected behavior. Please pass your input's `attention_mask` to obtain reliable results.\n",
            "Setting `pad_token_id` to `eos_token_id`:50256 for open-end generation.\n",
            "The attention mask and the pad token id were not set. As a consequence, you may observe unexpected behavior. Please pass your input's `attention_mask` to obtain reliable results.\n",
            "Setting `pad_token_id` to `eos_token_id`:50256 for open-end generation.\n",
            "The attention mask and the pad token id were not set. As a consequence, you may observe unexpected behavior. Please pass your input's `attention_mask` to obtain reliable results.\n",
            "Setting `pad_token_id` to `eos_token_id`:50256 for open-end generation.\n",
            "The attention mask and the pad token id were not set. As a consequence, you may observe unexpected behavior. Please pass your input's `attention_mask` to obtain reliable results.\n",
            "Setting `pad_token_id` to `eos_token_id`:50256 for open-end generation.\n"
          ]
        },
        {
          "output_type": "stream",
          "name": "stdout",
          "text": [
            "geaccone-t_inbox_258.subject\n",
            "taylor-m_sent_249.subject\n",
            "shackleton-s_sent_5251.subject\n",
            "geaccone-t_inbox_92.subject\n"
          ]
        },
        {
          "output_type": "stream",
          "name": "stderr",
          "text": [
            "The attention mask and the pad token id were not set. As a consequence, you may observe unexpected behavior. Please pass your input's `attention_mask` to obtain reliable results.\n",
            "Setting `pad_token_id` to `eos_token_id`:50256 for open-end generation.\n",
            "The attention mask and the pad token id were not set. As a consequence, you may observe unexpected behavior. Please pass your input's `attention_mask` to obtain reliable results.\n",
            "Setting `pad_token_id` to `eos_token_id`:50256 for open-end generation.\n",
            "The attention mask and the pad token id were not set. As a consequence, you may observe unexpected behavior. Please pass your input's `attention_mask` to obtain reliable results.\n",
            "Setting `pad_token_id` to `eos_token_id`:50256 for open-end generation.\n",
            "The attention mask and the pad token id were not set. As a consequence, you may observe unexpected behavior. Please pass your input's `attention_mask` to obtain reliable results.\n",
            "Setting `pad_token_id` to `eos_token_id`:50256 for open-end generation.\n"
          ]
        },
        {
          "output_type": "stream",
          "name": "stdout",
          "text": [
            "pereira-s_sent_58.subject\n",
            "shackleton-s_sent_660.subject\n",
            "dasovich-j_sent_1327.subject\n",
            "mcconnell-m_sent_254.subject\n"
          ]
        },
        {
          "output_type": "stream",
          "name": "stderr",
          "text": [
            "The attention mask and the pad token id were not set. As a consequence, you may observe unexpected behavior. Please pass your input's `attention_mask` to obtain reliable results.\n",
            "Setting `pad_token_id` to `eos_token_id`:50256 for open-end generation.\n",
            "The attention mask and the pad token id were not set. As a consequence, you may observe unexpected behavior. Please pass your input's `attention_mask` to obtain reliable results.\n",
            "Setting `pad_token_id` to `eos_token_id`:50256 for open-end generation.\n",
            "The attention mask and the pad token id were not set. As a consequence, you may observe unexpected behavior. Please pass your input's `attention_mask` to obtain reliable results.\n",
            "Setting `pad_token_id` to `eos_token_id`:50256 for open-end generation.\n"
          ]
        },
        {
          "output_type": "stream",
          "name": "stdout",
          "text": [
            "campbell-l_inbox_33.subject\n",
            "shackleton-s_sent_299.subject\n",
            "mann-k_sent_764.subject\n"
          ]
        },
        {
          "output_type": "stream",
          "name": "stderr",
          "text": [
            "The attention mask and the pad token id were not set. As a consequence, you may observe unexpected behavior. Please pass your input's `attention_mask` to obtain reliable results.\n",
            "Setting `pad_token_id` to `eos_token_id`:50256 for open-end generation.\n",
            "The attention mask and the pad token id were not set. As a consequence, you may observe unexpected behavior. Please pass your input's `attention_mask` to obtain reliable results.\n",
            "Setting `pad_token_id` to `eos_token_id`:50256 for open-end generation.\n",
            "The attention mask and the pad token id were not set. As a consequence, you may observe unexpected behavior. Please pass your input's `attention_mask` to obtain reliable results.\n",
            "Setting `pad_token_id` to `eos_token_id`:50256 for open-end generation.\n",
            "The attention mask and the pad token id were not set. As a consequence, you may observe unexpected behavior. Please pass your input's `attention_mask` to obtain reliable results.\n",
            "Setting `pad_token_id` to `eos_token_id`:50256 for open-end generation.\n"
          ]
        },
        {
          "output_type": "stream",
          "name": "stdout",
          "text": [
            "buy-r_inbox_18.subject\n",
            "taylor-m_sent_1373.subject\n",
            "lay-k_inbox_1049.subject\n",
            "parks-j_inbox_133.subject\n"
          ]
        },
        {
          "output_type": "stream",
          "name": "stderr",
          "text": [
            "The attention mask and the pad token id were not set. As a consequence, you may observe unexpected behavior. Please pass your input's `attention_mask` to obtain reliable results.\n",
            "Setting `pad_token_id` to `eos_token_id`:50256 for open-end generation.\n",
            "The attention mask and the pad token id were not set. As a consequence, you may observe unexpected behavior. Please pass your input's `attention_mask` to obtain reliable results.\n",
            "Setting `pad_token_id` to `eos_token_id`:50256 for open-end generation.\n",
            "The attention mask and the pad token id were not set. As a consequence, you may observe unexpected behavior. Please pass your input's `attention_mask` to obtain reliable results.\n",
            "Setting `pad_token_id` to `eos_token_id`:50256 for open-end generation.\n",
            "The attention mask and the pad token id were not set. As a consequence, you may observe unexpected behavior. Please pass your input's `attention_mask` to obtain reliable results.\n",
            "Setting `pad_token_id` to `eos_token_id`:50256 for open-end generation.\n"
          ]
        },
        {
          "output_type": "stream",
          "name": "stdout",
          "text": [
            "cash-m_sent_416.subject\n",
            "donohoe-t_inbox_502.subject\n",
            "salisbury-h_inbox_134.subject\n",
            "nemec-g_sent_2270.subject\n"
          ]
        },
        {
          "output_type": "stream",
          "name": "stderr",
          "text": [
            "The attention mask and the pad token id were not set. As a consequence, you may observe unexpected behavior. Please pass your input's `attention_mask` to obtain reliable results.\n",
            "Setting `pad_token_id` to `eos_token_id`:50256 for open-end generation.\n",
            "The attention mask and the pad token id were not set. As a consequence, you may observe unexpected behavior. Please pass your input's `attention_mask` to obtain reliable results.\n",
            "Setting `pad_token_id` to `eos_token_id`:50256 for open-end generation.\n",
            "The attention mask and the pad token id were not set. As a consequence, you may observe unexpected behavior. Please pass your input's `attention_mask` to obtain reliable results.\n",
            "Setting `pad_token_id` to `eos_token_id`:50256 for open-end generation.\n"
          ]
        },
        {
          "output_type": "stream",
          "name": "stdout",
          "text": [
            "shively-h_inbox_26.subject\n",
            "rapp-b_inbox_174.subject\n",
            "townsend-j_inbox_55.subject\n"
          ]
        },
        {
          "output_type": "stream",
          "name": "stderr",
          "text": [
            "The attention mask and the pad token id were not set. As a consequence, you may observe unexpected behavior. Please pass your input's `attention_mask` to obtain reliable results.\n",
            "Setting `pad_token_id` to `eos_token_id`:50256 for open-end generation.\n",
            "The attention mask and the pad token id were not set. As a consequence, you may observe unexpected behavior. Please pass your input's `attention_mask` to obtain reliable results.\n",
            "Setting `pad_token_id` to `eos_token_id`:50256 for open-end generation.\n",
            "The attention mask and the pad token id were not set. As a consequence, you may observe unexpected behavior. Please pass your input's `attention_mask` to obtain reliable results.\n",
            "Setting `pad_token_id` to `eos_token_id`:50256 for open-end generation.\n"
          ]
        },
        {
          "output_type": "stream",
          "name": "stdout",
          "text": [
            "kean-s_sent_301.subject\n",
            "sturm-f_inbox_52.subject\n",
            "sager-e_sent_905.subject\n"
          ]
        },
        {
          "output_type": "stream",
          "name": "stderr",
          "text": [
            "The attention mask and the pad token id were not set. As a consequence, you may observe unexpected behavior. Please pass your input's `attention_mask` to obtain reliable results.\n",
            "Setting `pad_token_id` to `eos_token_id`:50256 for open-end generation.\n",
            "The attention mask and the pad token id were not set. As a consequence, you may observe unexpected behavior. Please pass your input's `attention_mask` to obtain reliable results.\n",
            "Setting `pad_token_id` to `eos_token_id`:50256 for open-end generation.\n",
            "The attention mask and the pad token id were not set. As a consequence, you may observe unexpected behavior. Please pass your input's `attention_mask` to obtain reliable results.\n",
            "Setting `pad_token_id` to `eos_token_id`:50256 for open-end generation.\n"
          ]
        },
        {
          "output_type": "stream",
          "name": "stdout",
          "text": [
            "keavey-p_inbox_252.subject\n",
            "shackleton-s_inbox_304.subject\n",
            "buy-r_inbox_187.subject\n"
          ]
        },
        {
          "output_type": "stream",
          "name": "stderr",
          "text": [
            "The attention mask and the pad token id were not set. As a consequence, you may observe unexpected behavior. Please pass your input's `attention_mask` to obtain reliable results.\n",
            "Setting `pad_token_id` to `eos_token_id`:50256 for open-end generation.\n",
            "The attention mask and the pad token id were not set. As a consequence, you may observe unexpected behavior. Please pass your input's `attention_mask` to obtain reliable results.\n",
            "Setting `pad_token_id` to `eos_token_id`:50256 for open-end generation.\n",
            "The attention mask and the pad token id were not set. As a consequence, you may observe unexpected behavior. Please pass your input's `attention_mask` to obtain reliable results.\n",
            "Setting `pad_token_id` to `eos_token_id`:50256 for open-end generation.\n"
          ]
        },
        {
          "output_type": "stream",
          "name": "stdout",
          "text": [
            "buy-r_inbox_119.subject\n",
            "fischer-m_inbox_52.subject\n",
            "rogers-b_inbox_59.subject\n"
          ]
        },
        {
          "output_type": "stream",
          "name": "stderr",
          "text": [
            "The attention mask and the pad token id were not set. As a consequence, you may observe unexpected behavior. Please pass your input's `attention_mask` to obtain reliable results.\n",
            "Setting `pad_token_id` to `eos_token_id`:50256 for open-end generation.\n",
            "The attention mask and the pad token id were not set. As a consequence, you may observe unexpected behavior. Please pass your input's `attention_mask` to obtain reliable results.\n",
            "Setting `pad_token_id` to `eos_token_id`:50256 for open-end generation.\n",
            "The attention mask and the pad token id were not set. As a consequence, you may observe unexpected behavior. Please pass your input's `attention_mask` to obtain reliable results.\n",
            "Setting `pad_token_id` to `eos_token_id`:50256 for open-end generation.\n"
          ]
        },
        {
          "output_type": "stream",
          "name": "stdout",
          "text": [
            "germany-c_inbox_237.subject\n",
            "salisbury-h_inbox_422.subject\n",
            "whalley-g_inbox_254.subject\n"
          ]
        },
        {
          "output_type": "stream",
          "name": "stderr",
          "text": [
            "The attention mask and the pad token id were not set. As a consequence, you may observe unexpected behavior. Please pass your input's `attention_mask` to obtain reliable results.\n",
            "Setting `pad_token_id` to `eos_token_id`:50256 for open-end generation.\n",
            "The attention mask and the pad token id were not set. As a consequence, you may observe unexpected behavior. Please pass your input's `attention_mask` to obtain reliable results.\n",
            "Setting `pad_token_id` to `eos_token_id`:50256 for open-end generation.\n",
            "The attention mask and the pad token id were not set. As a consequence, you may observe unexpected behavior. Please pass your input's `attention_mask` to obtain reliable results.\n",
            "Setting `pad_token_id` to `eos_token_id`:50256 for open-end generation.\n"
          ]
        },
        {
          "output_type": "stream",
          "name": "stdout",
          "text": [
            "taylor-m_inbox_132.subject\n",
            "shackleton-s_inbox_3.subject\n",
            "salisbury-h_inbox_20.subject\n"
          ]
        },
        {
          "output_type": "stream",
          "name": "stderr",
          "text": [
            "The attention mask and the pad token id were not set. As a consequence, you may observe unexpected behavior. Please pass your input's `attention_mask` to obtain reliable results.\n",
            "Setting `pad_token_id` to `eos_token_id`:50256 for open-end generation.\n",
            "The attention mask and the pad token id were not set. As a consequence, you may observe unexpected behavior. Please pass your input's `attention_mask` to obtain reliable results.\n",
            "Setting `pad_token_id` to `eos_token_id`:50256 for open-end generation.\n",
            "The attention mask and the pad token id were not set. As a consequence, you may observe unexpected behavior. Please pass your input's `attention_mask` to obtain reliable results.\n",
            "Setting `pad_token_id` to `eos_token_id`:50256 for open-end generation.\n"
          ]
        },
        {
          "output_type": "stream",
          "name": "stdout",
          "text": [
            "dasovich-j_sent_12118.subject\n",
            "germany-c_sent_35.subject\n",
            "dasovich-j_sent_127.subject\n"
          ]
        },
        {
          "output_type": "stream",
          "name": "stderr",
          "text": [
            "The attention mask and the pad token id were not set. As a consequence, you may observe unexpected behavior. Please pass your input's `attention_mask` to obtain reliable results.\n",
            "Setting `pad_token_id` to `eos_token_id`:50256 for open-end generation.\n",
            "The attention mask and the pad token id were not set. As a consequence, you may observe unexpected behavior. Please pass your input's `attention_mask` to obtain reliable results.\n",
            "Setting `pad_token_id` to `eos_token_id`:50256 for open-end generation.\n",
            "The attention mask and the pad token id were not set. As a consequence, you may observe unexpected behavior. Please pass your input's `attention_mask` to obtain reliable results.\n",
            "Setting `pad_token_id` to `eos_token_id`:50256 for open-end generation.\n"
          ]
        },
        {
          "output_type": "stream",
          "name": "stdout",
          "text": [
            "ybarbo-p_inbox_159.subject\n",
            "ermis-f_inbox_512.subject\n",
            "mann-k_sent_2446.subject\n"
          ]
        },
        {
          "output_type": "stream",
          "name": "stderr",
          "text": [
            "The attention mask and the pad token id were not set. As a consequence, you may observe unexpected behavior. Please pass your input's `attention_mask` to obtain reliable results.\n",
            "Setting `pad_token_id` to `eos_token_id`:50256 for open-end generation.\n",
            "The attention mask and the pad token id were not set. As a consequence, you may observe unexpected behavior. Please pass your input's `attention_mask` to obtain reliable results.\n",
            "Setting `pad_token_id` to `eos_token_id`:50256 for open-end generation.\n",
            "The attention mask and the pad token id were not set. As a consequence, you may observe unexpected behavior. Please pass your input's `attention_mask` to obtain reliable results.\n",
            "Setting `pad_token_id` to `eos_token_id`:50256 for open-end generation.\n"
          ]
        },
        {
          "output_type": "stream",
          "name": "stdout",
          "text": [
            "campbell-l_inbox_1177.subject\n",
            "mann-k_sent_541.subject\n",
            "symes-k_sent_1287.subject\n"
          ]
        },
        {
          "output_type": "stream",
          "name": "stderr",
          "text": [
            "The attention mask and the pad token id were not set. As a consequence, you may observe unexpected behavior. Please pass your input's `attention_mask` to obtain reliable results.\n",
            "Setting `pad_token_id` to `eos_token_id`:50256 for open-end generation.\n",
            "The attention mask and the pad token id were not set. As a consequence, you may observe unexpected behavior. Please pass your input's `attention_mask` to obtain reliable results.\n",
            "Setting `pad_token_id` to `eos_token_id`:50256 for open-end generation.\n"
          ]
        },
        {
          "output_type": "stream",
          "name": "stdout",
          "text": [
            "shackleton-s_inbox_267.subject\n",
            "nemec-g_sent_444.subject\n"
          ]
        },
        {
          "output_type": "stream",
          "name": "stderr",
          "text": [
            "The attention mask and the pad token id were not set. As a consequence, you may observe unexpected behavior. Please pass your input's `attention_mask` to obtain reliable results.\n",
            "Setting `pad_token_id` to `eos_token_id`:50256 for open-end generation.\n",
            "The attention mask and the pad token id were not set. As a consequence, you may observe unexpected behavior. Please pass your input's `attention_mask` to obtain reliable results.\n",
            "Setting `pad_token_id` to `eos_token_id`:50256 for open-end generation.\n"
          ]
        },
        {
          "output_type": "stream",
          "name": "stdout",
          "text": [
            "ring-r_inbox_53.subject\n",
            "kaminski-v_sent_1366.subject\n"
          ]
        },
        {
          "output_type": "stream",
          "name": "stderr",
          "text": [
            "The attention mask and the pad token id were not set. As a consequence, you may observe unexpected behavior. Please pass your input's `attention_mask` to obtain reliable results.\n",
            "Setting `pad_token_id` to `eos_token_id`:50256 for open-end generation.\n",
            "The attention mask and the pad token id were not set. As a consequence, you may observe unexpected behavior. Please pass your input's `attention_mask` to obtain reliable results.\n",
            "Setting `pad_token_id` to `eos_token_id`:50256 for open-end generation.\n"
          ]
        },
        {
          "output_type": "stream",
          "name": "stdout",
          "text": [
            "williams-w3_inbox_110.subject\n",
            "beck-s_sent_177.subject\n"
          ]
        },
        {
          "output_type": "stream",
          "name": "stderr",
          "text": [
            "The attention mask and the pad token id were not set. As a consequence, you may observe unexpected behavior. Please pass your input's `attention_mask` to obtain reliable results.\n",
            "Setting `pad_token_id` to `eos_token_id`:50256 for open-end generation.\n",
            "The attention mask and the pad token id were not set. As a consequence, you may observe unexpected behavior. Please pass your input's `attention_mask` to obtain reliable results.\n",
            "Setting `pad_token_id` to `eos_token_id`:50256 for open-end generation.\n",
            "The attention mask and the pad token id were not set. As a consequence, you may observe unexpected behavior. Please pass your input's `attention_mask` to obtain reliable results.\n",
            "Setting `pad_token_id` to `eos_token_id`:50256 for open-end generation.\n"
          ]
        },
        {
          "output_type": "stream",
          "name": "stdout",
          "text": [
            "lokey-t_inbox_800.subject\n",
            "lokey-t_inbox_88.subject\n",
            "campbell-l_inbox_1030.subject\n"
          ]
        },
        {
          "output_type": "stream",
          "name": "stderr",
          "text": [
            "The attention mask and the pad token id were not set. As a consequence, you may observe unexpected behavior. Please pass your input's `attention_mask` to obtain reliable results.\n",
            "Setting `pad_token_id` to `eos_token_id`:50256 for open-end generation.\n",
            "The attention mask and the pad token id were not set. As a consequence, you may observe unexpected behavior. Please pass your input's `attention_mask` to obtain reliable results.\n",
            "Setting `pad_token_id` to `eos_token_id`:50256 for open-end generation.\n"
          ]
        },
        {
          "output_type": "stream",
          "name": "stdout",
          "text": [
            "beck-s_sent_451.subject\n",
            "skilling-j_sent_54.subject\n",
            "saibi-e_inbox_706.subject\n"
          ]
        },
        {
          "output_type": "stream",
          "name": "stderr",
          "text": [
            "The attention mask and the pad token id were not set. As a consequence, you may observe unexpected behavior. Please pass your input's `attention_mask` to obtain reliable results.\n",
            "Setting `pad_token_id` to `eos_token_id`:50256 for open-end generation.\n",
            "The attention mask and the pad token id were not set. As a consequence, you may observe unexpected behavior. Please pass your input's `attention_mask` to obtain reliable results.\n",
            "Setting `pad_token_id` to `eos_token_id`:50256 for open-end generation.\n",
            "The attention mask and the pad token id were not set. As a consequence, you may observe unexpected behavior. Please pass your input's `attention_mask` to obtain reliable results.\n",
            "Setting `pad_token_id` to `eos_token_id`:50256 for open-end generation.\n"
          ]
        },
        {
          "output_type": "stream",
          "name": "stdout",
          "text": [
            "stclair-c_sent_229.subject\n",
            "dasovich-j_inbox_163.subject\n"
          ]
        },
        {
          "output_type": "stream",
          "name": "stderr",
          "text": [
            "The attention mask and the pad token id were not set. As a consequence, you may observe unexpected behavior. Please pass your input's `attention_mask` to obtain reliable results.\n",
            "Setting `pad_token_id` to `eos_token_id`:50256 for open-end generation.\n",
            "The attention mask and the pad token id were not set. As a consequence, you may observe unexpected behavior. Please pass your input's `attention_mask` to obtain reliable results.\n",
            "Setting `pad_token_id` to `eos_token_id`:50256 for open-end generation.\n"
          ]
        },
        {
          "output_type": "stream",
          "name": "stdout",
          "text": [
            "hernandez-j_inbox_138.subject\n",
            "shackleton-s_sent_2524.subject\n"
          ]
        },
        {
          "output_type": "stream",
          "name": "stderr",
          "text": [
            "The attention mask and the pad token id were not set. As a consequence, you may observe unexpected behavior. Please pass your input's `attention_mask` to obtain reliable results.\n",
            "Setting `pad_token_id` to `eos_token_id`:50256 for open-end generation.\n",
            "The attention mask and the pad token id were not set. As a consequence, you may observe unexpected behavior. Please pass your input's `attention_mask` to obtain reliable results.\n",
            "Setting `pad_token_id` to `eos_token_id`:50256 for open-end generation.\n",
            "The attention mask and the pad token id were not set. As a consequence, you may observe unexpected behavior. Please pass your input's `attention_mask` to obtain reliable results.\n",
            "Setting `pad_token_id` to `eos_token_id`:50256 for open-end generation.\n",
            "The attention mask and the pad token id were not set. As a consequence, you may observe unexpected behavior. Please pass your input's `attention_mask` to obtain reliable results.\n"
          ]
        },
        {
          "output_type": "stream",
          "name": "stdout",
          "text": [
            "dean-c_inbox_506.subject\n",
            "germany-c_sent_871.subject\n",
            "jones-t_inbox_599.subject\n",
            "buy-r_inbox_611.subject\n"
          ]
        },
        {
          "output_type": "stream",
          "name": "stderr",
          "text": [
            "Setting `pad_token_id` to `eos_token_id`:50256 for open-end generation.\n",
            "The attention mask and the pad token id were not set. As a consequence, you may observe unexpected behavior. Please pass your input's `attention_mask` to obtain reliable results.\n",
            "Setting `pad_token_id` to `eos_token_id`:50256 for open-end generation.\n",
            "The attention mask and the pad token id were not set. As a consequence, you may observe unexpected behavior. Please pass your input's `attention_mask` to obtain reliable results.\n",
            "Setting `pad_token_id` to `eos_token_id`:50256 for open-end generation.\n",
            "The attention mask and the pad token id were not set. As a consequence, you may observe unexpected behavior. Please pass your input's `attention_mask` to obtain reliable results.\n",
            "Setting `pad_token_id` to `eos_token_id`:50256 for open-end generation.\n"
          ]
        },
        {
          "output_type": "stream",
          "name": "stdout",
          "text": [
            "perlingiere-d_inbox_117.subject\n",
            "whitt-m_inbox_279.subject\n",
            "shively-h_inbox_111.subject\n"
          ]
        },
        {
          "output_type": "stream",
          "name": "stderr",
          "text": [
            "The attention mask and the pad token id were not set. As a consequence, you may observe unexpected behavior. Please pass your input's `attention_mask` to obtain reliable results.\n",
            "Setting `pad_token_id` to `eos_token_id`:50256 for open-end generation.\n",
            "The attention mask and the pad token id were not set. As a consequence, you may observe unexpected behavior. Please pass your input's `attention_mask` to obtain reliable results.\n",
            "Setting `pad_token_id` to `eos_token_id`:50256 for open-end generation.\n",
            "The attention mask and the pad token id were not set. As a consequence, you may observe unexpected behavior. Please pass your input's `attention_mask` to obtain reliable results.\n",
            "Setting `pad_token_id` to `eos_token_id`:50256 for open-end generation.\n"
          ]
        },
        {
          "output_type": "stream",
          "name": "stdout",
          "text": [
            "campbell-l_inbox_563.subject\n",
            "jones-t_inbox_1089.subject\n",
            "zipper-a_inbox_39.subject\n"
          ]
        },
        {
          "output_type": "stream",
          "name": "stderr",
          "text": [
            "The attention mask and the pad token id were not set. As a consequence, you may observe unexpected behavior. Please pass your input's `attention_mask` to obtain reliable results.\n",
            "Setting `pad_token_id` to `eos_token_id`:50256 for open-end generation.\n",
            "The attention mask and the pad token id were not set. As a consequence, you may observe unexpected behavior. Please pass your input's `attention_mask` to obtain reliable results.\n",
            "Setting `pad_token_id` to `eos_token_id`:50256 for open-end generation.\n",
            "The attention mask and the pad token id were not set. As a consequence, you may observe unexpected behavior. Please pass your input's `attention_mask` to obtain reliable results.\n",
            "Setting `pad_token_id` to `eos_token_id`:50256 for open-end generation.\n"
          ]
        },
        {
          "output_type": "stream",
          "name": "stdout",
          "text": [
            "martin-t_inbox_453.subject\n",
            "geaccone-t_inbox_592.subject\n",
            "jones-t_sent_2523.subject\n"
          ]
        },
        {
          "output_type": "stream",
          "name": "stderr",
          "text": [
            "The attention mask and the pad token id were not set. As a consequence, you may observe unexpected behavior. Please pass your input's `attention_mask` to obtain reliable results.\n",
            "Setting `pad_token_id` to `eos_token_id`:50256 for open-end generation.\n",
            "The attention mask and the pad token id were not set. As a consequence, you may observe unexpected behavior. Please pass your input's `attention_mask` to obtain reliable results.\n",
            "Setting `pad_token_id` to `eos_token_id`:50256 for open-end generation.\n",
            "The attention mask and the pad token id were not set. As a consequence, you may observe unexpected behavior. Please pass your input's `attention_mask` to obtain reliable results.\n",
            "Setting `pad_token_id` to `eos_token_id`:50256 for open-end generation.\n"
          ]
        },
        {
          "output_type": "stream",
          "name": "stdout",
          "text": [
            "hendrickson-s_inbox_22.subject\n",
            "rogers-b_inbox_71.subject\n",
            "jones-t_inbox_1069.subject\n"
          ]
        },
        {
          "output_type": "stream",
          "name": "stderr",
          "text": [
            "The attention mask and the pad token id were not set. As a consequence, you may observe unexpected behavior. Please pass your input's `attention_mask` to obtain reliable results.\n",
            "Setting `pad_token_id` to `eos_token_id`:50256 for open-end generation.\n",
            "The attention mask and the pad token id were not set. As a consequence, you may observe unexpected behavior. Please pass your input's `attention_mask` to obtain reliable results.\n",
            "Setting `pad_token_id` to `eos_token_id`:50256 for open-end generation.\n",
            "The attention mask and the pad token id were not set. As a consequence, you may observe unexpected behavior. Please pass your input's `attention_mask` to obtain reliable results.\n",
            "Setting `pad_token_id` to `eos_token_id`:50256 for open-end generation.\n"
          ]
        },
        {
          "output_type": "stream",
          "name": "stdout",
          "text": [
            "germany-c_inbox_386.subject\n",
            "smith-m_sent_120.subject\n",
            "dasovich-j_inbox_694.subject\n"
          ]
        },
        {
          "output_type": "stream",
          "name": "stderr",
          "text": [
            "The attention mask and the pad token id were not set. As a consequence, you may observe unexpected behavior. Please pass your input's `attention_mask` to obtain reliable results.\n",
            "Setting `pad_token_id` to `eos_token_id`:50256 for open-end generation.\n",
            "The attention mask and the pad token id were not set. As a consequence, you may observe unexpected behavior. Please pass your input's `attention_mask` to obtain reliable results.\n",
            "Setting `pad_token_id` to `eos_token_id`:50256 for open-end generation.\n",
            "The attention mask and the pad token id were not set. As a consequence, you may observe unexpected behavior. Please pass your input's `attention_mask` to obtain reliable results.\n",
            "Setting `pad_token_id` to `eos_token_id`:50256 for open-end generation.\n",
            "The attention mask and the pad token id were not set. As a consequence, you may observe unexpected behavior. Please pass your input's `attention_mask` to obtain reliable results.\n",
            "Setting `pad_token_id` to `eos_token_id`:50256 for open-end generation.\n"
          ]
        },
        {
          "output_type": "stream",
          "name": "stdout",
          "text": [
            "white-s_inbox_66.subject\n",
            "reitmeyer-j_inbox_65.subject\n",
            "nemec-g_sent_384.subject\n",
            "perlingiere-d_sent_2054.subject\n"
          ]
        },
        {
          "output_type": "stream",
          "name": "stderr",
          "text": [
            "The attention mask and the pad token id were not set. As a consequence, you may observe unexpected behavior. Please pass your input's `attention_mask` to obtain reliable results.\n",
            "Setting `pad_token_id` to `eos_token_id`:50256 for open-end generation.\n",
            "The attention mask and the pad token id were not set. As a consequence, you may observe unexpected behavior. Please pass your input's `attention_mask` to obtain reliable results.\n",
            "Setting `pad_token_id` to `eos_token_id`:50256 for open-end generation.\n",
            "The attention mask and the pad token id were not set. As a consequence, you may observe unexpected behavior. Please pass your input's `attention_mask` to obtain reliable results.\n",
            "Setting `pad_token_id` to `eos_token_id`:50256 for open-end generation.\n",
            "The attention mask and the pad token id were not set. As a consequence, you may observe unexpected behavior. Please pass your input's `attention_mask` to obtain reliable results.\n",
            "Setting `pad_token_id` to `eos_token_id`:50256 for open-end generation.\n"
          ]
        },
        {
          "output_type": "stream",
          "name": "stdout",
          "text": [
            "campbell-l_inbox_726.subject\n",
            "shackleton-s_inbox_854.subject\n",
            "storey-g_inbox_41.subject\n",
            "scott-s_sent_608.subject\n"
          ]
        },
        {
          "output_type": "stream",
          "name": "stderr",
          "text": [
            "The attention mask and the pad token id were not set. As a consequence, you may observe unexpected behavior. Please pass your input's `attention_mask` to obtain reliable results.\n",
            "Setting `pad_token_id` to `eos_token_id`:50256 for open-end generation.\n",
            "The attention mask and the pad token id were not set. As a consequence, you may observe unexpected behavior. Please pass your input's `attention_mask` to obtain reliable results.\n",
            "Setting `pad_token_id` to `eos_token_id`:50256 for open-end generation.\n",
            "The attention mask and the pad token id were not set. As a consequence, you may observe unexpected behavior. Please pass your input's `attention_mask` to obtain reliable results.\n",
            "Setting `pad_token_id` to `eos_token_id`:50256 for open-end generation.\n",
            "The attention mask and the pad token id were not set. As a consequence, you may observe unexpected behavior. Please pass your input's `attention_mask` to obtain reliable results.\n",
            "Setting `pad_token_id` to `eos_token_id`:50256 for open-end generation.\n"
          ]
        },
        {
          "output_type": "stream",
          "name": "stdout",
          "text": [
            "cash-m_inbox_288.subject\n",
            "skilling-j_sent_383.subject\n",
            "mann-k_sent_3601.subject\n",
            "lay-k_inbox_689.subject\n"
          ]
        },
        {
          "output_type": "stream",
          "name": "stderr",
          "text": [
            "The attention mask and the pad token id were not set. As a consequence, you may observe unexpected behavior. Please pass your input's `attention_mask` to obtain reliable results.\n",
            "Setting `pad_token_id` to `eos_token_id`:50256 for open-end generation.\n",
            "The attention mask and the pad token id were not set. As a consequence, you may observe unexpected behavior. Please pass your input's `attention_mask` to obtain reliable results.\n",
            "Setting `pad_token_id` to `eos_token_id`:50256 for open-end generation.\n",
            "The attention mask and the pad token id were not set. As a consequence, you may observe unexpected behavior. Please pass your input's `attention_mask` to obtain reliable results.\n",
            "Setting `pad_token_id` to `eos_token_id`:50256 for open-end generation.\n"
          ]
        },
        {
          "output_type": "stream",
          "name": "stdout",
          "text": [
            "benson-r_inbox_156.subject\n",
            "sanders-r_inbox_41.subject\n",
            "delainey-d_sent_295.subject\n"
          ]
        },
        {
          "output_type": "stream",
          "name": "stderr",
          "text": [
            "The attention mask and the pad token id were not set. As a consequence, you may observe unexpected behavior. Please pass your input's `attention_mask` to obtain reliable results.\n",
            "Setting `pad_token_id` to `eos_token_id`:50256 for open-end generation.\n",
            "The attention mask and the pad token id were not set. As a consequence, you may observe unexpected behavior. Please pass your input's `attention_mask` to obtain reliable results.\n",
            "Setting `pad_token_id` to `eos_token_id`:50256 for open-end generation.\n",
            "The attention mask and the pad token id were not set. As a consequence, you may observe unexpected behavior. Please pass your input's `attention_mask` to obtain reliable results.\n",
            "Setting `pad_token_id` to `eos_token_id`:50256 for open-end generation.\n"
          ]
        },
        {
          "output_type": "stream",
          "name": "stdout",
          "text": [
            "love-p_sent_772.subject\n",
            "sager-e_sent_225.subject\n",
            "skilling-j_inbox_1287.subject\n"
          ]
        },
        {
          "output_type": "stream",
          "name": "stderr",
          "text": [
            "The attention mask and the pad token id were not set. As a consequence, you may observe unexpected behavior. Please pass your input's `attention_mask` to obtain reliable results.\n",
            "Setting `pad_token_id` to `eos_token_id`:50256 for open-end generation.\n",
            "The attention mask and the pad token id were not set. As a consequence, you may observe unexpected behavior. Please pass your input's `attention_mask` to obtain reliable results.\n",
            "Setting `pad_token_id` to `eos_token_id`:50256 for open-end generation.\n",
            "The attention mask and the pad token id were not set. As a consequence, you may observe unexpected behavior. Please pass your input's `attention_mask` to obtain reliable results.\n",
            "Setting `pad_token_id` to `eos_token_id`:50256 for open-end generation.\n"
          ]
        },
        {
          "output_type": "stream",
          "name": "stdout",
          "text": [
            "scott-s_inbox_166.subject\n",
            "skilling-j_inbox_237.subject\n",
            "lay-k_inbox_10.subject\n"
          ]
        },
        {
          "output_type": "stream",
          "name": "stderr",
          "text": [
            "The attention mask and the pad token id were not set. As a consequence, you may observe unexpected behavior. Please pass your input's `attention_mask` to obtain reliable results.\n",
            "Setting `pad_token_id` to `eos_token_id`:50256 for open-end generation.\n",
            "The attention mask and the pad token id were not set. As a consequence, you may observe unexpected behavior. Please pass your input's `attention_mask` to obtain reliable results.\n",
            "Setting `pad_token_id` to `eos_token_id`:50256 for open-end generation.\n",
            "The attention mask and the pad token id were not set. As a consequence, you may observe unexpected behavior. Please pass your input's `attention_mask` to obtain reliable results.\n",
            "Setting `pad_token_id` to `eos_token_id`:50256 for open-end generation.\n"
          ]
        },
        {
          "output_type": "stream",
          "name": "stdout",
          "text": [
            "hodge-j_inbox_85.subject\n",
            "mann-k_sent_4050.subject\n",
            "derrick-j_inbox_213.subject\n",
            "kaminski-v_inbox_321.subject\n"
          ]
        },
        {
          "output_type": "stream",
          "name": "stderr",
          "text": [
            "The attention mask and the pad token id were not set. As a consequence, you may observe unexpected behavior. Please pass your input's `attention_mask` to obtain reliable results.\n",
            "Setting `pad_token_id` to `eos_token_id`:50256 for open-end generation.\n",
            "The attention mask and the pad token id were not set. As a consequence, you may observe unexpected behavior. Please pass your input's `attention_mask` to obtain reliable results.\n",
            "Setting `pad_token_id` to `eos_token_id`:50256 for open-end generation.\n",
            "The attention mask and the pad token id were not set. As a consequence, you may observe unexpected behavior. Please pass your input's `attention_mask` to obtain reliable results.\n",
            "Setting `pad_token_id` to `eos_token_id`:50256 for open-end generation.\n",
            "The attention mask and the pad token id were not set. As a consequence, you may observe unexpected behavior. Please pass your input's `attention_mask` to obtain reliable results.\n",
            "Setting `pad_token_id` to `eos_token_id`:50256 for open-end generation.\n"
          ]
        },
        {
          "output_type": "stream",
          "name": "stdout",
          "text": [
            "gilbertsmith-d_inbox_17.subject\n",
            "sturm-f_sent_8.subject\n",
            "skilling-j_inbox_216.subject\n",
            "nemec-g_sent_104.subject\n"
          ]
        },
        {
          "output_type": "stream",
          "name": "stderr",
          "text": [
            "The attention mask and the pad token id were not set. As a consequence, you may observe unexpected behavior. Please pass your input's `attention_mask` to obtain reliable results.\n",
            "Setting `pad_token_id` to `eos_token_id`:50256 for open-end generation.\n",
            "The attention mask and the pad token id were not set. As a consequence, you may observe unexpected behavior. Please pass your input's `attention_mask` to obtain reliable results.\n",
            "Setting `pad_token_id` to `eos_token_id`:50256 for open-end generation.\n",
            "The attention mask and the pad token id were not set. As a consequence, you may observe unexpected behavior. Please pass your input's `attention_mask` to obtain reliable results.\n",
            "Setting `pad_token_id` to `eos_token_id`:50256 for open-end generation.\n",
            "The attention mask and the pad token id were not set. As a consequence, you may observe unexpected behavior. Please pass your input's `attention_mask` to obtain reliable results.\n",
            "Setting `pad_token_id` to `eos_token_id`:50256 for open-end generation.\n"
          ]
        },
        {
          "output_type": "stream",
          "name": "stdout",
          "text": [
            "carson-m_inbox_26.subject\n",
            "lay-k_inbox_9.subject\n",
            "stclair-c_sent_190.subject\n"
          ]
        },
        {
          "output_type": "stream",
          "name": "stderr",
          "text": [
            "The attention mask and the pad token id were not set. As a consequence, you may observe unexpected behavior. Please pass your input's `attention_mask` to obtain reliable results.\n",
            "Setting `pad_token_id` to `eos_token_id`:50256 for open-end generation.\n",
            "The attention mask and the pad token id were not set. As a consequence, you may observe unexpected behavior. Please pass your input's `attention_mask` to obtain reliable results.\n",
            "Setting `pad_token_id` to `eos_token_id`:50256 for open-end generation.\n",
            "The attention mask and the pad token id were not set. As a consequence, you may observe unexpected behavior. Please pass your input's `attention_mask` to obtain reliable results.\n",
            "Setting `pad_token_id` to `eos_token_id`:50256 for open-end generation.\n"
          ]
        },
        {
          "output_type": "stream",
          "name": "stdout",
          "text": [
            "hodge-j_inbox_418.subject\n",
            "lokey-t_inbox_240.subject\n",
            "martin-t_inbox_128.subject\n"
          ]
        },
        {
          "output_type": "stream",
          "name": "stderr",
          "text": [
            "The attention mask and the pad token id were not set. As a consequence, you may observe unexpected behavior. Please pass your input's `attention_mask` to obtain reliable results.\n",
            "Setting `pad_token_id` to `eos_token_id`:50256 for open-end generation.\n",
            "The attention mask and the pad token id were not set. As a consequence, you may observe unexpected behavior. Please pass your input's `attention_mask` to obtain reliable results.\n",
            "Setting `pad_token_id` to `eos_token_id`:50256 for open-end generation.\n",
            "The attention mask and the pad token id were not set. As a consequence, you may observe unexpected behavior. Please pass your input's `attention_mask` to obtain reliable results.\n",
            "Setting `pad_token_id` to `eos_token_id`:50256 for open-end generation.\n"
          ]
        },
        {
          "output_type": "stream",
          "name": "stdout",
          "text": [
            "cash-m_inbox_295.subject\n",
            "dean-c_inbox_12.subject\n",
            "baughman-d_inbox_283.subject\n"
          ]
        },
        {
          "output_type": "stream",
          "name": "stderr",
          "text": [
            "The attention mask and the pad token id were not set. As a consequence, you may observe unexpected behavior. Please pass your input's `attention_mask` to obtain reliable results.\n",
            "Setting `pad_token_id` to `eos_token_id`:50256 for open-end generation.\n",
            "The attention mask and the pad token id were not set. As a consequence, you may observe unexpected behavior. Please pass your input's `attention_mask` to obtain reliable results.\n",
            "Setting `pad_token_id` to `eos_token_id`:50256 for open-end generation.\n"
          ]
        },
        {
          "output_type": "stream",
          "name": "stdout",
          "text": [
            "buy-r_inbox_97.subject\n",
            "dean-c_inbox_732.subject\n",
            "kaminski-v_sent_1430.subject\n"
          ]
        },
        {
          "output_type": "stream",
          "name": "stderr",
          "text": [
            "The attention mask and the pad token id were not set. As a consequence, you may observe unexpected behavior. Please pass your input's `attention_mask` to obtain reliable results.\n",
            "Setting `pad_token_id` to `eos_token_id`:50256 for open-end generation.\n",
            "The attention mask and the pad token id were not set. As a consequence, you may observe unexpected behavior. Please pass your input's `attention_mask` to obtain reliable results.\n",
            "Setting `pad_token_id` to `eos_token_id`:50256 for open-end generation.\n",
            "The attention mask and the pad token id were not set. As a consequence, you may observe unexpected behavior. Please pass your input's `attention_mask` to obtain reliable results.\n",
            "Setting `pad_token_id` to `eos_token_id`:50256 for open-end generation.\n",
            "The attention mask and the pad token id were not set. As a consequence, you may observe unexpected behavior. Please pass your input's `attention_mask` to obtain reliable results.\n",
            "Setting `pad_token_id` to `eos_token_id`:50256 for open-end generation.\n"
          ]
        },
        {
          "output_type": "stream",
          "name": "stdout",
          "text": [
            "lay-k_inbox_102.subject\n",
            "buy-r_inbox_468.subject\n",
            "beck-s_inbox_370.subject\n"
          ]
        },
        {
          "output_type": "stream",
          "name": "stderr",
          "text": [
            "The attention mask and the pad token id were not set. As a consequence, you may observe unexpected behavior. Please pass your input's `attention_mask` to obtain reliable results.\n",
            "Setting `pad_token_id` to `eos_token_id`:50256 for open-end generation.\n",
            "The attention mask and the pad token id were not set. As a consequence, you may observe unexpected behavior. Please pass your input's `attention_mask` to obtain reliable results.\n",
            "Setting `pad_token_id` to `eos_token_id`:50256 for open-end generation.\n",
            "The attention mask and the pad token id were not set. As a consequence, you may observe unexpected behavior. Please pass your input's `attention_mask` to obtain reliable results.\n",
            "Setting `pad_token_id` to `eos_token_id`:50256 for open-end generation.\n",
            "The attention mask and the pad token id were not set. As a consequence, you may observe unexpected behavior. Please pass your input's `attention_mask` to obtain reliable results.\n",
            "Setting `pad_token_id` to `eos_token_id`:50256 for open-end generation.\n"
          ]
        },
        {
          "output_type": "stream",
          "name": "stdout",
          "text": [
            "buy-r_inbox_288.subject\n",
            "perlingiere-d_sent_2349.subject\n",
            "kaminski-v_sent_1441.subject\n",
            "nemec-g_sent_2182.subject\n"
          ]
        },
        {
          "output_type": "stream",
          "name": "stderr",
          "text": [
            "The attention mask and the pad token id were not set. As a consequence, you may observe unexpected behavior. Please pass your input's `attention_mask` to obtain reliable results.\n",
            "Setting `pad_token_id` to `eos_token_id`:50256 for open-end generation.\n",
            "The attention mask and the pad token id were not set. As a consequence, you may observe unexpected behavior. Please pass your input's `attention_mask` to obtain reliable results.\n",
            "Setting `pad_token_id` to `eos_token_id`:50256 for open-end generation.\n",
            "The attention mask and the pad token id were not set. As a consequence, you may observe unexpected behavior. Please pass your input's `attention_mask` to obtain reliable results.\n",
            "Setting `pad_token_id` to `eos_token_id`:50256 for open-end generation.\n",
            "The attention mask and the pad token id were not set. As a consequence, you may observe unexpected behavior. Please pass your input's `attention_mask` to obtain reliable results.\n",
            "Setting `pad_token_id` to `eos_token_id`:50256 for open-end generation.\n",
            "The attention mask and the pad token id were not set. As a consequence, you may observe unexpected behavior. Please pass your input's `attention_mask` to obtain reliable results.\n",
            "Setting `pad_token_id` to `eos_token_id`:50256 for open-end generation.\n"
          ]
        },
        {
          "output_type": "stream",
          "name": "stdout",
          "text": [
            "hernandez-j_inbox_311.subject\n",
            "giron-d_inbox_32.subject\n",
            "dasovich-j_inbox_1021.subject\n",
            "jones-t_inbox_1036.subject\n",
            "shackleton-s_inbox_377.subject\n"
          ]
        },
        {
          "output_type": "stream",
          "name": "stderr",
          "text": [
            "The attention mask and the pad token id were not set. As a consequence, you may observe unexpected behavior. Please pass your input's `attention_mask` to obtain reliable results.\n",
            "Setting `pad_token_id` to `eos_token_id`:50256 for open-end generation.\n"
          ]
        },
        {
          "output_type": "stream",
          "name": "stdout",
          "text": [
            "salisbury-h_inbox_769.subject\n"
          ]
        }
      ]
    },
    {
      "cell_type": "code",
      "source": [
        "# Calculate ROUGE scores\n",
        "def calculate_rouge_scores(hypotheses, references):\n",
        "    rouge = Rouge()\n",
        "    scores = rouge.get_scores(hypotheses, references, avg=True)\n",
        "    return scores\n",
        "\n",
        "print(hypotheses)\n",
        "print(references)\n",
        "rouge_scores = calculate_rouge_scores(hypotheses, references)\n",
        "\n",
        "# Print ROUGE scores\n",
        "print(\"ROUGE Scores:\")\n",
        "print(\"ROUGE-1 (Recall):\", rouge_scores['rouge-1'])\n",
        "print(\"ROUGE-2 (Recall):\", rouge_scores['rouge-2'])\n",
        "print(\"ROUGE-L (Recall):\", rouge_scores['rouge-l'])"
      ],
      "metadata": {
        "colab": {
          "base_uri": "https://localhost:8080/"
        },
        "id": "zXryB3575OPh",
        "outputId": "c7a5d9c8-0dd6-46bc-c0a2-95dec5c233c5"
      },
      "execution_count": null,
      "outputs": [
        {
          "output_type": "stream",
          "name": "stdout",
          "text": [
            "['dan meeting technical people', 'speadsheet working 2010 model', 'dear sir confirm eta', 'please informed vacation monday', 'hate want put anyone', 'may aware enron member', 'hi rebecca trying locate', 'meeting two week ago', 'lou sort policy request', 'excel file g galleon', 'good morning could find', 'steve email mike speed', 'dear prospect sponsor behalf', 'time year please complete', 'hba call volunteer help', 'tanya faxed prior credit', 'pat patti dathe company', 'ed without knowing hedged', 'happenin catch interview fox', 'system outage notification outage', 'esource present training basic', 'thank joining walk team', 'need copy insurance flight', 'plan reporting consolidated dpr', 'anyone take care powerex', 'geological survey national earthquake', 'logged trading cluster appears', 'may concern january 2', 'michelle presentation provided hr', 'good hear even though', 'think usefull guy know', 'windas 98 brooklyn edition', 'keith lance schuler asked', 'john buchanan discussed tw', 'aware enron ubs entered', 'everyone effort protect computing', 'lady holiday shopping card', 'mark lunch calendar invited', 'continuing work ensure new', 'dear ken chad asked', 'notice inform server outlook', 'ginny please see attached', 'ruben brown rsbrown writes', 'past several month reviewed', 'suzanne could please coordinate', 'anyone taken mahonia limited', 'legal call wednesday mike', 'jeff conclusion meeting yesterday', 'attached copy letter sent', 'per conversation attached form', 'organization announcement correction apologize', 'today enron hosted conference', 'please review gtc canadian', 'eol cluster going reason', 'received executed isda master', 'guy next week planning', 'bri deal gray davis', 'attached please find daily', 'attached find list reflects', 'jason et al approaching', 'hello gave matagorda county', 'dear peter pick playground', 'attached current version tw', 'date work assume julie', 'mike revised version option', 'heard viviana left london', 'mary downloaded purchase sale', 'hello paul orbitz would', 'tycholiz barry l attached', 'ken attached letter terminating', 'wanted review think transaction', 'last week distributed presentation', 'geographical area coordination center', 'past week held several', 'november 19 2001 consolidated', 'opened counterparty trade uk', 'hi ben janet requested', 'cuiaba furnas nothing particularly', 'following developed effort assist', 'per meeting attached current', 'confidential attorney client communication', 'ken greg mark next', 'hey melba description need', 'name phone number woman', 'houston volunteer lawyer program', 'dee assume go document', 'louise spoke dave last', 'marie per conversation last', 'john per conversation attached', 'chris enclosed spreadsheet spoke', 'comment needed debra garcia', 'set record straight ee', 'january 13 2000 ferc', 'thanks help today jill', 'talked kevin levy change', 'hi everybody well somethings', 'hi katie remember sure', 'john attached first draft', 'julia liz ray bowen', 'garner request kim ward', 'gerald attached bill discussed', 'ken attached revised agency', 'attached enron broadband notification', 'checking customer pa database', 'please set new location', 'dear colleague know many', 'preparation continuing simulation thursday', 'attached summary request rehearing', 'petrostrategies consulting research training', 'please find attached latest', 'attached information following two', 'jeff received message tues', 'hi ed language offered', 'hi sue happy new', 'hey crystal hope thing', 'fifth grade assignment teacher', 'know texas ex watch', 'consumer energy deal summary', 'last day friday november', 'whale short note congratulate', 'could possibly reschedule time', 'widow 2000 migration begin', 'pira emission marketing intelligence', 'version clickathome portal available', 'dear shack appreciate standing', 'following deal number interdesk', 'changed plant stuff around', 'imagine extreme pressure stress', 'review approval following product', 'completion identified scrapable east', 'one sorry getting question', 'want personally express sadness', 'bruce please launch attached', 'john marie gave message', 'mandatory meeting requested ray', 'decision close body shop', 'brent attached williams bank', 'enron cut job broadband', 'hi pro forma model', 'mark 1 consider voice', 'anne please book following', 'member haas community yesterday', 'meeting scheduled california fish', 'medium report france indicate', 'hello sukran mark welcome', 'hi greg small number', 'per voicemail attached assignment', 'natural gas business continues', 'good morning sally please', 'hi patrice far new', 'hello like never one', 'please see attached new', 'message laptop problem laptop', 'dear colleague know many', 'unable send completed reply', 'attached memo julia meeting', 'got email ut recruiter', 'counterparty eol list received', 'information contained herein based', 'requested enclosed spreadsheet analysis', 'new york city look', 'natural gas business continues', 'natural gas business continues', 'please refer enron tag', 'bother seeing first son', 'united way 2000 campaign', 'posrep hoegh galleon date', 'mark chance review e', 'tim would argue pursue', 'attached revised credit watch', 'reminder finance arrangement fixed', 'mark greg fyi update', 'changed demand charge equitrans', 'question comment regarding report', 'comrade diane leaving u', 'borderline update northern border', 'set ca revised doc', 'please find attached eeos', 'expect patti contact setting', 'risk manager reviewed insurance', 'hey please moderate panel', 'per telephone conversation property', 'hello kim attached index', 'everyone attached proposed edi', 'thanks advance agreeing speak', 'know difficult time u', 'jeff discussion side calculation', 'bob assignment termination agreement', 'fyi next outage coordination', 'november 2001 dear friend', 'keep 10 meeting tuesday', 'jcharlton writes discussion list', 'bkranz writes discussion list', 'barry spite news medium', 'made 1 big change', 'application residing r drive', 'move date set friday', 'new version cqg deployed', 'dynegy requested meeting u', 'hi john sent greg', 'expanded equity trading european', 'mary attached letter providing', 'el paso recently filed', 'ever receive paperwork fund', 'dear mark whitt thank', 'kathy spoke system administrator', 'please open attached file', 'reminder added new pub', 'pleased announce formation enron', 'point raised group system', 'earlier today stepped enron', 'attached rush guaranty stuart', 'going thought aga number', 'please make certain physical', 'folk preliminary comment model', 'b following problem recruiting', 'derek could call sometime', 'wednesday october 17 2001', 'update mail distribution campus', 'tomorrow generalist receive binder', 'louise received attached question', 'columbia gas transmission corporation', 'automatically generated delivery status', 'little something grandfather dr', 'pcb annual document log', 'wednesday february 06 2002', 'please read important information', 'paul please replace reference', 'gerald debra attached summary', 'please read important information', 'maria informed left shootin', 'michelle minor comment however', 'stray fact mentioned sulfur', 'vijay apologize delay getting', 'pleasure spoken last night', 'attention supervisor manager would', 'sent e mail message', 'hi judy wanted let', 'following report waiting approval', 'also getting together picnic', 'request bob shults attaching', 'want remind everyone nng', 'enron announced today common', 'understand ce cove point', 'reminder scheduled interview trading', 'lindy tony sam wishing', 'thought might find useful', 'note fyi may see', 'please let know plan', 'air quality bureau conducted', 'already know move taking', 'order ubs warburg timely', 'please review regard change', 'hello exciting game last', 'see guy winning game', 'theresa please take look', 'dear amu student thank', 'three week ago started', 'john howdy houston received', 'attached king spalding power', 'hello cara hope find', 'eric wrote revised contract', 'mark special respect evaluation', 'great editorial wall street', 'reason time management function', 'brent sorry poor attaching', 'enron employee showed generosity', 'scheduling next recruitment day', 'harry got bid document', 'tracy could please send', 'may recall last summary', 'fyi settlement socal pg', 'john read phil statement', 'fbi uncorroborated evidence possible', 'dear colleague know many', 'liz interviewing constellation tomorrow', 'invited join community national', 'heard technical folk discussion', 'data received recently physical', 'rick fyi alos sent', 'debbie brackett met week', 'celebrating army birthday chuck', 'tried capture document dave', 'participant enron saving plan', 'dear subscriber continuous commitment', 'june 16 2000 energen', 'new copy el paso', 'please give eol id', 'mary deleted counterparty list', 'pam peter keohane calgary', 'bigger amy sorry getting', 'pleased announce creation new', 'sound like hiccup anyway', 'critical migration information scheduled', 'esource present training basic', 'bob list west desk', 'asked pat radford put', 'joe trade bt confirming', 'came attention yesterday book', 'happy new year attached', 'soma let know like', 'larry matt emission facility', 'comment latest set swap', 'reminder thursday july 12', 'business highlight enron industrial', 'david grant assembled team', 'haas student know recruiting', 'latest deal pipeline accessed', 'please find aging spring', 'reminder mandatory annual compliance', 'know unprecedented time enron', 'hi everone trying get', 'posrep hoegh galleon 24th', 'thing going talked fine', 'gerald found provision everyone', 'dear michael carson check', 'dear mr lay know', 'finally finished defensive driving', 'information contained herein based', 'hi andy thank briefly', 'sheila trying coordinate account', 'dear ken apologize bothering', 'tana received original termination', 'email doc comparison markup', 'congratulation added role chairman', 'stacy tag think made', 'transwestern received compliance order', 'hi ben started draft', 'follow conversation friday june1st', 'sherrie rosie jeff ken', 'hi marie hope well', 'attached rough draft talking', 'participant enron saving plan', 'hi mum sorry called', 'kam issue trade type', 'esource present training basic', 'start business wednesday february', 'may know somewhat reluctantly', '3rd time attempted get', 'appears following email may', 'john working gerald debra', '2 storage question cove', 'jeff deal eol 803898', 'due variety circumstance migrate', 'ken lay resignation undoubtedly', 'today difficult day u', 'many requested time submit', 'dear ken second year', 'response email september 24', 'email reach pray fine', 'getting ready launch netcoonline', 'see passed lot zero', 'selling bayou ii kayak', 'pleased announce following promotion', 'believe eog volume listed', 'also leach bg e', 'attached revised gas purchase', 'chris case alos checking', 'dear ken truly heartbroken', 'mike sandridge finally spoke', 'dan ref made yr', 'ultraviolet high voltage trap', 'today euro coming john', 'know working deal forwarding', 'finally received executed termination', 'hey jeff going enron', 'know ever got copy', 'wayne modified contract discussed', 'marc thank concerning master', 'yesterday enron settled procedural', 'sssssshhhhh surprise chris hilgert', 'order shipped thank question', 'please put 17th meeting', 'east desk meeting tomorrow', 'rescheduled visit brazil argentina', 'tana attached master firm', 'message yesterday evening spoken', 'changed deal 268090 268093', 'jon question regarding caledonia', 'talked orhan today waiting', 'received message someone attempted', 'verified cp want stop', 'jay factor change completed', 'want remind attend enron', 'yo sweet mcgeets reminder', 'going gadget gizmo thing', 'invited join community national', 'management committee member light', 'hola let meet lunch', 'would like file accounting', 'mark david portz elizabeth', 'hi wanted let know', 'wanted see still saturday', 'attached memo sent mike', 'interview training wednesday pm', 'hi tana resolution enron', 'please sure turn outstanding', 'question allegheny regarding gleason', 'case interested result bike', 'enron global technology process', 'attaching final copy resume', 'hi frank thought send', 'please aware email circulating', 'tyrell attached amendment letter', 'latest draft please make', 'update two item discussed', 'learned conflict june already', 'fyi spoke lisa mellencamp', 'paul cheryl nelson x54693', 'jason verbally confirmed cut', 'rebecca share concern regarding', 'know write email get', 'comng town sat urday', 'dear market participant technical', 'esource present training basic', 'due current business circumstance', 'request dovie keprta attaching', 'agree john recommendation surprisingly', 'ubs holding benefit presentation', 'attached background information today', 'joe steve asked pas', 'tim john wanted touch', 'effective new company go', 'getting rice application tuesday', 'following report waiting approval', 'announcement sent employee within', 'understand keyspan man asked', 'know enron signed merger', 'still fix liquidated stuff', 'following announcement additional 1', 'good afternoon please send', 'please attend subject meeting', 'united state begin recover', 'dealing today uncertain business', 'attached short outline proposed', 'see attached memo represents', 'mark first cut thing', 'enron principal investment epi', 'lee agave agreement made', 'mailbox exceeded one size', 'stephanie frank susan bailey', 'esource present training basic', 'greg working guy building', 'janette please also note', 'plan complete teaser letter', 'megan forward calculation pan', 'guy good job california', 'marie per voice mail', 'today legal staff meeting', 'please see attached clean', 'following term recognized ice', 'david short list take', 'fia future service division', 'lim mimic excel user', 'appears following email may', 'dave onuscheck left voice', 'walking juvenile diabetes walk', 'executed doc send morgan', 'everyone probably already heard', 'chris attached form professional', 'dear trader fyi cut', 'hi sharon michael pas', 'dear subscriber attached pdf', 'tom sure number already', 'wanted close loop question', 'let add thanks willingness', 'cheryl jason meet tomorrow', 'la plata dra conference', 'soccer practice tonight look', 'carol edward spoke counterparty', 'today noon call open', 'dh first draft rick', 'meeting two week ago', 'per fax 37 page', 'meeting advance tomorrow 130', 'david grant assembled team', 'office construction process continues', 'dear member prospective member', 'new pgr may way', 'pat hello sending memo', 'know unprecedented time enron', 'dear colleague note inform', 'andrew attached draft master', 'hi robert scheduled begin', 'bill please review draft', 'filing application last week', 'steve kean asked review', 'october 17 2001 dynegy', 'enclosed revised term sheet', 'process reaching stated objective', 'clean revised draft discussed', 'market data recently made', 'reminder email domain decommissioned', 'esource present training basic', 'doris would like invite', 'columbia gulf transmission company', 'pleased announce arrival kara', 'attached press release latest', 'attached updated version disclosure', 'hi sara happy birthday', 'due variety circumstance migrate', 'assembly passed budget late', 'forget chat vng nabisco', 'hi gavin could favor', 'dear sir necessary heel', 'would like introduce intercontinental', 'hi required agreement nice', 'larry working lou gomez', 'look like thursday 300pm', 'entered index deal one', 'sara thank reviewing returning', 'attached assignment contribution agreement', 'hi richard would good', 'norma sending preliminary ranking', 'enpower database 4 pm', 'always compile contact list', 'rob requested attached summary', 'please look attached thing', 'know difficult time u', 'hi ted patti day', 'hi kristin wanted make', 'hey eric talked khan', 'susan john want want', 'per attached document angela', 'gmat review enron next', 'matthew thanks taking time', 'know announcement change saving', 'would please write description', 'tana would like nda', 'effective immediately responsibility operational', 'debra pleasure speaking yesterday', 'mark one colleague bob', 'hi hunter recently joined', 'warning sent automatically inform', 'attached please find report', 'andy stephanie sever contacted', 'follow financial freedom looking', 'open ticket remedy report', 'matt let know following', 'much success last year', 'new york city marathon', 'received executed second amendment', 'thinking enron friend finally', 'sara yo thing across', 'friday october 19 dwr', 'attached updated contact list', 'many already know decided', 'thanks greeting card sure', 'ed john malowney requested', 'cking writes discussion list', 'per robert hunzinger owensboro', 'hi geoff could please', 'hey darren wanted try', 'discussion andrea lang today', 'dear murphy receipt correspondence', 'hi bruce christie patrick', 'note check beloved horrible', 'analyst associate recruiting date', 'kevin montagne running code', 'guy would like add', 'fyi make sure tab', 'hi bad suddenly woke', 'pleased announce sally beck', 'dear clickathome participant clickathome', 'hello jeff hope going', 'pw line deficit million', 'version clickathome portal available', 'gentleman ew legal working', 'jim know ben kristina', 'dear kaminsky first year', 'start business wednesday february', 'tjae convenience necessarily today', 'dear jeffrey contacting suggestion', 'dan attached clean redlined', 'filing application last week', 'industry policy task force', 'susan sara want meet', 'discussed enron north america', 'per jan recent commission', 'potential counterparties allow u', 'hr generalist community livelink', 'due variety circumstance migrate', 'many know provision employment', 'aware enron ubs entered', 'may concern office thursday', 'john outline message nesbitt', 'ken met sun microsystems', 'many know provision employment', 'thursday may 31 2001', '1 come attention relocation', 'tammi attached image gisb', 'shalesh please look give', 'mark attached draft owner', 'corporate internal communication team', 'curve file netco need', 'jeff two letter sent', 'warning sent automatically inform', 'lemont understanding connection opening', 'funeral andy darren paul']\n",
            "['update from tech meeting  steam plant maintenance plan  time needed for sticky steam maneuvre control valve LNG/C \"HOEGH GALLEON\"  -  MAINTENACE STOP IN ALGECIRAS', '2010 model spreadsheet  2010 model that kevin howard  spreadsheet for 2010 model TW 2010 Projected Capacity & Revenue', 'confirmation needed on eta/repairs  eta & free access for shore gangway confirmation  please confirm info ETA Notice.', 'vacation information  adr is out of the office on oct. 29  my vacation this monday (10/29) Vacation Day', 'please help with the serious mosquito problem!  can you call harris county mosquito control?  immediate riddance of mosquitoes *EMCA* Mosquitoes', \"please read, sign and return employee certification  details about enron's representation at the pg&e bankruptcy committee  ethical wall procedures for pacific gas and electric bankruptcy case PG&E BANKRUPTCY CASE-- IMPORTANT\", 'signed pages not with letter agreements  attempting to locate the sig pages for the nw guaranty  looking for signature documents Search for sigs', 'major challenges enorn is facing  all-employee meeting update  please complete the attached survey-trying to build a better enron Lay It On the Line', 'chair request policies  chair request policy  policy question on special request Request to purchase chair(s) for Susan', 'excel files attached  please provide feedback on excel files  please review important files. Hoegh Galleon Position Reports and Performance', 'november ppl/griffith cost spreadsheet  november ppl/griffith cost spreadsheet  hi, please send me a copy of the nov. ppl/griffith cost spreadsheet November PPL Deal Spreadsheet', \"feedback needed  email from mike  feedback needed on mike's email Nodocero.com\", \"rice mba energy club roundtable  energy club:this year's program and opportunities  energy 101 roundtable Energy Club program\", 'accomplishments & onjectives for review of account loads due  2002 objectives and accomplishments due  deadline near for list of accomplishments/objectives Year End Accomplishments', 'hba calls for volunteers  legalline sessions volunteers needed  call for volunteers!  we need you! HBA Calls for Volunteers - Your Help is Needed', 'draft isda needed  have you reviewed the isda draft?  credit reviewed yet? Morgan Stanley Capital Services Inc. (\"MSCI\") and ENA', 'atmos energy corp. gisb  ena gisb for your review  response needed for gisb request GISB', 'enron party  ed, need more info, enron  more information needed ISDA Master Agreement for Cargill International, S.A.', \"fox interview  what's up??  what's up? Yo!\", 'upcoming maintenance outage for sap systems  system outage notification:  november 26, 2001 8:00 pm  system outage notification SAP System Outage', 'lexis-nexis basics training in november  upcoming lexis-nexis basic training schedule and sign up  lexis-nexis training information Lexis-Nexis Training: Houston & Worldwide / Dow Jones Training', 'jdrf walk updates and schedule  jdrf walk to cure diabetes  jdrf walk to cure diabetes Walker Update Information', 'insurance copy  action item - insurance information required  requesting insurance before flight insurance', 'consolidated dpr - reporting schedule  plans for consolidated dpr reporting  schedule regarding dpr consolidation DPR reporting', 'powerex cuts  friday powerex cuts - handled?  information on powerex cuts needed EPE Cuts - 10/12', 'june 23, 2001 earthquake results  july 5, 2001 u.s. geological survey national earthquake information  peru earthquake report [EDIS]  EQ MAG 6 6 SOUTHERN PERU [News: Statewide]', 'please load programs  trading cluster - access to all trading applications  update trading cluster program Trading cluster', 'the ciso market  deadline for phase ii in ciso market  apx schedule change DA ahead Cali schedule taken to the HA market 01/02/02', 'bu otcs and devise plans  document plan formatting  hr vp presentation PRC Presentation', 'emailed to the wrong nephew  tell everyone i said hello  wrong newphew but good to hear from you Huh?', 'marq capacity available  marq capacity bids  bids being accepted for marq CNG MARQ Space from the pipeline', 'product shipment mishap  received windas 98 brooklyn edition, by mistake? command explanations included  windows 98/brooklyn edition WINDAS 98 BROOKLYN Edition', '11:30 meeting, draft attached  draft letter  draft letter for the 11:30 meeting with lance schuler. Enron/Dynegy Clarification and Consent Letter', \"thoughts re: tw gas transfer  the transfer of gas  rate for tw's gas transfer Topock\", 'enron and ubs agreement  employment arrangements going forward  enron and usb agreement and merger NETCO Employees at Enron', 'external email disabled  disabled external email  disabled external e-mail External E-Mail Sites', 'holiday shopping card purchase  holiday shopping card perks  the holiday shopping card - $60 well spent and tax-deductible! only available through november 11 American Cancer Society Holiday Shopping Card', 'ews brown bag lunch thurs. 6/21  upcoming ews brown bag lunch series-rsvp required  brown bag lunch series EWS Brown Bag', 'enron/ubs closing date  onlline trading simulation for feb 7  your participation is needed - online trading simulation - feb 7 Online Trading Simulation', 'response to letter concerning rff (per chad)  rff relations  re our business with rff Your Letter Re RFF to Chad Holliday dated October 22, 2001', 'outlook server maintenance outage  outlook server scheduled outage  scheduled outlook server outage NOTIFICATION:  Outlook Outage - Friday, December 28, 2001', 'attached: guaranty for approval  please approve guaranty  attached guaranty. Enron Corp. Guaranty', \"nyiso_tech_exchange discussion  today's terrorist incidents?  updates from ruben s. brown on how to get information on terrorist incidents Try Ananova.com for much coverage of today's terrorist incidents.\", 'proposed change for california contracts  proposed changes  proposed changes for trading contracts Proposed Changes to Business Practices Based on the California  Energy Crisis', 'set up a meeting  set up 30 minute meeting  arbitration meeting setup Meeting', 'trying to locate mahonia limited file  mahonia limited file  the mahonia limited file Mahonia Limited', 'updates on sheets  notes on legal call from wednesday  info on legal call GE and other updates', 'respond to schedule re: htc energy initiative symposium  meeting with matt simmons tomorrow  schedule a follow-up meeting to discuss further insights regarding event HTC Energy Initiative Follow-up Mtg', 'evaluate copies of letters to enron  central pacific group letters to enron  question about termination of gas purchase contract Dominion Producer - The Central Pacific Group', 'enforceability opinion from cadwalader  isda agreement containing enron guaranty attached  isda agreement Power Authority of the State of New York', 'corrected announcement of kenneth lovejoy  organization announcement correction  organization announcement correction Corrected Organization Announcement', 'update re: conference call  update on discussion with investors  enron conference call with investors Overview of Investor Conference Call', 'action step: for your review  need your review of canadian fx gtcs  call requested Par Forward EOL product', 'eol cluster outage  eol cluster  cluster going down EOL', 'isda master agreements distribution  isda master agreements have been received  executed isda master agreements received Panther LLC and Dakota LLC', 'dummified regression models for next week  dummified regression models /predicting a 5-yr cds price  ideas for re-calibration of dummified regression models Statistical Modelling of CDS Prices', 'gray davis opinion?  opinion on davis  kevin a few questions Gray Davis', 'changes to log issuance (new log attached)  changes to the format and issuance of log.  daily log attached new change to issue daily log to weekly Daily log as of 08/20/01', 'your seat assignments for business continuity planning (bcp).  bcp seat assignments  here are your seat assignments for the business continuity planning event BCP Seat Assignments', 'west load data you requested  meeting needed to discuss west power data.  west power load data instructions West Desk Power Loads', 'payment confirmation needed  need confirmation if payment made to the matagorda county fair & livestock association  matagorda county fair bill Matching gift', 'get out & play!  pick your playground!  choose your playground today The Insider from Travelocity.com', \"please review the current version of the tw's firm capacity procedures that are attached.  tw firm capacity procedures  tw's firm capacity procedures TW's Firm Capacity Procedures\", 'travel confirmation/equipment needs. (please call or reply soon)  need help with equipment needs  finalizing trip details Meeting in L.A.', 'revised version of the option agreement with changes  revised option agreement - possible issue?  updated option agreement Option', \"discovered more re: viviana  viviana's concern  action plan for viviana. Viviana Florio\", '2 small deals missing  purchases and sales excel  imbalance with deals 480324 and 480325 The New Power -Purchase/Sales October Production', 'info from orbitz for your san antonio trip on dec 21  itinerary and other information  your journey to san antonio Preparing for your departure', 'evaluation forms & instructions  evaluation forms for your direct reports.  final evaluation forms Supervisor Evaluation Forms', 'oge letter due by the 1st!  termination of oge purchase agreement for your review & signature  urgent: signature needed for oge OGE Purchase Agreement Termination', 'my notes/review of transaction, please look over  review of our current standing  review of current transaction with ge Delta status', \"edison/brattle alternate view  ken lay's gas talk tomorrow  the california inquisition Some Background on California Gas Price Spikes--The Other Side of  the Story\", 'alert - red flag fire warning  fire forecast warning - riverside unit  fire watch for california!!! [EDIS]  FIRE WEATHER BULLETIN [News: Statewide]', 'upcoming breakfast club meetings  breakfast club final meeting rsvp by oct. 29  invite to final breakfast club meeting Final Program Update Meeting - Tuesday, October 30', \"here's the latest re: coned's complaint against public service electric and gas  complaint - consolidated edison company of new york, inc.  complaint filed Con Edison vs. PSEG (EL02-23-000)\", 'credit for master between ectric and counterparty  ectric agreement  counterparty for crude products training Anadarko Petroleum Corporation', 'account creation for development document authority  your signature authority setup  information needed for signature authority Signature authority', 'resolution 49 regulatory issues that changed some of the risks under the ppa.  status of pending suits  updates on cuiaba furnas, gt11/12, and annex v Brazil Update', 'assistance for evaluation of non-exempt employees  assistance with evaluating non-exempt employees  non-exempt evaluation document Non-Exempt Scorecard', 'current mac clauses attached  current forms of mac clauses  mac clauses - current forms MAC Clauses', 'confidential attorney client communication  questions about the ca extension  review three options and get back asap Extensions of CA Deals', 'next all-employee  all-employee meeting on october 23rd  all employee meeting on oct 23 at 10:00 am All-employee meeting', 'description for new product  urgent -- new product description required  urgent! product description New Product Description', 'regarding information  making arrangements for enron field tour  contact info to display boat Contact at Enron Field', 'family law seminar for june is cancelled  family law seminar status  houston family law seminar 7/22 - canceled! HVLP Seminar canceled', 'a reminder to return benefits/plan documents  documents for benefits/plan issues  relevant benefits/plan issues for pat Data Room Information - Toucan', 'recommendation for compensation regarding contributions  increase in compensation proposals  changes in compensation Proposed Payment Changes from Dave Forster for EOL', 'enron-schedule and credit annex paragraph 13  schedule and credit annex review  schedule and credit annex, as promised proposed ISDA', 'per our conversation, attaching duke conform  duke trader confirmation  copy of the duke confirm EOL Duke Deal - commercial resolution', 'price changes in the spreadsheet  sitara - price changes needed  spreadsheet enclosed Sitara price changes for March 2000, Sept - Dec 2001 for State of  Florida', \"need your comments on debra garcia  can you please rate debra garcia's performance?  return comments as soon as possible for debra garcia Comment needed:  Debra Garcia (111901) Rozycki\", 'ees stance update  business as usual  maintaining ees business as usual status for now... Numbers', \"re: transwestern's gallup expansion, please note this section 7(c) certificate from ferc  commissions order for transwestern gallup expansion  section 7(c) certificate issued for transwestern's gallup expansion Gallup update\", 'thanks for your assistance  waiting on meter number  meter number requested Cranberry Map Just for You', 'ena changes  enron north america corp. confidentiality agreement changes  revised agreement review Rio Bravo Pipeline Confidentiality Agreement', 'update on closing date  contact information during our move  updated new house timeline Update on Kristi and Greg', 'just checking up  katie, is this you?  long lost katie! Hello!', 'comments and changes on first draft  first draft  first draft for your review economist', 'draft protocol copy  draft protocol needed  draft protocoal Proposed protocol for liquidating trading book', 'please review attachment draft of a master firm purchase/sale agreement  master firm purchase/sale agreement draft  draft: master firm purchase/sale agreement Master Firm Purchase Sale Agreement', 'attached: the bill we discussed  bill that we discussed  submitting the bill we discussed Bills', 'att: revised agency agreement  revised agency agreement  revised agency agreement, please review. Revised Agency Agreement', 'enron broadband notification  enron broadband notification memos for august 15, 2001  instructions for the enron broadband notification memos. 8/15 BU BROADBAND NOTIFICATIONS', 'credit status varification  credit approval of sabic americas  sabic americas status Sabic Americas', 'setting up new location  please set up new location for nipsco/ngpl  please set up a new location for nipsco/ngpl NGPL Nipsco', 'hr and security announcements  benefits, payroll, and access card information  important hr updates + faqs Access Card Information', 'the simulation  feb. 7 simulation procedure  simulation information Online Trading Simulation Feb 7th', 'please find attachment regarding southeastern rto proceedings  rehearing requests  summary of requests for rehearing, southeastern rto proceedings. Southeast RTOs:  requests for rehearing', 'petrostrategies newsletter is now available  petro stategies ink fall 2001 newsletter- now complete!  petrostrategies, inc fall 2001 newsletter / pdf - comments appreciated PetroStrategies Fall 2001 Newsletter', 'latest marketing list  latest copy of the marketing list  updated marketing list Latest Marketing List', \"attached are two filings made at ferc on monday on behalf of wptf  two filings made at ferc  two filings made at ferc Monday's FERC Filings\", 'meeting tues am  travel meetings  tuesday meeting in sacramento Meeting with DWR', 'provide feedback on following for doc  information on language offered  decisions of cities MDEA', 'memo attached  i will be available tomorrow  happy new year - steves memo details attached ICA memo', 'hello crystal  update on the family and me  doing well in houston Hi Dave!', 'the moral of the story  stories from fifth graders  results of fifth grade assignment Every day needs a little dose of levity...', 'where can we watch the ou game?  texas exes in london  locaton of the texas exes game in london One more thing', \"consumers energy deal summary  deal summary for consumer's energy (parts 1 & 2)  consumers energy deal summary Consumers Deal\", \"our last day  join us at teala's on thursday, november 29th at 5pm!  getting together on our final day Farewell Drinks\", 'your success at enron  congratulations on your promotion!  congratulations on your success Belated congrates to a classmate', 'reschedule details  need to reschedule  reschedule for 2:00 pm for meeting with houston Meeting on Tuesday, November 30', 'on 4/16-17, windows 2000 migration kicks off with physical hardware scan  windows 2000 migration process  widows 2000 migration Win2000 Deployment', \"emis latest report  emis release report  update: the southern california (nox) reclaim market PIRA's Latest Emissions Market Intelligence Analysis\", 'click at home portal is ready!  clickathome portal version 2.0  new clickathome portal available ClickAtHome Portal is HERE!', \"thanks for standing up for me...  ripped apart  thanks for your help [smu-betas] Dent's wrath\", 'deal numbers for interdesk swaps stca/stwbom  please review these interdesk swap deal numbers for stca/stwbom  deal numbers for interdesk swaps Interdesk swaps - 4/23 and 4/24', 'changed plants around for clarity, out for short time to buy pumpkin  i changed the plant stuff around  check the facility CRRA document', 'a quick note of support  your employees offer you their support and encouragement  thank you, ken Going Forward', 'the eol datamanager  review and approval of product types in the eol datamanager  eol datamanager - product types approval needed Please approve - US Recycled DLK Phy', 'completion of east desk pipes  completiong of east desk pipes  east desk pipes A light at the end of the tunnel?', 'collection envelopes for tomorrow  requested materials for prize summary  things needed for tomorrow. American Heart Walk', 'sorry to hear your leaving  sad goodbye  enjoyed learning from your leadership Your leaving', 'counterparty girotondo corp asap  girotondo corp deal changes  counterparty girotondo corp  changes C/P Name Changes on old Deals', 'conversation  total discussion after lunch  ena observations per your message Total', '***important*** mandatory meeting today at 2:00 pm - cash forecasting requirements  mandatory meeting 2:00pm in eb2021  mandatory meeting today at 2:00 pm Cash Forecasting', 'paycheck adjustment explanation/locker clean out reminder  body shop closure  body shop closure details Attention Body Shop Members -- UPDATE on Body Shop Closure', 'please review amendment forms  b of a and williams amendments to review  williams and bank of american amendment from CommodityLogic Amendments', 'enron to cut one-fifth of jobs at broadband unit  reuters-enron job cuts  job cuts and possible redeployment for those cut Enron to cut one-fifth of jobs at broadband unit.', 'updated information for pro forma model anngtc  review pro forma model for anngtc  please review alaska pipeline model ANNGTC Model', 'electronic trading agreements  your thoughts needed on several items  electronic trading agreements Authorized trader list/electronic notices', 'book the following  accrual origination book information  accrual origination booking request Citizens/PPL Griffith accrual income', \"bank of america's generous contributions  great lunch with tom clausen  lunch with bank of america's tom clausen Email message from Dean\", '3/16 meeting with california fish and game topics  california fish and game commission meeting schedule  update: permissions for rogas pipeline project weekly environmental activity report-Roswell Area', 'media reports of france ongoing explosions  explosions at chemical plants in france  news of explosions at chemical plants in france **** Unconfirmed Explosions at French Chemical Plants', 'turkey update  greetings!  hello sukran and mark Welome Back to Turkey', 'completion bonus  honoring completion bonuses 200k  completion bonus - skilling/bibi project Enron Center South project Bonuses', 'fpl trade assignment  fpl trade assignment  fpl trade assignment - needs follow-up Assignment of FPL Trades', 'important organizational changes  changes coming in the natural gas organization  changes in enron organizational structure Natural Gas Origination', 'project green light  executive summary for project green light  project green light executive summary for your review Exec. Summary for Project Green Light', 'new company info in unify  unify update so far  new company status update Heartland Steel Reconciliation', 'cal vs washington state tickets!  cal will take on washington state  invite to upcoming event (cal vs. washington state) Cal Basketball Game - Jan. 19th', 'new user notes with revisions  attaching new user notes for your review  revised safety net provision New User Note Item and Form Change', 'experiencing laptop connectivity issues? call it  problems for laptop users  laptop users please read ! ***MESSAGE FOR LAPTOP USERS ONLY***', 'benefits payroll q&a and new office access card  update on human resource changes  human resources and communications status Access Card Information', 'completing your order  need your shirt size!  order forms finalization SHIRT SIZES', 'meeting memo  luncheon meeting  meeting going over some of the deals Finance meeting on structured deals', 'kudos on super saturday  congrats for being a super saturday candidate!  super saturday candidates Congratulations', 'calpine energy services credit  need approval re: calpine merger  calpine power services company merger Calpine Power Services/Calpine Energy Services', 'carr futures adobe acrobat reader disclaimer  abode terms and conditions  2001 carr futures chart available commitment of traders 5/21', 'analysis spreadsheet attached  enron europe for 2000 and 2001  trading vs origination analysis for enron europe - 2000-20001 trading v origination analysis', 'flight and hotel deals for enron employees  exiting and arrival time  nyc itinerary and london info... trips', 'changes to organization  fred, laura and frank in their new roles  organization changes Natural Gas Origination', 'reorganization  changes to the producer/wellhead group  changes to groups Natural Gas Origination', 'difficult approval for tag #23876  enron tag #23876  enron tag #23876 10 MW schedule Heavy Load for the June 2nd at Mead', \"next generation of beta theta pi  beta theta pi bid acceptance  my youngest is pledging beta theta pi! [smu-betas] Third time's the charm they say\", '2001 united way campaign  please complete your pledge  united way contribution United Way 2000 Contribution Reminder', 'posrep hoegh galleon may 12th data  postion/ eta update  route information for the next port Posrep 12 May', 'e&p model review update request  reviewing e&p company model  e&p company model review E&P company model', 'we should pursue this business!  we need to pursue the business  in response to your request to move forward with project - please read Commodity / Embedded Finance Deals', 'credit watch listing  revised credit watch listing  revised credit watch listing Credit Watch List--Week of 10/22/01', 'reminder: no new purchases or service agreements related to virginia power deal  no enron purchases for virginia power deal  cost policy reminder VEPCO', 'update on q3 issues  update from john nowlan  q3 update crude and products trading update', 'demand charge for equitrans  changes to equitrans and sitara worksheets  demand charge altered (equitrans k#270) Equitrans', \"executive summary report  executive summary:  ca assembly's passage of sb 78xx  socal edison bankruptcy filling and state senate California Update 9-14-2001\", \"diane's going-away party (thursday the 27th)  farewell to a fellow comrade  say goodbye to diane A Little Whingding for Our Departing Director\", \"changes to website and url name coming  northern border pipeline's customer services and gas control departments  update on northern border pineline Borderline\", 'here is set of ca revised docs, please review  ca i revised docs  revised ca documents CA Development - revised documents', 'eeos / nepco weekly project  eeos/nepco weekly update  eeox / nepco weekly project update EEOS / NEPCO Weekly Project Update...   W/E October 12, 2001', 'patti will contact you.  resource team meetings  monday core resource team meetings Weekly Focus on Commercialization of Services', 'insurance risk requirements  waiver general liability and excess umbrella liability  insurance requirement concerns Sofregaz Contract', 'available to moderate a panel at retreat?  moderating panel for me at cesg annual retreat?  requests for moderation of a panel CESG Annual Retreat', 'property tax information  2001 2002 property tax information for budget  property tax process Budget: 2001-2002', 'data room documents and scheduling  document availability and scheduling  data room document availability Data Room Information', 'edi confirmation process  edi confirmation process and timeline  please review edi confirmation (file attached) EDI Confirmations Between Transwestern and El Paso', 'to speak at the global operations controller forum.  just wanted to say thank you!  global operations controller forum speaking opportunity Speaking Engagement - October 23, 2000', \"decision on enron company holiday party  regarding our holiday party  decision made on enron's holiday celebration - please read ! Holiday Party - Canceled\", 'calculation agent question  calculation agent  calculation agent role Calculation Agency Agreement', 'termination agreement  assignement and termination agreement  assignment and termination agreement JP Morgan Agreement', 'outage coordination meeting today 03/12/02  outage coordination commercial review meeting  outage coordination commercial review meeting today Outage Coordination Commercial Review Meeting (NNG)', 'updated contact info & happy thanksgiving!  happy thanksgiving  happy holidays and an update on our lives New Address, New Phone Number, New Orleans...', 'important upcoming meetings.  meeting schedule updates  meeting information: tuesday 10 am, 3 pm hedge fund meeting', 'gads data and/or equivalent gads data  gads data versus equivalent gads data submissions  separation of data files GADS Data and Equivalent GADS Data Reporting', 'bme/rt pricing issues  re:  assessment of bme/rt pricing issues  your suggestion approved, but not all info will be ready for next meeting S&P Mtg re: BME/RT Issues', 'learn from the biggest and best  opportunity in enron  remaining opportunity in enron I See Opportunity', 'changes impacting p&l  1 big change  change of volume on deal 549411 New Power Volume changes', 'business critical applications  temporary outage of r: drive on friday  system maintenance downtime Outage for Applications residing on the R:\\\\ Drive', 'att: re: move date  move date finalized - please read  important: moving details and dates Move Date', 'cqg saved layout notice  new version of cqg  new version of cqg You may lose your layouts for CQG....', 'goals for dynegy meeting  into product meeting with dynegy  dynegy meeting - \"into product\" Meeting at Dynegy office on Sept 12th, 2:30 to 5:30', \"have you sent this information yet?  enron europe 2001 goal & objectives needed for greg-urgent  enron europe's 2001 goals & objectives 2001 Goals & Objectives\", 'equity trading into european markets  our equity trading expansion into european markets...  broker agreement with metzler capital markets Metzler Capital Markets - Executing broker agreement', 'notification of our cancellation  market cancellation pasadena  authorized market cancellation authorized marketer cancellation', \"el paso proposal  receipt point capacity proposal filed  el paso's reallocation proposal for receipt point capacity has been filed El Paso's Proposal to Address the Allocation of Receipt Point  Capacity\", 'paperwork from fund on behalf of zachary  was fund paperwork sent to you per zachary?  paperwork on behalf of zachary MUNDER FUNDS DAILY PRICE (NAV) CLOSINGS', 'successfully changed shipping method  good news, we were able to change your shipping method, per your request  order chamge confirmed 1967119/Shipping/Change of Method', 'guidelines for text files  guidelines for text files loaded into grms  text file guidelines Spreadsheet Format', \"compaq's analyst reports  important file, please read  read the following that tracks copmpaq's performance Financial Analysts' Reports for 6.05.01\", 'new pub code issued, plus advise re: portland west desk deal  reminder: new code to enpower  new pub code New Pub Code', 'enron management committee  enron management committee  formation of new enron management committee Formation of Enron Management Committee', 'important information from group it  strong need for old and new co issue resolution  tuesday/thursday unit meetings to address the enclosed action items. Summary of Meeting / Follow-Up Points', 'my resignation from enron  resignation  stepping down from enrons chairman of the board and ceo Message from Ken Lay', 'please sign!  signatures needed today  urgent--guaranty and certificate need signatures RUSH GUARANTY', 'aga numbers? need more information  aga number and fundamentals message board thoughts  aga number Yo', 'all physical positions need to be loaded in ncd for term  loading physical positions in ncd  ncd physical positions Physical positions in NCD', 'argentina model preliminary comments - review and advise request  preliminary comments on the argentina model  argentina comments and suggested upgrades ModReg for Argentina', 'recruiting process problems  issues with recruiting  recruiting & salary inquiries Recruiting issues', 'call me for annex a  request for contact regarding the annex a mail out.  please call regarding annex a mail-out Annex A Letter', 'our wednesday lunch  are you free for lunch at 11:30?  lunch - wednesday, october 17, 2001 11:30 am Canceled: Lunch ...', 'details of resuming on-campus mail distribution  update on mail distribution  updated on campus mail distrubution Campus Mail Advisory:  On-Campus Mail Distribution RESUMES (11/14 \\t/01)', \"any last minute wording on intro or as a page footer on docs for tomorrow's event?  question about warn notifications binders  warn notifications will occur Wording\", 'gas daily questions / disaster plans inquiry  attachment regarding gas daily & disaster preparedness  eol disaster preparedness plan Questions about emergency plans', 'columbia gas operating area  columbia gas transmission corporation-notice re. secondary point priority allocation  secondary point priority allocation REVISED - TCO SECONDARY POINT PRIORITY ALLOCATION', 'delivery status update  delivery status notification  delivery status notification Delivery Status Notification (Relay)', 'biography of dr. walter hershel burgess  biographical details about walter burgess for the newsletter  biographical information about dr. burgess Dr. Burgess', 'pcb meeting minutes  status of cleanup activities  the pcb annual document logs weekly activity report- Roswell Area', 'meeting date, time location  february 06, 2002 event  when and where Updated: Logistics Overview', 'please read this important information concerning the enron stock fund in the enron corp. savings and esop plans  important info re: your enron investments including 401k  effects from enron stock suspension IMPORTANT MESSAGE TO ALL EMPLOYEES PARTICIPATING IN THE ENRON CORP  SAVINGS & ESOP PLANS', 'arbitration provision reference changes  references for arbitration provision  arbitration provision changes Arbitration Language', 'att: summary for june purchases  june purchase summary  summary of june purchases confirmation at bottom in green June Purchase Information - Powder River Producers', 'important: enron stock fund, review your investment elections  the enron stock fund in the enron corp. savings and esop plans  important: enron stock fund status information IMPORTANT MESSAGE TO ALL EMPLOYEES PARTICIPATING IN THE ENRON CORP  SAVINGS & ESOP PLANS', 'hunting trip  hunting trip plans  hunting trip invitation cave man activity', 'cnn type theme issues?  minor comments- promotions  some thoughts subsequent to sme meeting RM Simulation Storyline Scripts - Ready for Legal Review', 'sulfur river facts  energy spectrum investment  stray facts i mentioned Sulfur River', 'business response letter  feedback coal market changes  comments and feedback coal follow-up', 'regarding your office lease interest  following up on our discussion re: office space  office space lease information Office Space Consolidation', 'invite to managers program  invitation to managers level impact and influence program  invitation to leadership program Managers Training', 'dinner next week  sorry, need to reschedule october 25th dinner  cancelling dinner in austin on oct 25 Dinner with UT Students', 'contract completion  contracts status  contracts that are close to completion GISB status', 'report reviews needed  outstanding reports due  need approval of reports Expense Reports Awaiting Your Approval', 'memorial park picnic saturday  memorial park picnic on saturday  picnic invite Saturday B-day Dinner', \"non-disclosure agreement per bob shults  proposed nda agreement  per bob shults, here's the non-disclosure agreement proposed form NDA - Prebon Energy, Inc.\", 'carlton deliveries not allowed  delivery monitoring  nng calls on the carlton resolution Carlton Resolution - PLEASE READ!!!!', 'enron stock now otc equity security  update on stock  details of enrons suspension from nyse. New Stock Symbol', 'ces cove point paperwork  ces-cove point paperwork status update needed  ces cove point storage contracts Cove Point - Jan Pre-payment', 'trading track interview thursday nov. 1 @ 2pm  interviews for trading track  interview for trading track 11/1 Reminder:Interivews Thursday Trading Track', 'happy thanksgiving  happy thanksgiving  happy turkey day Happy Thanksgiving', 'progress update on numbers  internal numbers in attachment fyi  internal numbers EBS - Quarter 1 Trading Highlights', 'immediate ban for public access of maps for energy facilities.  less public access to pipe & transmission maps  reduction of information available on federal web sites FERC Limits Access to Pipeline Maps', \"going away party  going away party  going away party availability RESPONSE REQUESTED: Dale's going away party, 2.22.02\", \"agency inspection of c/s's 7 mountainair and 8 corona  air quality/fuel monitoring/emissions reports;  enron/rocky mountain elk foundation meeting scheduled  results of aqb inspection, plus details of aug. meeting with vp of dev in albuq. Weekly Environmental Activity Report\", 'details and instructions for 11/16/2001 move - urgent do not ignore!  friday (11/16/01) move  deadline for packing is friday at 3:00 Moving Friday 11/16/01', 'instructions regarding outstanding forms  new location, update forms please  outstanding forms due Final Benefits Memo', 'review changes in mock  tomorrow mock test plan changes  location change-mock test PLEASE REVIEW - location/ time in MOCK test tomorrow', 'no excess injections this week  no excess injections  recap of last night Capacity for the 17th', 'cheating  reminder of the rules  so you guys are cheating to win? IR Moves', 'confirlation letter, need fax  need your ok on this confirm  confirmation attached Wellstar', 'amu master of arts program  amu and congratulations on your provisional acceptance into the master of arts program! register and pay for classes  welcometo amu! Graduate General Information', 'review progress on items agreed.  summary of weekly meetings held for progress review  recap of monday morning standing meeting Recap of 4/23 Meeting on Commercialization', 'your phone number and estreet opportunity.  estreet or steve scott ring any bells?  possible e-opportunities in europe German VC', 'king & spalding power transaction deal team info  see attached for king & spalding power transaction deal team  new king & spalding deal team K&S Team', 'homebuyer assistance  questions about housing  assistance in your house search recieved your inquirey....', 'notes on contract up thru exhibit \"t\"  edits made to the contract  contract revisions Words to go with the other 2 emails regarding Austin', 'evaluation internet trading agreements  anything special i should know re: \"internet trading platform\" agreements?  special considerations regarding internet trading agreements Intelligent Markets / Buy Side Direct', 'editorial in the wall street journal  great wall street journal editorial  wall street journal editorial What Enron Did Right', 'issues with ehronline  ehronline - log in issues  ehronline access trouble Time Management', 'my apologies re: my poor attachment skills :)  action list for tomorrow?  tomorrow Argentina recap phone call tomorrow', 'march of dimes raffle results  thank you to march of dimes participants  march of dimes fund raiser March of Dimes Raffle Update', \"may's recruitment day  recruitment day  recruitment day schedule Recruitment - Trading Track\", 'suggestion for bid  making a coned bid re: pgm east peaking capacity?  bidding for coned ConEd - Lakewood Peaker', 'tw commercial info  info needed for tw commercial  information requested Tw CE and 2002 Plan', 'change of due dates  original comments deadline of 12/4 on target for implementation of regulatory components  sce advice letter 1586-e Edison Advice Letter 1586', 'altra settlement  settlement fyi  information on altra GIR: FELLOW SIGNATORIES TO THE COMPREHENSIVE SETTLEMENT - ALTRA', 'permitting delays  redrock air permit  redrock air permit issue further explained Response to Redrock Air Permit Delay', 'fbi increasing security at suspension bridges  possible terrorist attacks on bridges  terrorists possibly targeting west coast suspension bridges Security Bulletin', 'q&a prepreations on human resources & communications  human resources and communications updates  new benefits plan information Access Card Information', 'reference for interview  using name as reference  possible business reference Reference', 'operation hope  operation objective  an evening of hope and healing Invitaton: An Evening of Hope and Healing', 'contact me for discussion soon  structure/deal discussion  all technical issues workable enrononline', 'summary of data recently received  recent physical and financial data  monthly data included ENA & EES Positions', 'addition to email distribution  addition to email distribution  please add bruce wright to distribution list Updated Contact List', 'info from meeting with debbie brackett  game plan for koch hydrocarbon company divisions  koch hydrocarbon company divisions game plan Koch Industries, Inc./Koch Hydrocarbon Company Division', \"the hottest trends in music, movies and more.  headgear changes boosted soliders morale  army's birthday celebration! celebrating the Army's birthday\", \"preliminary conclusions  recap of today's meeting  document summary/additional information request Wright follow-up\", 'enron corp. savings plan move  enron corp. savings plan move  important transition information for enron corp. savings plan participants IMPORTANT-To All Domestic Employees who Participate in the Enron  Corp Savings Plan', 'expanded availability of the financial times (ft)  new availability for financial times  new: expanded availability of the financial times from factiva Good news about the Financial Times and Dow Jones Interactive', 'attached draft of a master firm purchase/sale agreement  enron/energen master sale agreement  enron/energen sale agreement for your review Master Gas Agreement', \"per today's meeting, attaching new copy of el paso capacity sheets  el paso capacity sheets  fill in capacity sheets Presentation1.ppt\", 'eol id permissions  eol id access update  addition eol id ability TP3', 'counterparty deleted from credit list  counterparty delection from legal/credit list...  counterparty deleted from legal/credit list OK Tedi Mining Limited', 'please fax or email confirmations to peter keohane  confirmations for peter keohane asap  confirmations needed asap URGENT: Paribas (fka \"Banque Paribas\")', 'follow-up to your comments about montrose  neighborhood layout response  response to comments from december 26 *EMCA* The inner city grid', 'new asset marketing group  asset marketing creation and responsibilities  new group - asset marketing Asset Marketing', 'power plant update  response to george briden  response to power plant problems Wikieup', 'scheduled outlook migration instructions  outlook migration information & instructions  this outlook migration info is time-sensitive and critical 3 - URGENT - TO PREVENT LOSS OF INFORMATION', 'free lexis-nexis online training using placeware  learning lexis-nexis to optimize how you do business  reserve your seat for lexis-nexis due diligence clinic Lexis-Nexis Training: Houston & Worldwide / Dow Jones Training', 'west desk windows 2000 app list  windows 2000 west desk applications  windows 2000 west desk applications windows 2000', 'master firm and gisb forms  master firm and gisb forms  master form & gisb documents enovate Forms', 'trades with bt  bt trades: who is confirming party?  question re: trades with bt Deutsche bank', 'pwr-gas-lt-mgmt-prc book  pwr-gas-lt-mgmt-prc book  pwr-gas-lt-mgmt-prc book PWR-GAS-LT-MGMT-PRC', \"money market list  money market list  yesterday's money market list Money market rates for 01/07/02\", 'short recap attachment  short recap  short recap. schedule to discuss Rehypothecation of securities', 'emissions facility compliance cert report - deadline approaching  need to meet - emissions facility compliance report  questions re facility compliance certification report FACILITY COMPLIANCE CERTIFICATION REPORT FOR STA. 5', 'comments on the latest swap docs  input for swap docs  comments for swap docs. Comments to Swap Docs', 'astros game reminder  reminder regarding astros game  reminder: astros game Astros game', 'enron industrial markets metal bulletin  business highlights re enron industrial markets metal bulletin  enron business highlights EnTouch Newsletter', 'subpoenas team cooperation  documents for subpoenas  subpoenas from congress, sec & department of justice Subpoena Response Team', 'business contacts needed for haas campus events  connect with haas  the career center needs your recruiting contacts Got leads?', 'latest deal pipeline  read access  latest deal pipeline report-confidential Deal Pipeline sent 251001', 'aging averages  initial spring ar aging report attached without reserve info; summary include  spring and a recent ar aging EES AR aging', 'important updates for the rescheduling of the mandatory annual compliance meeting  rescheduled annual compliance meeting details  rescheduled meeting Annual Compliance Meeting', 'enron program suspensions  immediate suspension of selected programs  enron: programs suspensions Program Changes', 'lake tahoe ski trip interest/info  possible lake tahoe ski trip  ski weekend roll call for skiing', 'position and directions to next port  posrep hoegh galleon april 24th data  route information for next port DAILY POS. REPORT', 'catching up with you!  how are you  update on work, my life, wedding plans HELLO!', 'copy of the partnership agreement asap  need copy of partnership agreement asap  rofr/shotgun bidding process Bridgeline ROFR', 'case #020131-4476  check request processed  your check request has been processed Check Request Confirmation', \"no regrets at coming to work here  a note from new enron employee  thank you and i am sorry for what has happened All that's happening\", \"defensive driving  defensive driving  plans tonight? I'm Safe Now\", '2001 carr futures charts  carr futures charts availability  2001 carr futures charts AGA report 1/30', 'follow up from meeting on november 15th  questions for crack spread, btu and spark spread  further discussion of questions for swaps topics Reminder: Risk Management Simulation Questions', 'need items for account coordination  need help getting items for cf first boston  needed (2) letter of beneficiary ownership and is eipic a regulated uk company Enron Investments plc (\"EIplc\") - new brokerage account', 'houston pipeline group dilemmas  problems with hpl group  need help with the houston pipeline group Pipeline problem', 'termination letter  question re: kase and company termination letter  termination letter from kase and company Kase & Company  termination', 'documents for sylvia dooley  email to sylvia dooley  email this doc to sylvia dooley con ed guaranty', 'congratulation on the new role  congratulations on role of chairman and ceo of ena.  congratulations on the chairman and ceo appointment ENA Role', 'ok needed to put tag in enpower  tag (# 28010)  enpower tag NPC(T)', 'conference call requested on status of nm aqb compliance order, permits issue  meeting re: transwestern compliance order  turbine replacement Compliance Order, P-1 C/S', 'need comments on draft of the esa document  requesting comments for esa document  comments needed on esa document ESA equipment sale', 'national bar association convention sponsorship update  sponsorship information: national bar assoc. convention  follow up regarding uppcoming convention National Bar Association sponsorship', \"contributions designation letter  contributions for texas use  a template from mr. delay Jeff Skillings' letter from Tom DeLay re: RNSEC\", 'master netting agreement parties  master netting agreements counterparties  need the counterparties for our list. Counterparty Information', 'cem panel - rough draft  feedback on my talking points for panel at cem conference  request for comment on talking points draft DRAFT Talking Points for California Energy Markets Conference on  11.02.00', 'enron corp savings plan  enron corp. savings plan message  enron corp. savings plan IMPORTANT-To All Domestic Employees who Participate in the Enron  Corp Savings Plan', 'overdue update from your child!  hi mom, just checking in...  sorry i missed you! ears', 'attached spreadsheet - cell h49 of formb  issues with transaction numbers  trade type distribution duplicates EY Request2', \"lexis-nexis training info  esource presents lexis-nexis training basic (live or online) limited spots available!  lexis-nexis training opportunities you won't want to miss! Lexis-Nexis Training: Houston & Worldwide / Dow Jones Training\", 'ubsw energy environment migration  enron questions  quick tips and reminders Quick Tips for the UBSWE migration', 'my resignation from enron  notice of my resignation from enron.  resignation My Resignation, and a Question', 'has/was more than one petition been filed before the bankruptcy court for severance or financial relief?  petition for financial relief for terminated employees  information on court petitions needed 3rd Request', 'clarification on copying documents, details attached, contact info included if needed  cheat sheet for moving data to new h drive  instructions for copying documents YOU HAVE 48 HOURS - Message from Louise Kitchen', 'gisb with tenn. gas status  implementing gisb with tenn gas final execution  re: gisb with tenn. gas Tennessee Gas Pipeling GISB', 'storage questions  storage questions  storage questions Storage Questions', 'enron equity deal  qn2026.1, qn2004.1, & qn 5772.1 info  deal details Hess Annuity', 'ubswe environment migration postponted  migration to ubswe delayed  employees migration plan DRAFT:  INFORMATION, Please Read: UBSWE Migration postponed', \"moving forward after ken lay's resignation  enron's management structure and what lies ahead  enron's management  changes Management Changes\", 'updates coming for corporate changes  recent company news  pertinent market speculation info Daily Update', \"2001 nomination deadline accepted  deadline extended for further submissions  nominations for the 2001 chairman's award 2001 Chairman's Award Deadline Extension\", 'please provide employee guidance on current company struggles  suggestion on equity  sugestion for improvement in current situation Just a suggestion', 'second request for input re: 2001 isda master agreement protocol  master agreement protocol proceedings  responses to my isda master agreement protocol email SDR - 2001 ISDA Master Agreement Protocol', 'catching up  checking in and info about frank  updates and follow up Good Morning  :)', 'some notes for the launch of \"netcoonline\"  time table info  netco online is almost here NetcoOnline Launch Plans', 'trading results  congrats to 100 billion!  congratulations on a lot of zeros! Congrats!', \"selling bayou ii kayak by dagger  2 person bayou ii kayak for sale  bayou ii kayak for sale Look what's for sale\", 'mid-year promotions  mid-year promotions  mid-year promotion announcement Mid-Year Promotions in Portland', 'update on work  anr citygate deliveries  regarding eog volumes CNG January 2000 deliveries', 'clarification on space from 11/1/99-4/30/01  retail/wholesale?  leach retail or wholesale? Questions', 'revised agreements  revised agreements  collection facilities agreement Revised documents', 'contact information for next week  how to reach me before monday  contact info Hotel Info', \"how can i help?  heartbroken on company situation  call on me, i'll be there How can I help?\", 'issues regarding contracts  isses to address after discussion with mike sandridge  3 more issues ABB', 'eta, repair work  algeciras roads update  algeciras repair update LNG/C \"HOEGH GALLEON\" - REPAIRS OFF ALGECIRAS', 'directions for using the uv high voltage traps  usage of ultraviolet high voltage traps  how to use ultraviolet voltage traps *EMCA* Mosquitoes', 'euros negotiation schedule changes  schedule and tasks to be completed today per the euros negotiations  the schedule outline The Euros', 'documents forwarded  forwarding important documents  tax reps Project Ghost', 'termination agreement received  termination agreement  at long last, the koch trades termination agreement Koch Energy Trading, Inc.', \"what's up?  general check in / need email address  dave hermans e-mail needed (sem assunto)\", 'need invoices for demand charge sheet  current mailing address needed  invoices for jan. Invoices.', 'houston pipe line company contract revision needs signatures  modified contract for you  contract modifications JER / BRE Austin Tech, L.P.', 'master firm purchase/sale agreement  waiting on your agreement comments  thank you for the master firm info Master Agreement', 'dynegy over northern natural gas  enron settled a procedural dispute with dynegy over northern natural gas.  settlement with dynergy reached Northern Natural Gas', 'surprise birthday party for chris hilgert  surprise for chris hilgert friday  surprise for chris hilgert friday october 5th Surprise for Chris Hilgert', 'your order has been shipped  shipping confirmaiton  your order has shipped INTERNET ORDER: Sierra Trading Post Order E703207', 'instructions for the meeting on the 17th  i need meeting on 17th added to my calendar  calendar meeting for 17th Net Works Floor Meetings - DATES AND LOCATIONS HAVE CHANGED PLEASE  READ', 'east desk meeting tomorrow  cannot attend thursday meeting  unable to attend Meeting on Thurs', 'new schedule for argentina and brazil trip  brazil and argentina trip rescheduled  revised travel plans Brazil and Argentina: September 19 - 24', 'master firm gas p/s agreements  master firm gas p/s agreement; fax to follow  follow-up on dynegy canada agreement Master Firm Gas P/S Agreements', 'mscs agreement has been finalized  information on ena and ene needed  need to speak to the person handling the ena and ene Morgan Stanley Capital Services, Inc. (\"MSCS\")', 'choice program  change in deals and storage  changes to deals 268090 and 268093 CGAS Storage Change effective 9/7/2000', 'caledonia plant questions  questions regarding caledonia plant  questions about caledonia plant Question 2', \"skiing prices  who's coming on the ski trip? need to know asap  who's going skiing? Ski Trip 2002\", 'e-mail from outside of enron  quarantined e-mail:  attachment not allowed  unknown email denied by enron account An Inbound Message For You Has Been Quarantined', 'cp-ena trading will continue. here\\'s the plan...  current plan for financial trading  immediate plans for cp and ena Mirant Americas Energy Marketing. L.P.  (\"CP\")', 'instructions; changes in factor column  factor change completed  factor change completed next steps factor', 'reminder: front and center 10am  reminder to attend the enron employee meeting  reminder - enron employee meeting tomorrow Enron Employee Meeting, October 23, 2001 at 10:00 a.m.', 'deduction discontinuation reminder  enron deduction / health plan  payroll deduction for the enron fitness center Just a reminder', 'can you join me?  want to go to gadgets, gizmos with me?  enron in action -- interested? Lunch/ other', \"join us for operation hope discussion about september 11th  operation home information  enron's september 11 operation hope event invitation Invitaton: An Evening of Hope and Healing\", 'candidate consideration for commercial support vp  jeff huff as a candidate  jeff huff as candidate for commercial support vp Message from Mike McConnell and Jeff Shankman', 'lunch at yank sing? please rsvp  lunch next fri. noon @ yank sing?  yank sing at the rincon Dim Sum and Then Some. Next Friday...', 'egp fuels status inquiry  egp fuels status update  latest status on egp fuels Update of Responses', 'proposed slide change  question re: slide  slide issues Price Volatility Graph', 'availability update/reminder  contact information  my absence on monday, december 17 out of the office tomorrow', 'still on for saturday night?  confirm plans for sunday, ticket order  are we still on for saturday night? Montey', 'memo regarding the operations controller forum  need input and invite for operations controller forum  atendee list for operations controller forum Global Operation Controllers Forum', 'interview training for super saturday event  interview training 11/7/01 @ 2:00 pm  required attendence at interview training meeting Required Training', 'enron canada corp. resolution needs to be printed for peter  resolution for enron canada corp  document to print out for peter Resolution for Peter Keohane', 'ms150 pledges due asap.  please turn in ms150 pledges asap  outstanding ms150 pledges needed immediately Pledges, Pledges, Pledges', 'allegheny questions  questions regarding the gleason plant  gleason plant questions from allegheny ENRON -- Information requests resulting from Gleason site visit', 'results of bike commute challenge  bike commute challenge results  results of the bike commute challenge Bike Commute Challenge', 'decommissioning of all enron non-standard internet email address formats.  email address format changes  enron global technology Supported Internet Email Addresses', \"attaching final copy of my resume  final copy of my resume  please review:attached completed resume. Third time's a charm\", 'confirmation of puget sound purchase needed  puget/kingsgate gas dilemma  regarding purchase # 623949 Puget Sound', 'warning! infected email circulating  virus email -- be aware  virus in email URGENT! URGENT! VIRUS ALERT!', 'amendments to letter agreements/petro-canada form  amendments for letter agreements and petro canada  amendments for the letter agreements Amendment Letters', 'latest draft  latest draft and request for feedback  draft attached for input/corrections org announcement', 'an update  update on teams  updates on two points Follow Up Items', 'trying to reschedule 6/2 to 6/9  can we change meeting to june 9th?  schedule conflict on june 2 Party for Marie', \"reference check for donald  discussion with lisa mellencamp re: donald  lisa mellencamp's employee report Employment Opportunities/Job No. 103079/Sr. Legal Specialist\", 'contact info for new brokerage lawyer  lawyer for trading edge  new lawyer handling brokerage agreements Trading Edge', 'confirmed the cut  per irene isais in gas transportation services, the 5/30 gas day cut is confirmed  explanation for contract Cut on ANR to Peoples Gas Contract 104684', 'concerns  regarding your concerns  mr. sud update and clarification Mr. Sud', 'email writing  please rewrite  your last two emails How to get emails....', 'details for feb 3-feb 5 visit  my schedule  itenerary for the week, would like to meet visit', 'request for comments on technical bulletin #75, please respond.  technical bulletin # 75  technical bulletin #75 NYISO - Technical Bulletin # 75 - Procedure to apply for CLR / ELR  classification', 'lexis-nexis basic  lexis-nexis training november 6  lexis-nexis introductory e-mail Lexis-Nexis Training: Houston & Worldwide / Dow Jones Training', 'amendment to savings plan  enron savings plan changes  ammendment adoption: paychecks and savings plans PLEASE READ - IMPORTANT INFORMATION FOR PARTICIPANTS IN THE ENRON  SAVINGS PLAN', 'proposal agreement  non-disclosure agreement proposed form  proposed non-disclosure agreement NDA-webMethods, Inc.', \"john's recommendations  thoughts on recommendations and press  recommendations Dabhol\", 'benefits presentations: time and place  today there will be a benefits presentation  ubs benefits presentation today BENEFITS PRESENTATIONS TODAY - ROOM ECS06980', \"corp. policy committee meeting  information for corp. policy committee meeting  information for today's committee meeting BACKGROUND FOR TODAY'S MTG\", 'awaiting regional market policy release  follow up with mcgraw hill reporter  request for comments on regional market/policy Request for McGraw Hill', 'multiple trading books  multiple trading book problem  eol problem with multiple trading books EOL - Multiple Trading Books (URGENT)', 'new company payroll codes  upcoming coding changes and details  new company enng Message from Jim Saunders - Account Coding Changes for NNG', 'rice application recommendation  recommendation for rice application  rice application recommendation form Recommendation', 'reports awaiting your approval  please respond re: amex & cop oct 2001 reports they are ready  following reports have been waiting for approval for more than 4 days. Expense Reports Awaiting Your Approval', \"announcement that was sent to employees within enron europe  announcement for employees in enron europe  fernley dyson's announcement to enron europe employees Organisational Announcement.\", 'on the keyspan energy guaranty;  keyspan management  a couple of keyspan questions for you Keyspan', 'enron-dynergy merger  dynegy merge agreement  enron/dynegy merger agreement Enron/Dynegy Merger; Antitrust Issues', 'please look at redline, will be done soon with comments from others  new redline for you  redline for review ppa', \"investment grade ratings  regarding enron's long-term credit rating  credit line affect on credit rating and what this means to our customers Enron Update\", 'phone interview results requested  need results of your phone interviews to set up candidates  phone interviews results Phone Interview Results', 'meeting on wed.  subject meeting  subject meeting reminder ENA Gas Contract Review Status Update Meeting', 'global travel after 9/11  re: travel plans following sept 11  traveling after 911 Travel Security Update', 'lrsolutions can help!  lrsolutions info  lrsolutions legal services Adv: Reduce outside counsel fees, increase in-house expertise', 'contract transfer proposal  ecs llc- outline for transfer  transfer of assets and contracts Asset and K Transfer Steps', 'memo attachment enclosed  memo w/attachments  regroup memo Regrouping', 'project list  update on my programs  updates on files Status Memo', 'epi intergration complete read for further details  enron principal investments (epi) information  epi: new strategy finished Enron Principal Investments - Organizational Memo', 'agave i/c agreement  agave i/c agreement  agave i/c agreement Agave Interconnect Agreement', \"mailbox size limits exceeded  mailbox storage alert  mailbox at max space - delete or won't receive new emails Your mailbox is over its size limit\", 'next steps for utilicorp transfer  updates from utilicorp attorney  where things stand with utilicorp Utilicorp', 'november 6 lexis-nexis training  lexis-nexis training clinic - november 6  lexis-nexus training Lexis-Nexis Training: Houston & Worldwide / Dow Jones Training', 'development of an eol  idea for website:  real-time matrix  eol - gas price spreadsheet EOL Idea', 'printer relocation  printer needs to be moved  relocating the printer printer', 'teaser letter for bidders and revised information memorandum  update re: teaser letter and information memo revision  teasing the teaser Aura - Sales Process', 'pan energy calculations  september 2000 pan energy swap calculations  pan energy swap calculations PanEnergy swap', 'information request  the california issues  please advise : nominations / support of directors iso california', \"brokerage agreement  what's you timeframe for brokerage agreements memo?  availability of updated brokerage agreements and list Brokerage Agreements\", 'master netting agreements & payment netting agreements contents  table of contents for netting agreements  legal staff meeting assignment Netting Agreement Materials', 'attached: new details on the reorganization of the executive summary including limit and loss violations and clarified employee trading requirements.  important amendments made  substantive changes compare documents Almost Final - Risk Management Policy', 'upcoming north american holiday information  holiday ice system terms  terms on ice system for holiday season Holiday Terms for NEXT DAY Strip (N.A. Natural Gas)', 'how to pull positions into benchmark  new how to use grms instructions  benchmark instructions Benchmark Process', 'fia futures services division  optech 2002 is coming. are you?  register before march 15th  and save $55! Register for OpTech Early & Save', 'lim software upgraded, instructions inside if experiencing problems  lim software upgrade  instructions for changes in lim software LIM Software Upgrade Notice', 'clarification on copying documents, details attached, contact info included if needed  drive being removed tonight  procedure for copying documents from drives YOU HAVE 48 HOURS - Message from Louise Kitchen', 'received vm concerning change order  we need the change order reviewed  change order review needed immediately ABB', 'looking for sponsors for juvenile diabetes walk  possible donation for juvenile diabetes  juvenile diabetes walk sponsors Juvenile Diabetes Research Foundation', 'further info needed for the morgan stanley account  lacking executed docs to open morgan stanley account  morgan stanley account info Enron India LLC', 'action needed: prevent new virus from infecting your machine  update for virus protection software  urgent instructions for virus update Update to Virus Scanning Software', 'attached: professional services agreement  professional services agreement re: power engineers  services agreement for power engineers Power Engineers Services Agreement', 'cut on deal# 622350.1  cut info  cut on deal # 622350.1 WAPA cut on 6-2-01', \"canceling next week's appointment  appointment next week won't work  appointment cancellation and progress Feb 19 appt for Michael\", 'the desk - 9/21 issue is attached  9/21 issue of the desk (pdf)  pdf file containing information current issue', 're: 1099r form question  1099r form phone number  telephone number for 1099r form questions Number Requested', 'decision confirmation is needed  earnings upside  ucu credit deferral decision Utilicorp $1.2 million', 'invite to dinner in ny on monday night  thanks for signing  thanks for your help re: signing. dinner monday? WATERSHED FINANCING AMENDMENTS AND SYNDICATION - CLOSING', \"jason can't meet tomorrow, needs to do next week...  jason not available tomorrow  need to reschedule meeting for tomorrow meeting with Jason Peters\", 'la plata dra conference call  la plata dra conference call agenda  la plata dra conference call review La Plata DRA Conference Call - 9:00 CST, Friday, 8/31', 'soccer practice & game  soccer practice tonight?  soccer questions Soccer practice', 'progress in communcation  update on current deal  notes on what we accomplished during the meeting Consolidated Papers, Inc.', \"conference call instructions  today's noon call  info for today's call Portfolio file for distribution\", \"draft for rick's review  first draft of review  draft for rick's review Rick review\", 'looking to hear your thoughts on the company vision  need input on attached confidential survey to identify concerns  our vision for enron to become \"the world\\'s leading company\" Lay It On the Line', 'annex a and option formats for isda & omnibus  info about my fax  did you receive the updated fax? Omnibus format - revisions', \"schedule meeting before phone call  ge conference pre-meeting  meeting before tomorrow Tomorrow's GE phone call/ TODAY's meeting to prepare?\", \"cooperation needed for david grant's team for subpoenas  document gathering team  letter of justice Subpoena Response Team\", 'scheduled office move  moving times during construction  update on office construction and moving Office Construction/Moves', 'february speaker announcement  february speaker announcement  dr. john lienhard: febuary speaker for indo-american chamber Dr. Lienhard- IACCGH February 13th', \"how to reach me today and note including booster chair request  new pager number  today's to do items and my new pager number New Info.\", \"forwarding question from enron's zisman, please answer today  respond today to question from stuart zisman  stuart zisman here at enron stuart.zisman@enron.com, jinsung.myung@enron.com\", 'updating and adapting our employee programs.  upcoming changes in employee programs  details about cancellation of employee programs Program Changes', 'termination of delivery  delivery termination of energy retainer services  termination of energy retainer services Your Subscription to PIRA', 'draft of the master firm/purchase  important: master firm/purchase draft  master firm/purchase/transaction agreement Enfolio Agreement EES and ECS', 'meeting details  first day at enron  will meet you at enron building by 8:40 a.m. Your Schedule for Tuesday, February 5', 'review draft ca for northern border pipeline  review draft for northern border pipeline  northern border pipeline draft Confidentiality Agrmt w/ NBPL', 'updated launch timeline  hard-schott-rodino launch timeline  updated launch timeline Online Launch Plan Update', 'memo review  please review: steve kean memo to ken lay  review memo to ken lay PLEASE REVIEW MEMO', 'dynergy complaint summary against commonwealth edison company  complaint filed against commonwealth edison company  dynegy complaint against commonwealth edison company Dynegy vs. ComEd', 'revised term sheet  revised term sheet edits  revised term sheet instructions Revised SD Warren Term Sheet', 'capital book process information  capital book creation explanation  capital book Capital Book', 'revised draft  per our discussion, sending clean copy of revised draft  revised draft Revised clean draft', 'accessing information on kobra application  changes made to reuters kobra  reuters kobra database changes Reutes Kobra Changes', 'changes to enron email domains & notification of contacts  email domains will be decommissioned  enron decommissioning on friday UPDATE: Supported Internet Email Addresses', 'lexis-nexis basic training  lexis-nexis basics clinic invitation  lexisnexis training Lexis-Nexis Training: Houston & Worldwide / Dow Jones Training', 'pizza on friday  pizza on friday?  dinner invitation for 9/28 Friday Afternoon pizza and refreshments', 'columbia gulf transmission company notice  columbia gulf safety prodecall  fall issue of columbia edge available online CGT - Fall Issue of The Columbia Edge', 'welcoming a new assistant  arrival of kara ausenhus  ena new employee kara ausenhus Welcome new hire: Kara Ausenhus', 'the latest draft of press release  please look over latest draft of jpmorgan/citigroup press release  press release draft changes Draft Bank Release', 'please review, updated disclosure consent agreement  feedback requested re: eol disclosure consent agreement update  updated disclosure consent EOL Disclosure Consent', \"happy birthday sara  happy birthday to you! here's a new orleans update...  confirm plans for thursday Your Birthday\", 'migration plan update coming soon  migration plan change 02/05/2002  **important** ubswe environment update DRAFT:  INFORMATION, Please Read: UBSWE Migration postponed', \"ca assembly  assembly budget and energy bill update  results of last night's assembly California Update--07.24.01\", \"nabisco bidder capacity - vng  **don't forget about nabisco**  nabisco deal VNG-Nabisco\", 'looking for article about nyt  i need your help  nyt dan fessler article Need Some Help', \"next ballast leg's heel quantity  heel quantity for next ballast leg  heel quantity for ballast leg HEEL QUANTITY\", 'intercontinental staffing group  intercontinental staffing group introduction  intercontinental staffing group has openings Intercontinental Staffing Group', 'required by our agreement?  requirement regarding staff?  details about our agreement Resignations of CAED I & II Man. Dir. & Officers', 'equipment operation time frame request  question about title v issue  questioning of the gas processing potential Gomez', 'meeting information  upcoming vepco ppa meeting  meeting on vepco ppa thursday at 3:00 pm VEPCO meeting', 'is there a code to settle against mid-c index?  question re: dow jones mid-c peak index  noticed something interesting on latest index deal Dow Jones Mid-Columbia Index', 'new language for the contract  our proposals for new language on the equity forward confirmations  cannot accept equity forward due to language page 8 Equity Forward Contract', 'assignment and contribution agreement  att: assignment and contribution agreement  attached: assignment and contribution agreement Assignment and Contibution', 'contact for contract settlement  contract settlement update  need contact person for eemc and pge&t settlement EEMC NEPOOL PGE&T', 'group ranking  preliminary group ratings  as promised, group rankings Updated message - Preliminary rankings', 'database will be down  enpower database downtime  down databases EnPower outage', 'energy operations contact list  updated contacts list needed  energy operations holiday contact list vacation plans', 'summary of current cpuc proceedings, pls contact me if needed  re cpuc proceedings and transwestern  summary of curent cpuc proceedings for transwestern CPUC Proceedings', 'please look at attached, need changes by eod wednesday  attachment to look over  please review attached and reply with your suggestions Southern Trails Data Request List', 'cancellation of enron holiday party  holiday celebration  message regarding holiday celebration Holiday Party - Canceled', 'scheduling conflict on may 31  reschedule wednesday meeting to thursday  need to reschedule lunch with you and sally Can we reschedule lunch to another day?', 'meeting your dad  meeting with your dad  meeting your dad at grotto Lunch today', \"adnan's wedding  just checking in  wedding attendance Hi!\", \"master agreement that john want  follow up on john's plan  changes requested by john for the agreement. Santa Fe\", 'meeting with native japanese graduating haas students  meeting with native japanese graduating haas students to discuss career opportunities in japan  needed japanese graduating haas students. CSO - Read only if you are a graduating native Japanese Haas  student', 'gmat review at enron  gmat review course at enron  gmat review course schedule and information GMAT Review available at Enron', 'future correspondence  enroncredit.com documents  follow up from this morning ISDA Master Agreement', 'savings plan deadline  making changes to savings plan administrator- please complete today  deadline regarding your 401k Changes to Savings Plan (401k)', 'consumers enery billing  billing explanation requested  request for description of billing title transfers Consumers Energy', 'nda for @themoment  market manager software  need an nda for @themoment At the Moment', 'attn:new changes within the operational, environmental, safety and social audits of the enron facilities.  corporate public affairs no responsible for all audits  responsibilities transferred to another domain Organizational Announcement', 'gisb contract details  signing of base contract  gisb contract discussion GISB contract with DTE Energy Trading', 'the hearing on thursday morning  proxy sitting in thursday morning  colorado puc hearing Colorado PUC  NOv 1', 'to hunter/cover ltr/attchd resume  interest in joining gas fundamentals  recommendation letters and resume Analyst Rotation - Gas Fundamentals', 'mailbox approaching maximum size limit  mailbox size limits  your mailbox is reaching maximum size limit! WARNING:  Your mailbox is approaching the size limit', 'global contracts for november 2001  global contracts report listings  global contracts group report November 2001 ATE Report', 'access list update  ice forms and access  ice access ICE', 'opportunity to earn extra from home!  get financial freedom by working from home  make cash from home! Are You Living in Debt, Paycheck to Paycheck?2644', 'open ticket remedy report for property attached  open ticket remedy report for property  open ticket remedy report review Property User Group Meeting', 'product approval for trade  need some info re: singapore counterparty trades  are these products approved or restricted for trading with singapore? EnronOnline-Singapore Counterparties', 'enron brand awareness  frank gehry architect exhibition invitation  frank gehry architect exhibition, free for employees Frank Gehry Architect Exhibition', 'new york city marathon details  the new york city marathon  new york city marathon hotel prices NYC Marathon Update', 'executed second amendment to isda has been received and will be distributed  isda master agreement amended  updated amendment to come Bank of America, N.A.', 'enron stock / pg&e details  enron friends  pacific gas and electric company & pg&e Are you okay', \"just checking in  weekend plans?  what's up hi\", 'dwr revised revenue requirement *copy*  dwr revised revenue requirement  dwr revenue requirements DWR Revenue Requirement', 'us warburg energy updated contact list  updated ubs contact list  update contact list for ubs warburg energy operations Revised \"Contact List\" for UBS Warburg Energy Operations -  February, 2001', 'thank you all / contact info & details after next week  my last week in gas fundamentals group  new job update hello', 'thank you  thank you  thanks! i think Thanks.', 'credit work sheet for louisiana pacific corp.  need credit work sheet please  credit worksheet needed for louisiana pacific corp sales agreement Louisiana Pacific Corp.', 'clarification to oom tool which can be used to secure the system  security of the voltage system  tie response Voltage Limits', 'update on owensboro contingent call option  could you speak to robert hunzinger about contingent call option?  update for robert hunzinger regarding status of his contingent Owensboro Municipal Utilities', 'windsor address confirmation  need confirmation on your windsor address  address confirmation needed Confirm Address for Tax Returns', 'touch base re: my upcoming trip  getting together during my london trip  meet-up in london London or Bust', 'my discussions with andrea lang  transition dialogue thoughts  transition for the next 6 weeks Dynegy', 'appointment scheduling with skilling  response to your contact email for mr. murphy.  correspondence received Corporate Executive Services', 'is this same christie patrick?  reference for christie patrick  need reference clarification Message for Bruce M.', 'checking in  checking in today, stay safe  check on loved ones (no subject)', 'analyst & associate recruiting dates  encourage direct reports and managers to participate in analyst & associate recruiting  requesting ena participation of managers:please see information below. URGENT - ENA Associates & Analysts', '\"code\" reports update  code reports  \"code reports\" Bid/Ask', 'commentary to add to the dash  dash investment commentary  additional investment commentary AIG Fund', 'please make change to tab on p&l file before tonight  change your p&l file now  request action on tab on p&l file 2/2001 Interdesk Descriptions in Region File', \"last minute party invitation  sam's birthday party  birthday invitation Sam's Birthday\", 'coo bio  sally beck: new chief operating officer  congratulations to sally on her new role! Organization Announcement', 'updated security tool offers  latest security tools  latest clickathome security tools Important Information About Security & ClickAtHome', 'from kevin: re: trainer blake blackwell/number  contact info you requested  blake blackwell contact information Trainer/Nutritionist', 'pw line deficit  pw line in need of a cure  funding for the pw line LOC update', 'clickathome portal update  clickathome portal version 2.0 available now!  version 2.0 of clickathome portal ClickAtHome Portal is HERE!', 'confidentiality agreement with ameresco  confidentiality agreement with ameresco  new confidentiality agreement Confidentiality agreement', 'lawyer  lawyer referral  counsel reputation Lawyers', 'summer internship opportunities at enron  summer internship  summer internship Rice Student - Summer Internship', 'ubsw energy environment migration  ubsw energy environment tips  ubsw energy environment migration - wednesday, february 6th Quick Tips for the UBSWE migration', 'request for addresses  seeking addresses  address request for my wife Addresses', 'esx engineering introduction  esx engineering  potential business alliance Referred By Jeff Spar (McK - NY)', 'att: kennedy revisions  kennedy revisions  kennedy revisions needing review Kennedy Contracts', 'password applications  please read: launching timeline  updated launch timeline Online Launch Plan Update', 'information on the industry policy task force kick-off meeting  industry policy task force kick-off meeting (rspv)  kick-off meeting initiating Industry Policy Task Force Meeting - May 24', 'meeting with jackie and stephanie  setting up a meeting to talk with you  meeting with us Interviews', 'ena and paribas  paribas account  re-establishment of paribas account Paribas', 'need details on ofos for meeting discussion  possibility of the ferc curbing our ability to use ofos?  discussion items of commission meeting FERC Discussion on OFOs', 'make list of potentials for promotion  list of individuals to promote needed  need list of individuals to promote Promotion Nominee Preparation', 'hr generalist community  livelink answers to employee questions  livelink team update Livelink update', 'employee migration update  employee migration to ubswe delayed  employee migration delay DRAFT:  INFORMATION, Please Read: UBSWE Migration postponed', '20 million provision of mine triggered?  decision on contract payment  ceo payments in light of dynegy merger Change of Control Provisions', 'enron and ubs  enron and ubs asset transition - ployment opportunities  possible job opportunities for ubs employees NETCO Employees at Enron', 'out of office notification  out of the office 10/4-10/8  out of the office Out of the Office', 'message to nesbitt  need more information on case study project  following up with nesbitt Letter to Nesbitt', \"time to transition to responsible energy  requesting your support calif energy policy  support for panel to evaluate california's energy policy Calif energy panle/ new energy policy for US\", 'ceo has elected not to receive provision  changes made in employment contract  will waive employment provision in best interests of employees and shareholders. Change of Control Provisions', 'reschedule of staff meeting  information regarding our ea staff meeting  rescheduling ea staff meeting due to holiday EA Staff Meeting', 'employee relocation & related bankruptcy issues  need assistance relocating employees to home countries  relocation of employees Repatriation', 'gisb image  attaching gisb image for your review  gisb attachment GISB`', 'possible enron gain  address enron rquest  look into gain for enron Information', \"agreement for gulf power transmission  review exhibit a 2 and b  attached: owner's engineer agreement  owner's engineer agreement needing review OE agreement for Station 13\", 'results of cic survey  survey results  survey statistics Results of Internal Communications Survey', 'netco curve files  modify of curve files needed  netco curve files modification requirements Updating Curve Files for Netco Environment', \"attached 2 letters to forward to your vp of gov't affairs  letters for jim staffus  the two letters Enron Security Letters\", 'your mailbox is almost full!  mailbox warning  mailbox - approaching the maximum size limit WARNING:  Your mailbox is approaching the size limit', 'request for institutional account agreement  requesting agreement execution copies  copies of institutional account agreement needed ECT Europe Finance, Inc. (\"ECT Europe\")', 'funeral dates and times  memorial update  funeral information for teesside tragedy victims TEESSIDE POWER STATION -- UPDATE']\n",
            "ROUGE Scores:\n",
            "ROUGE-1 (Recall): {'r': 0.09312657683984338, 'p': 0.31858653311074014, 'f': 0.14091414651801665}\n",
            "ROUGE-2 (Recall): {'r': 0.021489075803585073, 'p': 0.10740122426266008, 'f': 0.035308520795833506}\n",
            "ROUGE-L (Recall): {'r': 0.09001736408122783, 'p': 0.30731775180856985, 'f': 0.13612850689531739}\n"
          ]
        }
      ]
    }
  ]
}