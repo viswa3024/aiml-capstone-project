{
  "nbformat": 4,
  "nbformat_minor": 0,
  "metadata": {
    "colab": {
      "provenance": []
    },
    "kernelspec": {
      "name": "python3",
      "display_name": "Python 3"
    },
    "language_info": {
      "name": "python"
    }
  },
  "cells": [
    {
      "cell_type": "code",
      "source": [
        "!pip install transformers"
      ],
      "metadata": {
        "colab": {
          "base_uri": "https://localhost:8080/"
        },
        "collapsed": true,
        "id": "r4GioPrZurxd",
        "outputId": "55572d74-77a0-43c0-cc02-5d1296756f79"
      },
      "execution_count": 16,
      "outputs": [
        {
          "output_type": "stream",
          "name": "stdout",
          "text": [
            "Requirement already satisfied: transformers in /usr/local/lib/python3.10/dist-packages (4.42.4)\n",
            "Requirement already satisfied: filelock in /usr/local/lib/python3.10/dist-packages (from transformers) (3.15.4)\n",
            "Requirement already satisfied: huggingface-hub<1.0,>=0.23.2 in /usr/local/lib/python3.10/dist-packages (from transformers) (0.23.5)\n",
            "Requirement already satisfied: numpy<2.0,>=1.17 in /usr/local/lib/python3.10/dist-packages (from transformers) (1.25.2)\n",
            "Requirement already satisfied: packaging>=20.0 in /usr/local/lib/python3.10/dist-packages (from transformers) (24.1)\n",
            "Requirement already satisfied: pyyaml>=5.1 in /usr/local/lib/python3.10/dist-packages (from transformers) (6.0.1)\n",
            "Requirement already satisfied: regex!=2019.12.17 in /usr/local/lib/python3.10/dist-packages (from transformers) (2024.5.15)\n",
            "Requirement already satisfied: requests in /usr/local/lib/python3.10/dist-packages (from transformers) (2.32.3)\n",
            "Requirement already satisfied: safetensors>=0.4.1 in /usr/local/lib/python3.10/dist-packages (from transformers) (0.4.3)\n",
            "Requirement already satisfied: tokenizers<0.20,>=0.19 in /usr/local/lib/python3.10/dist-packages (from transformers) (0.19.1)\n",
            "Requirement already satisfied: tqdm>=4.27 in /usr/local/lib/python3.10/dist-packages (from transformers) (4.66.4)\n",
            "Requirement already satisfied: fsspec>=2023.5.0 in /usr/local/lib/python3.10/dist-packages (from huggingface-hub<1.0,>=0.23.2->transformers) (2023.6.0)\n",
            "Requirement already satisfied: typing-extensions>=3.7.4.3 in /usr/local/lib/python3.10/dist-packages (from huggingface-hub<1.0,>=0.23.2->transformers) (4.12.2)\n",
            "Requirement already satisfied: charset-normalizer<4,>=2 in /usr/local/lib/python3.10/dist-packages (from requests->transformers) (3.3.2)\n",
            "Requirement already satisfied: idna<4,>=2.5 in /usr/local/lib/python3.10/dist-packages (from requests->transformers) (3.7)\n",
            "Requirement already satisfied: urllib3<3,>=1.21.1 in /usr/local/lib/python3.10/dist-packages (from requests->transformers) (2.0.7)\n",
            "Requirement already satisfied: certifi>=2017.4.17 in /usr/local/lib/python3.10/dist-packages (from requests->transformers) (2024.7.4)\n"
          ]
        }
      ]
    },
    {
      "cell_type": "code",
      "source": [
        "from transformers import pipeline"
      ],
      "metadata": {
        "id": "JKDrcIcs1DNs"
      },
      "execution_count": 20,
      "outputs": []
    },
    {
      "cell_type": "code",
      "source": [
        "import re"
      ],
      "metadata": {
        "id": "nO8KbSuW2ffJ"
      },
      "execution_count": 21,
      "outputs": []
    },
    {
      "cell_type": "code",
      "source": [
        "#pipe = pipeline(\"summarization\", model=\"bart_summarizer_deploy_v1\")\n",
        "pipe = pipeline(\"summarization\", model=\"kkasiviswanath/bart_summarizer_deploy_v1\")\n",
        "\n",
        "def summarize_email(email_body, pipe):\n",
        "    # Tokenize the input text\n",
        "    input_tokens = pipe.tokenizer(email_body, return_tensors='pt', truncation=False)\n",
        "    input_length = input_tokens['input_ids'].shape[1]\n",
        "\n",
        "    # Adjust max_length to be a certain percentage of the input length\n",
        "    adjusted_max_length = max(3, int(input_length * 0.6))  # Ensure a minimum length\n",
        "    # Generate summary with dynamic max_length\n",
        "    gen_kwargs = {\n",
        "        \"length_penalty\": 2.0,\n",
        "        \"num_beams\": 5,\n",
        "        \"max_length\": adjusted_max_length,\n",
        "        \"min_length\": 3\n",
        "    }\n",
        "\n",
        "    summary = pipe(email_body, **gen_kwargs)[0]['summary_text']\n",
        "    return summary\n",
        "\n",
        "# Generate summaries for the test dataset\n",
        "def generate_summary(text):\n",
        "    email_body = re.sub(r'\\s+', ' ', re.sub(r'[^\\w\\s]', '', text).strip())\n",
        "    summary = summarize_email(email_body, pipe)\n",
        "    return summary\n"
      ],
      "metadata": {
        "id": "fKLlCtCc1v1W"
      },
      "execution_count": 31,
      "outputs": []
    },
    {
      "cell_type": "code",
      "source": [
        "email_text = \"\"\"John,   I am working with Gerald and Debra on implementing a GISB with Tenn. Gas.\n",
        "Currently, we have worked out every detail.\n",
        "Their legal department is reviewing our special provisions and then they are supposed to sign two copies of the agreement and send them to us for final execution.\n",
        "If you have any questions with respect to this Agreement, please do not hesitate to contact me.\n",
        "Best Regards,\"\"\"\n",
        "\n",
        "response = generate_summary(email_text)\n",
        "print(response)"
      ],
      "metadata": {
        "colab": {
          "base_uri": "https://localhost:8080/"
        },
        "id": "9-w5iEDP2u82",
        "outputId": "c9e5701d-c81a-4328-c6ce-44392f98ca3d"
      },
      "execution_count": 32,
      "outputs": [
        {
          "output_type": "stream",
          "name": "stdout",
          "text": [
            "Tenn Gas GISB\n"
          ]
        }
      ]
    },
    {
      "cell_type": "code",
      "source": [
        "email_text = \"\"\"\n",
        "All: Attached you will find a list that reflects your seat assignments for Business Continuity Planning (BCP).\n",
        "These seats are located on the 30th and 31st Floors of Enron Center North (ECN).\n",
        "As previously communicated, you will report to these designated seats in the event of an outage in ECS.\n",
        "The exception to this is as follows: If your seat assignment is located on the 31st Floor, you will report to your original location that you occupied prior to your move into ECS.\n",
        "This will hold true until the Monday after Thanksgiving, as we will have the 31st floor seats set up at that time.\n",
        "Testing: Once you have moved to ECS, if you would like to test your BCP location, you will be able to test your seat for functionality every Thursday from 3-6pm.\n",
        "Testing is not required, but is highly recommended.\n",
        "If anyone has any questions or concerns about these procedures, please feel free to contact me at any time.\n",
        "Regards,\n",
        "\n",
        "@subject\n",
        "BCP Seat Assignments\n",
        "\n",
        "@ann0\n",
        "your seat assignments for business continuity planning (bcp).\n",
        "\n",
        "@ann1\n",
        "bcp seat assignments\n",
        "\n",
        "@ann2\n",
        "here are your seat assignments for the business continuity planning event\n",
        "\"\"\"\n",
        "\n",
        "response = generate_summary(email_text)\n",
        "print(response)"
      ],
      "metadata": {
        "colab": {
          "base_uri": "https://localhost:8080/"
        },
        "id": "TNMyADs8oISd",
        "outputId": "a7bae604-dc70-4956-cf27-02af59ab9d38"
      },
      "execution_count": 33,
      "outputs": [
        {
          "output_type": "stream",
          "name": "stdout",
          "text": [
            "Business Continuity Planning (BCP) Seats\n"
          ]
        }
      ]
    },
    {
      "cell_type": "code",
      "source": [
        "email_text = \"The following reports have been waiting for your approval for more than 4 days.Please review.Owner: James W Reitmeyer Report Name: JReitmeyer 10/24/01 Days In Mgr.Queue: 5\"\n",
        "\n",
        "response = generate_summary(email_text)\n",
        "print(response)"
      ],
      "metadata": {
        "colab": {
          "base_uri": "https://localhost:8080/"
        },
        "id": "dAsDx5IMoId6",
        "outputId": "77895947-192a-49e2-db63-4c758ab2ce64"
      },
      "execution_count": 34,
      "outputs": [
        {
          "output_type": "stream",
          "name": "stdout",
          "text": [
            "Expense Reports Awaiting Your Approval\n"
          ]
        }
      ]
    },
    {
      "cell_type": "code",
      "source": [
        "email_text = \"All,  The below Analyst & Associate recruiting dates require ENA participation at Manager level at above.In order to resource each of your departments it is important to have ENA's involvement and participation in the interviews and debrief sessions on Fantastic Friday and Super Saturday events.These de-brief sessions will allow you the opportunity to select candidates you wish to join your groups.The target  is to assign potential candidates to business units and departments from the outset.As ENA has the highest percentage of A&A rotating in its business unit, the participation of ENA at interview should reflect this.Therefore, please encourage your direct reports and managers to participate in the below events in order to secure candidates for your business area.Associate Recruiting:\t\tSaturday November 3\t\t\t\t\t\tTotal - 70 Candidates for Interview Analyst Recruiting:\t\tFriday, November 16\t\t\t\t\t\tTotal - 70 Candidates for Interivew Associate Recruiting:\t\tSaturday, December 1\t\t\t\t\t\tTotal - 70 Candidates for Interview  The above spreadsheet represents ENA's particpation today which I believe highlights the need for much additional support in these efforts.Please confirm by return participation of your respective groups.Regards,\"\n",
        "\n",
        "response = generate_summary(email_text)\n",
        "print(response)"
      ],
      "metadata": {
        "colab": {
          "base_uri": "https://localhost:8080/"
        },
        "id": "AkfOGM7-oe-q",
        "outputId": "a5adaa04-93be-413c-b364-16b1aea7fb53"
      },
      "execution_count": 35,
      "outputs": [
        {
          "output_type": "stream",
          "name": "stdout",
          "text": [
            "Recruiting for Analysts and Associates\n"
          ]
        }
      ]
    },
    {
      "cell_type": "code",
      "source": [
        "email_text = \"Late on October 25th, we received information about a nonspecific threat to the Enron Center.We communicated with law enforcement officials who found the threat unsubstantiated and without merit.Nonetheless we take all threats seriously and have increased the security presence at the Enron Center still further.Once again, if you observe suspicious behavior, please call security at 3-6200.\"\n",
        "\n",
        "response = generate_summary(email_text)\n",
        "print(response)"
      ],
      "metadata": {
        "colab": {
          "base_uri": "https://localhost:8080/"
        },
        "id": "puaoYdOConL6",
        "outputId": "463ce769-9234-4dcd-abe2-82f5d248069f"
      },
      "execution_count": 27,
      "outputs": [
        {
          "output_type": "stream",
          "name": "stdout",
          "text": [
            "Enron Center Security Update\n"
          ]
        }
      ]
    },
    {
      "cell_type": "code",
      "source": [
        "email_text = \"Thanks in advance for agreeing to speak at the Global Operations Controller  Forum.There will be approximately 30 Enron business controllers present at  the meeting.All have responsibility for mid and back office operations for  the following Enron entities:  Enron North America, Enron Europe, Enron South  America, Enron Global Markets, Enron Industrial Markets, Enron Broadband  Services and Enron Energy Services.Attendees will be here from Houston,  Calgary, Tokyo, Sydney, London and New York (metals business).Attached for your reference is the agenda.There may be some slight changes  before the forum begins, but this will give you a good idea of the topics to  be covered and the other speakers who will address the group.You are scheduled to address the group as follows:\"\n",
        "\n",
        "response = generate_summary(email_text)\n",
        "print(response)"
      ],
      "metadata": {
        "colab": {
          "base_uri": "https://localhost:8080/"
        },
        "id": "E7OJv6Mqoua0",
        "outputId": "e642397d-be88-429f-adf6-1751263dd1b0"
      },
      "execution_count": 28,
      "outputs": [
        {
          "output_type": "stream",
          "name": "stdout",
          "text": [
            "Global Operations Controller Forum Agenda\n"
          ]
        }
      ]
    },
    {
      "cell_type": "code",
      "source": [
        "email_text = \"To confirm:  Mark Thomas Mike Presley  both previously on the list for Netco's Market Risk/Research Group have resigned.I'm combing the Estate for replacements.DP\"\n",
        "\n",
        "response = generate_summary(email_text)\n",
        "print(response)"
      ],
      "metadata": {
        "colab": {
          "base_uri": "https://localhost:8080/"
        },
        "id": "ZdvTPyr2o0ix",
        "outputId": "3ed21462-b390-4998-f551-0ae575ff0678"
      },
      "execution_count": 29,
      "outputs": [
        {
          "output_type": "stream",
          "name": "stdout",
          "text": [
            "Market Risk Research Group\n"
          ]
        }
      ]
    },
    {
      "cell_type": "code",
      "source": [
        "email_text = \"Michelle;  This is the presentation which was provided to the HR VP's.The HR VPs were tasked with going off to met their BU OTCs and devise plans around the three components.We are currently collating those plans into one document.We'll send that along to you when completed.Pls call if you have any questions.\"\n",
        "\n",
        "response = generate_summary(email_text)\n",
        "print(response)"
      ],
      "metadata": {
        "colab": {
          "base_uri": "https://localhost:8080/"
        },
        "id": "yUxM7rbso6ZT",
        "outputId": "8d6b8868-5f79-49dc-b52c-96ba7cd13dfe"
      },
      "execution_count": 30,
      "outputs": [
        {
          "output_type": "stream",
          "name": "stdout",
          "text": [
            "Presentation to HR VP's\n"
          ]
        }
      ]
    }
  ]
}